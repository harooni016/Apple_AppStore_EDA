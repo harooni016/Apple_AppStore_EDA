{
 "cells": [
  {
   "cell_type": "markdown",
   "id": "c21793d4",
   "metadata": {
    "papermill": {
     "duration": 0.029341,
     "end_time": "2023-08-18T05:27:15.881504",
     "exception": false,
     "start_time": "2023-08-18T05:27:15.852163",
     "status": "completed"
    },
    "tags": []
   },
   "source": [
    "# 1.0 About Author\n",
    "\n",
    "Author: Haroon Sajid\n",
    "<br>Project: Apple AppStore Data\n",
    "<br>Submission Date: 18-08-2023\n",
    "<br>Author's Contact Info:\n",
    "\n",
    "[Email](harooni0016@gmail.com)\n",
    "<br>[Github](https://github.com/harooni016)\n",
    "<br>[Linkden](https://www.linkedin.com/in/haroon-sajid)\n",
    "<br>[X_Twitter](https://twitter.com/harooni016)"
   ]
  },
  {
   "cell_type": "markdown",
   "id": "7cf672d1",
   "metadata": {
    "papermill": {
     "duration": 0.028434,
     "end_time": "2023-08-18T05:27:15.939840",
     "exception": false,
     "start_time": "2023-08-18T05:27:15.911406",
     "status": "completed"
    },
    "tags": []
   },
   "source": [
    "# 2.0 About DataSet\n",
    "\n",
    "- DataSet: Apple AppStore Apps (1.2 Million+ App Data)\n",
    "- Data Collection: The data was collected in the month of October 2021.\n",
    "- Data Author: [Click Here](https://www.kaggle.com/datasets/gauthamp10/apple-appstore-apps?datasetId=1647105)\n",
    "- Inspirations: [Click Here](https://www.kaggle.com/code/azambukhari/appleeda)"
   ]
  },
  {
   "cell_type": "markdown",
   "id": "7cc7c9ed",
   "metadata": {
    "papermill": {
     "duration": 0.028356,
     "end_time": "2023-08-18T05:27:15.997026",
     "exception": false,
     "start_time": "2023-08-18T05:27:15.968670",
     "status": "completed"
    },
    "tags": []
   },
   "source": [
    "### 2.1 Kernel Version Used:\n",
    "\n",
    "3.11.4"
   ]
  },
  {
   "cell_type": "markdown",
   "id": "472a752c",
   "metadata": {
    "papermill": {
     "duration": 0.038219,
     "end_time": "2023-08-18T05:27:16.065250",
     "exception": false,
     "start_time": "2023-08-18T05:27:16.027031",
     "status": "completed"
    },
    "tags": []
   },
   "source": [
    "### 2.2 Task Context :\n",
    "\n",
    "We aim to conduct an Exploratory Data Analysis (EDA) on the given dataset. The EDA will help us to identify any problems with the data, such as Data Wrangling activities to be carried out for the purposes of data cleaning, detect outliers and normalization. During the coding process,we will use statistical methods and visualizations to explore the data. Ultimately, we will produce a summary and draw conclusions from our findings"
   ]
  },
  {
   "cell_type": "markdown",
   "id": "164fe52a",
   "metadata": {
    "papermill": {
     "duration": 0.03222,
     "end_time": "2023-08-18T05:27:16.131073",
     "exception": false,
     "start_time": "2023-08-18T05:27:16.098853",
     "status": "completed"
    },
    "tags": []
   },
   "source": [
    "### 2.3 Objectives:\n",
    "\n",
    "Here are the key objectives of the project:\n",
    "- The purpose of this project is to conduct analysis of the dataset to identify significant insights.\n",
    "- The project aims to Indicate the developers and other stakeholders who make decisions about the product.\n",
    "- To achieve its goal, the project needs to identify the steps involved and what customers want.\n",
    "- This will assist in driving more business towards their upcoming applications.\n",
    "<br>By following these objectives from the Apple AppStore Apps Data, we can help app developers and marketers to make informed decisions and improve their app development and marketing strategies."
   ]
  },
  {
   "cell_type": "markdown",
   "id": "24294303",
   "metadata": {
    "papermill": {
     "duration": 0.031846,
     "end_time": "2023-08-18T05:27:16.199799",
     "exception": false,
     "start_time": "2023-08-18T05:27:16.167953",
     "status": "completed"
    },
    "tags": []
   },
   "source": [
    "### 2.4 About Apple AppStore Apps\n",
    "\n",
    "The Apple AppStore Apps Data is a dataset that contains information about the apps available on the Apple App Store. This dataset includes various attributes of the apps such as the app name, category, price, user ratings, reviews, and other relevant information. In this notebook,  we will fetch the `Most popular app categories`,`Top app developer companies`,`Distribution of apps`,`User ratings and reviews`,`Pricing trends`,`Content rating for age groups`, etc from this data and app developers can improve their apps and provide a better user experience."
   ]
  },
  {
   "cell_type": "markdown",
   "id": "c68b8b05",
   "metadata": {
    "papermill": {
     "duration": 0.02824,
     "end_time": "2023-08-18T05:27:16.260155",
     "exception": false,
     "start_time": "2023-08-18T05:27:16.231915",
     "status": "completed"
    },
    "tags": []
   },
   "source": [
    "### 2.5 Column Description\n",
    "#### Here are the descriptions of the columns of the given dataset:\n",
    "\n",
    "- `App_Id:` A unique identifier for each app in the dataset.\n",
    "- `App_Name:` The name of the app.\n",
    "- `AppStore_Url:` The URL of the app in the app store.\n",
    "- `Primary_Genre:` The primary genre of the app.\n",
    "- `Content_Rating:` The content rating that describe the minimum maturity level of content in apps.\n",
    "- `Size_Bytes:` The size of the app in bytes.\n",
    "- `Required_IOS_Version:` The minimum version of iOS required to run the app.\n",
    "- `Released:` The date when the app was released.\n",
    "- `Updated:` The date when the app was last updated.\n",
    "- `Version:` The version number of the app.\n",
    "- `Price:` The price of the app.\n",
    "- `Currency:` The currency in which the price is listed.\n",
    "- `Free:` A boolean value indicating whether the app is free or paid.\n",
    "- `DeveloperId:` A unique identifier for the developer of the app.\n",
    "- `Developer:` The name of the developer of the app.\n",
    "- `Developer_Url:` The URL of the developer's page in the app store.\n",
    "- `Developer_Website:` The website of the app developer.\n",
    "- `Average_User_Rating:` The average user rating of the app.\n",
    "- `Reviews:` The user feedbacks or reviews, to indicate its quality and user satisfaction for app.\n",
    "- `Current_Version_Score:` The current version score of the app.\n",
    "- `Current_Version_Reviews`: The number of reviews for the current version of the app.\n",
    "- Note that these descriptions are based on the columns present in the dataset used for the EDA analysis."
   ]
  },
  {
   "cell_type": "markdown",
   "id": "222e117b",
   "metadata": {
    "execution": {
     "iopub.execute_input": "2023-08-17T15:41:36.788197Z",
     "iopub.status.busy": "2023-08-17T15:41:36.787734Z",
     "iopub.status.idle": "2023-08-17T15:41:36.798534Z",
     "shell.execute_reply": "2023-08-17T15:41:36.796430Z",
     "shell.execute_reply.started": "2023-08-17T15:41:36.788162Z"
    },
    "papermill": {
     "duration": 0.028315,
     "end_time": "2023-08-18T05:27:16.317115",
     "exception": false,
     "start_time": "2023-08-18T05:27:16.288800",
     "status": "completed"
    },
    "tags": []
   },
   "source": [
    "# 3.0 Importing Libraries\n",
    "In this section, We will be importing the necessary libraries and explaining their roles in this project.\n",
    "- Numpy: Numerical computing library.\n",
    "- Pandas: Data manipulation and analysis library.\n",
    "- Matplotlib: Data visualization library.\n",
    "- Seaborn: Statistical data visualization library.\n",
    "- Scipy: For scientific and technical computing in Python."
   ]
  },
  {
   "cell_type": "code",
   "execution_count": 2,
   "id": "f2788ccc",
   "metadata": {
    "execution": {
     "iopub.execute_input": "2023-08-18T05:27:16.376490Z",
     "iopub.status.busy": "2023-08-18T05:27:16.375971Z",
     "iopub.status.idle": "2023-08-18T05:27:17.887829Z",
     "shell.execute_reply": "2023-08-18T05:27:17.886607Z"
    },
    "papermill": {
     "duration": 1.544799,
     "end_time": "2023-08-18T05:27:17.890470",
     "exception": false,
     "start_time": "2023-08-18T05:27:16.345671",
     "status": "completed"
    },
    "tags": []
   },
   "outputs": [],
   "source": [
    "#Load libraries\n",
    "import pandas as pd\n",
    "import numpy as np\n",
    "\n",
    "#visualization libraris\n",
    "import matplotlib.pyplot as plt\n",
    "import seaborn as sns\n",
    "\n",
    "#scientific and mathematical library\n",
    "import scipy as sp"
   ]
  },
  {
   "cell_type": "markdown",
   "id": "22445401",
   "metadata": {
    "papermill": {
     "duration": 0.030198,
     "end_time": "2023-08-18T05:27:17.949728",
     "exception": false,
     "start_time": "2023-08-18T05:27:17.919530",
     "status": "completed"
    },
    "tags": []
   },
   "source": [
    "# 4.0 Loading Dataset\n",
    "In this section, We will be import AppleApps dataset "
   ]
  },
  {
   "cell_type": "code",
   "execution_count": 4,
   "id": "fcf9ff6c",
   "metadata": {
    "execution": {
     "iopub.execute_input": "2023-08-18T05:27:18.010506Z",
     "iopub.status.busy": "2023-08-18T05:27:18.009827Z",
     "iopub.status.idle": "2023-08-18T05:27:34.681277Z",
     "shell.execute_reply": "2023-08-18T05:27:34.679748Z"
    },
    "papermill": {
     "duration": 16.704928,
     "end_time": "2023-08-18T05:27:34.683968",
     "exception": false,
     "start_time": "2023-08-18T05:27:17.979040",
     "status": "completed"
    },
    "tags": []
   },
   "outputs": [],
   "source": [
    "#Load dataset\n",
    "df = pd.read_csv('/kaggle/input/apple-appstore-apps/appleAppData.csv')"
   ]
  },
  {
   "cell_type": "markdown",
   "id": "86db94b9",
   "metadata": {
    "papermill": {
     "duration": 0.028428,
     "end_time": "2023-08-18T05:27:34.741739",
     "exception": false,
     "start_time": "2023-08-18T05:27:34.713311",
     "status": "completed"
    },
    "tags": []
   },
   "source": [
    "This following code snippet helps you get a complete overview of your dataset by adjusting a key display setting in Pandas.By using this line of code, you can ensure that you have a complete overview of your data and can make informed decisions when working with dataframes"
   ]
  },
  {
   "cell_type": "code",
   "execution_count": 3,
   "id": "ab3f1e6c",
   "metadata": {
    "execution": {
     "iopub.execute_input": "2023-08-18T05:27:34.800965Z",
     "iopub.status.busy": "2023-08-18T05:27:34.800553Z",
     "iopub.status.idle": "2023-08-18T05:27:34.805218Z",
     "shell.execute_reply": "2023-08-18T05:27:34.804032Z"
    },
    "papermill": {
     "duration": 0.036909,
     "end_time": "2023-08-18T05:27:34.807225",
     "exception": false,
     "start_time": "2023-08-18T05:27:34.770316",
     "status": "completed"
    },
    "tags": []
   },
   "outputs": [],
   "source": [
    "#To show all columns of DataFrame \n",
    "pd.set_option('display.max_columns', None)"
   ]
  },
  {
   "cell_type": "markdown",
   "id": "d204ffa9",
   "metadata": {
    "papermill": {
     "duration": 0.028979,
     "end_time": "2023-08-18T05:27:34.864941",
     "exception": false,
     "start_time": "2023-08-18T05:27:34.835962",
     "status": "completed"
    },
    "tags": []
   },
   "source": [
    "### 4.1 Explore your data at a glance\n",
    "- Get a quick overview of your dataset with a single line of code.\n",
    "- Preview the first few rows of your data to get started.\n",
    "- See what your data looks like without having to load the entire file.\n",
    "- Get a sense of the shape and structure of your data with a simple command."
   ]
  },
  {
   "cell_type": "code",
   "execution_count": 4,
   "id": "7489f961",
   "metadata": {
    "execution": {
     "iopub.execute_input": "2023-08-18T05:27:34.925503Z",
     "iopub.status.busy": "2023-08-18T05:27:34.925079Z",
     "iopub.status.idle": "2023-08-18T05:27:34.958454Z",
     "shell.execute_reply": "2023-08-18T05:27:34.957632Z"
    },
    "papermill": {
     "duration": 0.066052,
     "end_time": "2023-08-18T05:27:34.960484",
     "exception": false,
     "start_time": "2023-08-18T05:27:34.894432",
     "status": "completed"
    },
    "tags": []
   },
   "outputs": [
    {
     "data": {
      "text/html": [
       "<div>\n",
       "<style scoped>\n",
       "    .dataframe tbody tr th:only-of-type {\n",
       "        vertical-align: middle;\n",
       "    }\n",
       "\n",
       "    .dataframe tbody tr th {\n",
       "        vertical-align: top;\n",
       "    }\n",
       "\n",
       "    .dataframe thead th {\n",
       "        text-align: right;\n",
       "    }\n",
       "</style>\n",
       "<table border=\"1\" class=\"dataframe\">\n",
       "  <thead>\n",
       "    <tr style=\"text-align: right;\">\n",
       "      <th></th>\n",
       "      <th>App_Id</th>\n",
       "      <th>App_Name</th>\n",
       "      <th>AppStore_Url</th>\n",
       "      <th>Primary_Genre</th>\n",
       "      <th>Content_Rating</th>\n",
       "      <th>Size_Bytes</th>\n",
       "      <th>Required_IOS_Version</th>\n",
       "      <th>Released</th>\n",
       "      <th>Updated</th>\n",
       "      <th>Version</th>\n",
       "      <th>Price</th>\n",
       "      <th>Currency</th>\n",
       "      <th>Free</th>\n",
       "      <th>DeveloperId</th>\n",
       "      <th>Developer</th>\n",
       "      <th>Developer_Url</th>\n",
       "      <th>Developer_Website</th>\n",
       "      <th>Average_User_Rating</th>\n",
       "      <th>Reviews</th>\n",
       "      <th>Current_Version_Score</th>\n",
       "      <th>Current_Version_Reviews</th>\n",
       "    </tr>\n",
       "  </thead>\n",
       "  <tbody>\n",
       "    <tr>\n",
       "      <th>0</th>\n",
       "      <td>com.hkbu.arc.apaper</td>\n",
       "      <td>A+ Paper Guide</td>\n",
       "      <td>https://apps.apple.com/us/app/a-paper-guide/id...</td>\n",
       "      <td>Education</td>\n",
       "      <td>4+</td>\n",
       "      <td>21993472.0</td>\n",
       "      <td>8.0</td>\n",
       "      <td>2017-09-28T03:02:41Z</td>\n",
       "      <td>2018-12-21T21:30:36Z</td>\n",
       "      <td>1.1.2</td>\n",
       "      <td>0.00</td>\n",
       "      <td>USD</td>\n",
       "      <td>True</td>\n",
       "      <td>1375410542</td>\n",
       "      <td>HKBU ARC</td>\n",
       "      <td>https://apps.apple.com/us/developer/hkbu-arc/i...</td>\n",
       "      <td>NaN</td>\n",
       "      <td>0.0</td>\n",
       "      <td>0</td>\n",
       "      <td>0.0</td>\n",
       "      <td>0</td>\n",
       "    </tr>\n",
       "    <tr>\n",
       "      <th>1</th>\n",
       "      <td>com.dmitriev.abooks</td>\n",
       "      <td>A-Books</td>\n",
       "      <td>https://apps.apple.com/us/app/a-books/id103157...</td>\n",
       "      <td>Book</td>\n",
       "      <td>4+</td>\n",
       "      <td>13135872.0</td>\n",
       "      <td>10.0</td>\n",
       "      <td>2015-08-31T19:31:32Z</td>\n",
       "      <td>2019-07-23T20:31:09Z</td>\n",
       "      <td>1.3</td>\n",
       "      <td>0.00</td>\n",
       "      <td>USD</td>\n",
       "      <td>True</td>\n",
       "      <td>1031572001</td>\n",
       "      <td>Roman Dmitriev</td>\n",
       "      <td>https://apps.apple.com/us/developer/roman-dmit...</td>\n",
       "      <td>NaN</td>\n",
       "      <td>5.0</td>\n",
       "      <td>1</td>\n",
       "      <td>5.0</td>\n",
       "      <td>1</td>\n",
       "    </tr>\n",
       "    <tr>\n",
       "      <th>2</th>\n",
       "      <td>no.terp.abooks</td>\n",
       "      <td>A-books</td>\n",
       "      <td>https://apps.apple.com/us/app/a-books/id145702...</td>\n",
       "      <td>Book</td>\n",
       "      <td>4+</td>\n",
       "      <td>21943296.0</td>\n",
       "      <td>9.0</td>\n",
       "      <td>2021-04-14T07:00:00Z</td>\n",
       "      <td>2021-05-30T21:08:54Z</td>\n",
       "      <td>1.3.1</td>\n",
       "      <td>0.00</td>\n",
       "      <td>USD</td>\n",
       "      <td>True</td>\n",
       "      <td>1457024163</td>\n",
       "      <td>Terp AS</td>\n",
       "      <td>https://apps.apple.com/us/developer/terp-as/id...</td>\n",
       "      <td>NaN</td>\n",
       "      <td>0.0</td>\n",
       "      <td>0</td>\n",
       "      <td>0.0</td>\n",
       "      <td>0</td>\n",
       "    </tr>\n",
       "    <tr>\n",
       "      <th>3</th>\n",
       "      <td>fr.antoinettefleur.Book1</td>\n",
       "      <td>A-F Book #1</td>\n",
       "      <td>https://apps.apple.com/us/app/a-f-book-1/id500...</td>\n",
       "      <td>Book</td>\n",
       "      <td>4+</td>\n",
       "      <td>81851392.0</td>\n",
       "      <td>8.0</td>\n",
       "      <td>2012-02-10T03:40:07Z</td>\n",
       "      <td>2019-10-29T12:40:37Z</td>\n",
       "      <td>1.2</td>\n",
       "      <td>2.99</td>\n",
       "      <td>USD</td>\n",
       "      <td>False</td>\n",
       "      <td>439568839</td>\n",
       "      <td>i-editeur.com</td>\n",
       "      <td>https://apps.apple.com/us/developer/i-editeur-...</td>\n",
       "      <td>NaN</td>\n",
       "      <td>0.0</td>\n",
       "      <td>0</td>\n",
       "      <td>0.0</td>\n",
       "      <td>0</td>\n",
       "    </tr>\n",
       "    <tr>\n",
       "      <th>4</th>\n",
       "      <td>com.imonstersoft.azdictionaryios</td>\n",
       "      <td>A-Z Synonyms Dictionary</td>\n",
       "      <td>https://apps.apple.com/us/app/a-z-synonyms-dic...</td>\n",
       "      <td>Reference</td>\n",
       "      <td>4+</td>\n",
       "      <td>64692224.0</td>\n",
       "      <td>9.0</td>\n",
       "      <td>2020-12-16T08:00:00Z</td>\n",
       "      <td>2020-12-18T21:36:11Z</td>\n",
       "      <td>1.0.1</td>\n",
       "      <td>0.00</td>\n",
       "      <td>USD</td>\n",
       "      <td>True</td>\n",
       "      <td>656731821</td>\n",
       "      <td>Ngov chiheang</td>\n",
       "      <td>https://apps.apple.com/us/developer/ngov-chihe...</td>\n",
       "      <td>http://imonstersoft.com</td>\n",
       "      <td>0.0</td>\n",
       "      <td>0</td>\n",
       "      <td>0.0</td>\n",
       "      <td>0</td>\n",
       "    </tr>\n",
       "  </tbody>\n",
       "</table>\n",
       "</div>"
      ],
      "text/plain": [
       "                             App_Id                 App_Name  \\\n",
       "0               com.hkbu.arc.apaper           A+ Paper Guide   \n",
       "1               com.dmitriev.abooks                  A-Books   \n",
       "2                    no.terp.abooks                  A-books   \n",
       "3          fr.antoinettefleur.Book1              A-F Book #1   \n",
       "4  com.imonstersoft.azdictionaryios  A-Z Synonyms Dictionary   \n",
       "\n",
       "                                        AppStore_Url Primary_Genre  \\\n",
       "0  https://apps.apple.com/us/app/a-paper-guide/id...     Education   \n",
       "1  https://apps.apple.com/us/app/a-books/id103157...          Book   \n",
       "2  https://apps.apple.com/us/app/a-books/id145702...          Book   \n",
       "3  https://apps.apple.com/us/app/a-f-book-1/id500...          Book   \n",
       "4  https://apps.apple.com/us/app/a-z-synonyms-dic...     Reference   \n",
       "\n",
       "  Content_Rating  Size_Bytes Required_IOS_Version              Released  \\\n",
       "0             4+  21993472.0                  8.0  2017-09-28T03:02:41Z   \n",
       "1             4+  13135872.0                 10.0  2015-08-31T19:31:32Z   \n",
       "2             4+  21943296.0                  9.0  2021-04-14T07:00:00Z   \n",
       "3             4+  81851392.0                  8.0  2012-02-10T03:40:07Z   \n",
       "4             4+  64692224.0                  9.0  2020-12-16T08:00:00Z   \n",
       "\n",
       "                Updated Version  Price Currency   Free  DeveloperId  \\\n",
       "0  2018-12-21T21:30:36Z   1.1.2   0.00      USD   True   1375410542   \n",
       "1  2019-07-23T20:31:09Z     1.3   0.00      USD   True   1031572001   \n",
       "2  2021-05-30T21:08:54Z   1.3.1   0.00      USD   True   1457024163   \n",
       "3  2019-10-29T12:40:37Z     1.2   2.99      USD  False    439568839   \n",
       "4  2020-12-18T21:36:11Z   1.0.1   0.00      USD   True    656731821   \n",
       "\n",
       "        Developer                                      Developer_Url  \\\n",
       "0        HKBU ARC  https://apps.apple.com/us/developer/hkbu-arc/i...   \n",
       "1  Roman Dmitriev  https://apps.apple.com/us/developer/roman-dmit...   \n",
       "2         Terp AS  https://apps.apple.com/us/developer/terp-as/id...   \n",
       "3   i-editeur.com  https://apps.apple.com/us/developer/i-editeur-...   \n",
       "4   Ngov chiheang  https://apps.apple.com/us/developer/ngov-chihe...   \n",
       "\n",
       "         Developer_Website  Average_User_Rating  Reviews  \\\n",
       "0                      NaN                  0.0        0   \n",
       "1                      NaN                  5.0        1   \n",
       "2                      NaN                  0.0        0   \n",
       "3                      NaN                  0.0        0   \n",
       "4  http://imonstersoft.com                  0.0        0   \n",
       "\n",
       "   Current_Version_Score  Current_Version_Reviews  \n",
       "0                    0.0                        0  \n",
       "1                    5.0                        1  \n",
       "2                    0.0                        0  \n",
       "3                    0.0                        0  \n",
       "4                    0.0                        0  "
      ]
     },
     "execution_count": 4,
     "metadata": {},
     "output_type": "execute_result"
    }
   ],
   "source": [
    "df.head()"
   ]
  },
  {
   "cell_type": "markdown",
   "id": "96fa01e5",
   "metadata": {
    "papermill": {
     "duration": 0.029624,
     "end_time": "2023-08-18T05:27:35.019407",
     "exception": false,
     "start_time": "2023-08-18T05:27:34.989783",
     "status": "completed"
    },
    "tags": []
   },
   "source": [
    "# 5.0 Basic Structure"
   ]
  },
  {
   "cell_type": "code",
   "execution_count": 5,
   "id": "3275b687",
   "metadata": {
    "execution": {
     "iopub.execute_input": "2023-08-18T05:27:35.079539Z",
     "iopub.status.busy": "2023-08-18T05:27:35.079130Z",
     "iopub.status.idle": "2023-08-18T05:27:35.084915Z",
     "shell.execute_reply": "2023-08-18T05:27:35.084159Z"
    },
    "papermill": {
     "duration": 0.038116,
     "end_time": "2023-08-18T05:27:35.086782",
     "exception": false,
     "start_time": "2023-08-18T05:27:35.048666",
     "status": "completed"
    },
    "tags": []
   },
   "outputs": [
    {
     "data": {
      "text/plain": [
       "(1230376, 21)"
      ]
     },
     "execution_count": 5,
     "metadata": {},
     "output_type": "execute_result"
    }
   ],
   "source": [
    "#Lets See the shape of dataset\n",
    "df.shape"
   ]
  },
  {
   "cell_type": "markdown",
   "id": "f898e450",
   "metadata": {
    "papermill": {
     "duration": 0.029298,
     "end_time": "2023-08-18T05:27:35.145620",
     "exception": false,
     "start_time": "2023-08-18T05:27:35.116322",
     "status": "completed"
    },
    "tags": []
   },
   "source": [
    "The dataframe has 1230376 rows and 21 columns"
   ]
  },
  {
   "cell_type": "code",
   "execution_count": 6,
   "id": "ce9671a0",
   "metadata": {
    "execution": {
     "iopub.execute_input": "2023-08-18T05:27:35.208998Z",
     "iopub.status.busy": "2023-08-18T05:27:35.208293Z",
     "iopub.status.idle": "2023-08-18T05:27:35.214218Z",
     "shell.execute_reply": "2023-08-18T05:27:35.213494Z"
    },
    "papermill": {
     "duration": 0.038869,
     "end_time": "2023-08-18T05:27:35.216061",
     "exception": false,
     "start_time": "2023-08-18T05:27:35.177192",
     "status": "completed"
    },
    "scrolled": true,
    "tags": []
   },
   "outputs": [
    {
     "data": {
      "text/plain": [
       "Index(['App_Id', 'App_Name', 'AppStore_Url', 'Primary_Genre', 'Content_Rating',\n",
       "       'Size_Bytes', 'Required_IOS_Version', 'Released', 'Updated', 'Version',\n",
       "       'Price', 'Currency', 'Free', 'DeveloperId', 'Developer',\n",
       "       'Developer_Url', 'Developer_Website', 'Average_User_Rating', 'Reviews',\n",
       "       'Current_Version_Score', 'Current_Version_Reviews'],\n",
       "      dtype='object')"
      ]
     },
     "execution_count": 6,
     "metadata": {},
     "output_type": "execute_result"
    }
   ],
   "source": [
    "#Lets See the column names in Apple AppStore Dataset by using df.columns\n",
    "df.columns"
   ]
  },
  {
   "cell_type": "code",
   "execution_count": 7,
   "id": "fc6dd641",
   "metadata": {
    "execution": {
     "iopub.execute_input": "2023-08-18T05:27:35.276970Z",
     "iopub.status.busy": "2023-08-18T05:27:35.276180Z",
     "iopub.status.idle": "2023-08-18T05:27:37.713690Z",
     "shell.execute_reply": "2023-08-18T05:27:37.712466Z"
    },
    "papermill": {
     "duration": 2.470636,
     "end_time": "2023-08-18T05:27:37.715948",
     "exception": false,
     "start_time": "2023-08-18T05:27:35.245312",
     "status": "completed"
    },
    "tags": []
   },
   "outputs": [
    {
     "name": "stdout",
     "output_type": "stream",
     "text": [
      "<class 'pandas.core.frame.DataFrame'>\n",
      "RangeIndex: 1230376 entries, 0 to 1230375\n",
      "Data columns (total 21 columns):\n",
      " #   Column                   Non-Null Count    Dtype  \n",
      "---  ------                   --------------    -----  \n",
      " 0   App_Id                   1230376 non-null  object \n",
      " 1   App_Name                 1230375 non-null  object \n",
      " 2   AppStore_Url             1230376 non-null  object \n",
      " 3   Primary_Genre            1230376 non-null  object \n",
      " 4   Content_Rating           1230376 non-null  object \n",
      " 5   Size_Bytes               1230152 non-null  float64\n",
      " 6   Required_IOS_Version     1230376 non-null  object \n",
      " 7   Released                 1230373 non-null  object \n",
      " 8   Updated                  1230376 non-null  object \n",
      " 9   Version                  1230376 non-null  object \n",
      " 10  Price                    1229886 non-null  float64\n",
      " 11  Currency                 1230376 non-null  object \n",
      " 12  Free                     1230376 non-null  bool   \n",
      " 13  DeveloperId              1230376 non-null  int64  \n",
      " 14  Developer                1230376 non-null  object \n",
      " 15  Developer_Url            1229267 non-null  object \n",
      " 16  Developer_Website        586388 non-null   object \n",
      " 17  Average_User_Rating      1230376 non-null  float64\n",
      " 18  Reviews                  1230376 non-null  int64  \n",
      " 19  Current_Version_Score    1230376 non-null  float64\n",
      " 20  Current_Version_Reviews  1230376 non-null  int64  \n",
      "dtypes: bool(1), float64(4), int64(3), object(13)\n",
      "memory usage: 188.9+ MB\n"
     ]
    }
   ],
   "source": [
    "#info about our dataset\n",
    "df.info()"
   ]
  },
  {
   "cell_type": "markdown",
   "id": "f416b538",
   "metadata": {
    "papermill": {
     "duration": 0.029797,
     "end_time": "2023-08-18T05:27:37.775720",
     "exception": false,
     "start_time": "2023-08-18T05:27:37.745923",
     "status": "completed"
    },
    "tags": []
   },
   "source": [
    "### Observation Set 01:\n",
    "* As you can see; data has 1230376 rows and 21 columns\n",
    "* 01 column has `boolean` datatypes\n",
    "* 03 columns has `integer` datatypes\n",
    "* 04 columns has `float` datatypes\n",
    "* 13 columns has `object` datatypes\n",
    "<br> We See all columns of our dataset in list also"
   ]
  },
  {
   "cell_type": "markdown",
   "id": "258c2e02",
   "metadata": {
    "papermill": {
     "duration": 0.029384,
     "end_time": "2023-08-18T05:27:37.836195",
     "exception": false,
     "start_time": "2023-08-18T05:27:37.806811",
     "status": "completed"
    },
    "tags": []
   },
   "source": [
    "# 6.0 Descriptive Statistics"
   ]
  },
  {
   "cell_type": "code",
   "execution_count": 8,
   "id": "00d2b00e",
   "metadata": {
    "execution": {
     "iopub.execute_input": "2023-08-18T05:27:37.898093Z",
     "iopub.status.busy": "2023-08-18T05:27:37.897362Z",
     "iopub.status.idle": "2023-08-18T05:27:38.269422Z",
     "shell.execute_reply": "2023-08-18T05:27:38.268083Z"
    },
    "papermill": {
     "duration": 0.405484,
     "end_time": "2023-08-18T05:27:38.271794",
     "exception": false,
     "start_time": "2023-08-18T05:27:37.866310",
     "status": "completed"
    },
    "tags": []
   },
   "outputs": [
    {
     "data": {
      "text/html": [
       "<div>\n",
       "<style scoped>\n",
       "    .dataframe tbody tr th:only-of-type {\n",
       "        vertical-align: middle;\n",
       "    }\n",
       "\n",
       "    .dataframe tbody tr th {\n",
       "        vertical-align: top;\n",
       "    }\n",
       "\n",
       "    .dataframe thead th {\n",
       "        text-align: right;\n",
       "    }\n",
       "</style>\n",
       "<table border=\"1\" class=\"dataframe\">\n",
       "  <thead>\n",
       "    <tr style=\"text-align: right;\">\n",
       "      <th></th>\n",
       "      <th>Size_Bytes</th>\n",
       "      <th>Price</th>\n",
       "      <th>DeveloperId</th>\n",
       "      <th>Average_User_Rating</th>\n",
       "      <th>Reviews</th>\n",
       "      <th>Current_Version_Score</th>\n",
       "      <th>Current_Version_Reviews</th>\n",
       "    </tr>\n",
       "  </thead>\n",
       "  <tbody>\n",
       "    <tr>\n",
       "      <th>count</th>\n",
       "      <td>1.230152e+06</td>\n",
       "      <td>1.229886e+06</td>\n",
       "      <td>1.230376e+06</td>\n",
       "      <td>1.230376e+06</td>\n",
       "      <td>1.230376e+06</td>\n",
       "      <td>1.230376e+06</td>\n",
       "      <td>1.230376e+06</td>\n",
       "    </tr>\n",
       "    <tr>\n",
       "      <th>mean</th>\n",
       "      <td>7.510857e+07</td>\n",
       "      <td>5.041264e-01</td>\n",
       "      <td>1.092869e+09</td>\n",
       "      <td>1.788387e+00</td>\n",
       "      <td>8.259478e+02</td>\n",
       "      <td>1.788387e+00</td>\n",
       "      <td>8.259478e+02</td>\n",
       "    </tr>\n",
       "    <tr>\n",
       "      <th>std</th>\n",
       "      <td>2.318726e+08</td>\n",
       "      <td>6.869674e+00</td>\n",
       "      <td>4.090897e+08</td>\n",
       "      <td>2.154105e+00</td>\n",
       "      <td>5.016051e+04</td>\n",
       "      <td>2.154105e+00</td>\n",
       "      <td>5.016051e+04</td>\n",
       "    </tr>\n",
       "    <tr>\n",
       "      <th>min</th>\n",
       "      <td>2.762800e+04</td>\n",
       "      <td>0.000000e+00</td>\n",
       "      <td>2.816565e+08</td>\n",
       "      <td>0.000000e+00</td>\n",
       "      <td>0.000000e+00</td>\n",
       "      <td>0.000000e+00</td>\n",
       "      <td>0.000000e+00</td>\n",
       "    </tr>\n",
       "    <tr>\n",
       "      <th>25%</th>\n",
       "      <td>2.041344e+07</td>\n",
       "      <td>0.000000e+00</td>\n",
       "      <td>7.381109e+08</td>\n",
       "      <td>0.000000e+00</td>\n",
       "      <td>0.000000e+00</td>\n",
       "      <td>0.000000e+00</td>\n",
       "      <td>0.000000e+00</td>\n",
       "    </tr>\n",
       "    <tr>\n",
       "      <th>50%</th>\n",
       "      <td>4.333158e+07</td>\n",
       "      <td>0.000000e+00</td>\n",
       "      <td>1.179711e+09</td>\n",
       "      <td>0.000000e+00</td>\n",
       "      <td>0.000000e+00</td>\n",
       "      <td>0.000000e+00</td>\n",
       "      <td>0.000000e+00</td>\n",
       "    </tr>\n",
       "    <tr>\n",
       "      <th>75%</th>\n",
       "      <td>8.365466e+07</td>\n",
       "      <td>0.000000e+00</td>\n",
       "      <td>1.471960e+09</td>\n",
       "      <td>4.333330e+00</td>\n",
       "      <td>3.000000e+00</td>\n",
       "      <td>4.333330e+00</td>\n",
       "      <td>3.000000e+00</td>\n",
       "    </tr>\n",
       "    <tr>\n",
       "      <th>max</th>\n",
       "      <td>7.677945e+10</td>\n",
       "      <td>9.999900e+02</td>\n",
       "      <td>1.590233e+09</td>\n",
       "      <td>5.000000e+00</td>\n",
       "      <td>2.268533e+07</td>\n",
       "      <td>5.000000e+00</td>\n",
       "      <td>2.268533e+07</td>\n",
       "    </tr>\n",
       "  </tbody>\n",
       "</table>\n",
       "</div>"
      ],
      "text/plain": [
       "         Size_Bytes         Price   DeveloperId  Average_User_Rating  \\\n",
       "count  1.230152e+06  1.229886e+06  1.230376e+06         1.230376e+06   \n",
       "mean   7.510857e+07  5.041264e-01  1.092869e+09         1.788387e+00   \n",
       "std    2.318726e+08  6.869674e+00  4.090897e+08         2.154105e+00   \n",
       "min    2.762800e+04  0.000000e+00  2.816565e+08         0.000000e+00   \n",
       "25%    2.041344e+07  0.000000e+00  7.381109e+08         0.000000e+00   \n",
       "50%    4.333158e+07  0.000000e+00  1.179711e+09         0.000000e+00   \n",
       "75%    8.365466e+07  0.000000e+00  1.471960e+09         4.333330e+00   \n",
       "max    7.677945e+10  9.999900e+02  1.590233e+09         5.000000e+00   \n",
       "\n",
       "            Reviews  Current_Version_Score  Current_Version_Reviews  \n",
       "count  1.230376e+06           1.230376e+06             1.230376e+06  \n",
       "mean   8.259478e+02           1.788387e+00             8.259478e+02  \n",
       "std    5.016051e+04           2.154105e+00             5.016051e+04  \n",
       "min    0.000000e+00           0.000000e+00             0.000000e+00  \n",
       "25%    0.000000e+00           0.000000e+00             0.000000e+00  \n",
       "50%    0.000000e+00           0.000000e+00             0.000000e+00  \n",
       "75%    3.000000e+00           4.333330e+00             3.000000e+00  \n",
       "max    2.268533e+07           5.000000e+00             2.268533e+07  "
      ]
     },
     "execution_count": 8,
     "metadata": {},
     "output_type": "execute_result"
    }
   ],
   "source": [
    "#summary of data\n",
    "df.describe()"
   ]
  },
  {
   "cell_type": "markdown",
   "id": "c2882bf9",
   "metadata": {
    "papermill": {
     "duration": 0.029888,
     "end_time": "2023-08-18T05:27:38.331828",
     "exception": false,
     "start_time": "2023-08-18T05:27:38.301940",
     "status": "completed"
    },
    "tags": []
   },
   "source": [
    "### Observation Set 02:\n",
    "* There are 6 Numeric Columns in our DataSet.\n",
    "* DeveloperId column is not numeric because all developrs have unique developerID, So that we cannot perform any operation on it.There is no standard way to convert the values in the DeveloperId column to numbers.\n",
    "* We will add a Column to change `Size_Bytes` into `MB` formate:"
   ]
  },
  {
   "cell_type": "code",
   "execution_count": 9,
   "id": "ac1d61ce",
   "metadata": {
    "execution": {
     "iopub.execute_input": "2023-08-18T05:27:38.394866Z",
     "iopub.status.busy": "2023-08-18T05:27:38.394047Z",
     "iopub.status.idle": "2023-08-18T05:27:47.491413Z",
     "shell.execute_reply": "2023-08-18T05:27:47.490238Z"
    },
    "papermill": {
     "duration": 9.13152,
     "end_time": "2023-08-18T05:27:47.493768",
     "exception": false,
     "start_time": "2023-08-18T05:27:38.362248",
     "status": "completed"
    },
    "tags": []
   },
   "outputs": [
    {
     "data": {
      "text/html": [
       "<div>\n",
       "<style scoped>\n",
       "    .dataframe tbody tr th:only-of-type {\n",
       "        vertical-align: middle;\n",
       "    }\n",
       "\n",
       "    .dataframe tbody tr th {\n",
       "        vertical-align: top;\n",
       "    }\n",
       "\n",
       "    .dataframe thead th {\n",
       "        text-align: right;\n",
       "    }\n",
       "</style>\n",
       "<table border=\"1\" class=\"dataframe\">\n",
       "  <thead>\n",
       "    <tr style=\"text-align: right;\">\n",
       "      <th></th>\n",
       "      <th>App_Id</th>\n",
       "      <th>App_Name</th>\n",
       "      <th>AppStore_Url</th>\n",
       "      <th>Primary_Genre</th>\n",
       "      <th>Content_Rating</th>\n",
       "      <th>Required_IOS_Version</th>\n",
       "      <th>Released</th>\n",
       "      <th>Updated</th>\n",
       "      <th>Version</th>\n",
       "      <th>Currency</th>\n",
       "      <th>Developer</th>\n",
       "      <th>Developer_Url</th>\n",
       "      <th>Developer_Website</th>\n",
       "    </tr>\n",
       "  </thead>\n",
       "  <tbody>\n",
       "    <tr>\n",
       "      <th>count</th>\n",
       "      <td>1230376</td>\n",
       "      <td>1230375</td>\n",
       "      <td>1230376</td>\n",
       "      <td>1230376</td>\n",
       "      <td>1230376</td>\n",
       "      <td>1230376</td>\n",
       "      <td>1230373</td>\n",
       "      <td>1230376</td>\n",
       "      <td>1230376</td>\n",
       "      <td>1230376</td>\n",
       "      <td>1230376</td>\n",
       "      <td>1229267</td>\n",
       "      <td>586388</td>\n",
       "    </tr>\n",
       "    <tr>\n",
       "      <th>unique</th>\n",
       "      <td>1230376</td>\n",
       "      <td>1223510</td>\n",
       "      <td>1230376</td>\n",
       "      <td>26</td>\n",
       "      <td>5</td>\n",
       "      <td>260</td>\n",
       "      <td>664824</td>\n",
       "      <td>1196053</td>\n",
       "      <td>41270</td>\n",
       "      <td>1</td>\n",
       "      <td>505255</td>\n",
       "      <td>514106</td>\n",
       "      <td>403809</td>\n",
       "    </tr>\n",
       "    <tr>\n",
       "      <th>top</th>\n",
       "      <td>com.hkbu.arc.apaper</td>\n",
       "      <td>Vanguard</td>\n",
       "      <td>https://apps.apple.com/us/app/a-paper-guide/id...</td>\n",
       "      <td>Games</td>\n",
       "      <td>4+</td>\n",
       "      <td>11.0</td>\n",
       "      <td>2019-12-18T08:00:00Z</td>\n",
       "      <td>2019-07-24T07:00:00Z</td>\n",
       "      <td>1.0</td>\n",
       "      <td>USD</td>\n",
       "      <td>ChowNow</td>\n",
       "      <td>https://apps.apple.com/us/developer/chownow/id...</td>\n",
       "      <td>https://subsplash.com</td>\n",
       "    </tr>\n",
       "    <tr>\n",
       "      <th>freq</th>\n",
       "      <td>1</td>\n",
       "      <td>6</td>\n",
       "      <td>1</td>\n",
       "      <td>193749</td>\n",
       "      <td>980971</td>\n",
       "      <td>210764</td>\n",
       "      <td>1325</td>\n",
       "      <td>347</td>\n",
       "      <td>218134</td>\n",
       "      <td>1230376</td>\n",
       "      <td>3966</td>\n",
       "      <td>3966</td>\n",
       "      <td>6709</td>\n",
       "    </tr>\n",
       "  </tbody>\n",
       "</table>\n",
       "</div>"
      ],
      "text/plain": [
       "                     App_Id  App_Name  \\\n",
       "count               1230376   1230375   \n",
       "unique              1230376   1223510   \n",
       "top     com.hkbu.arc.apaper  Vanguard   \n",
       "freq                      1         6   \n",
       "\n",
       "                                             AppStore_Url Primary_Genre  \\\n",
       "count                                             1230376       1230376   \n",
       "unique                                            1230376            26   \n",
       "top     https://apps.apple.com/us/app/a-paper-guide/id...         Games   \n",
       "freq                                                    1        193749   \n",
       "\n",
       "       Content_Rating Required_IOS_Version              Released  \\\n",
       "count         1230376              1230376               1230373   \n",
       "unique              5                  260                664824   \n",
       "top                4+                 11.0  2019-12-18T08:00:00Z   \n",
       "freq           980971               210764                  1325   \n",
       "\n",
       "                     Updated  Version Currency Developer  \\\n",
       "count                1230376  1230376  1230376   1230376   \n",
       "unique               1196053    41270        1    505255   \n",
       "top     2019-07-24T07:00:00Z      1.0      USD   ChowNow   \n",
       "freq                     347   218134  1230376      3966   \n",
       "\n",
       "                                            Developer_Url  \\\n",
       "count                                             1229267   \n",
       "unique                                             514106   \n",
       "top     https://apps.apple.com/us/developer/chownow/id...   \n",
       "freq                                                 3966   \n",
       "\n",
       "            Developer_Website  \n",
       "count                  586388  \n",
       "unique                 403809  \n",
       "top     https://subsplash.com  \n",
       "freq                     6709  "
      ]
     },
     "execution_count": 9,
     "metadata": {},
     "output_type": "execute_result"
    }
   ],
   "source": [
    "#Lets See the summary statistics of object datatypes\n",
    "df.describe(include='O')"
   ]
  },
  {
   "cell_type": "markdown",
   "id": "0aa71bc0",
   "metadata": {
    "papermill": {
     "duration": 0.030208,
     "end_time": "2023-08-18T05:27:47.555362",
     "exception": false,
     "start_time": "2023-08-18T05:27:47.525154",
     "status": "completed"
    },
    "tags": []
   },
   "source": [
    "# 7.0 Missing Values"
   ]
  },
  {
   "cell_type": "code",
   "execution_count": 10,
   "id": "8bcefaa0",
   "metadata": {
    "execution": {
     "iopub.execute_input": "2023-08-18T05:27:47.617779Z",
     "iopub.status.busy": "2023-08-18T05:27:47.617398Z",
     "iopub.status.idle": "2023-08-18T05:27:49.985093Z",
     "shell.execute_reply": "2023-08-18T05:27:49.983789Z"
    },
    "papermill": {
     "duration": 2.401807,
     "end_time": "2023-08-18T05:27:49.987306",
     "exception": false,
     "start_time": "2023-08-18T05:27:47.585499",
     "status": "completed"
    },
    "tags": []
   },
   "outputs": [
    {
     "data": {
      "text/plain": [
       "Developer_Website          643988\n",
       "Developer_Url                1109\n",
       "Price                         490\n",
       "Size_Bytes                    224\n",
       "Released                        3\n",
       "App_Name                        1\n",
       "Free                            0\n",
       "Current_Version_Score           0\n",
       "Reviews                         0\n",
       "Average_User_Rating             0\n",
       "Developer                       0\n",
       "DeveloperId                     0\n",
       "App_Id                          0\n",
       "Currency                        0\n",
       "Version                         0\n",
       "Updated                         0\n",
       "Required_IOS_Version            0\n",
       "Content_Rating                  0\n",
       "Primary_Genre                   0\n",
       "AppStore_Url                    0\n",
       "Current_Version_Reviews         0\n",
       "dtype: int64"
      ]
     },
     "execution_count": 10,
     "metadata": {},
     "output_type": "execute_result"
    }
   ],
   "source": [
    "#Lets See the null values in dataset\n",
    "df.isnull().sum().sort_values(ascending = False)"
   ]
  },
  {
   "cell_type": "markdown",
   "id": "4c129848",
   "metadata": {
    "papermill": {
     "duration": 0.030739,
     "end_time": "2023-08-18T05:27:50.050441",
     "exception": false,
     "start_time": "2023-08-18T05:27:50.019702",
     "status": "completed"
    },
    "tags": []
   },
   "source": [
    "### 7.1 Explore the Missing Values by plotting"
   ]
  },
  {
   "cell_type": "code",
   "execution_count": 11,
   "id": "d7301fa0",
   "metadata": {
    "execution": {
     "iopub.execute_input": "2023-08-18T05:27:50.112506Z",
     "iopub.status.busy": "2023-08-18T05:27:50.112099Z",
     "iopub.status.idle": "2023-08-18T05:28:27.931866Z",
     "shell.execute_reply": "2023-08-18T05:28:27.930586Z"
    },
    "papermill": {
     "duration": 37.886046,
     "end_time": "2023-08-18T05:28:27.966435",
     "exception": false,
     "start_time": "2023-08-18T05:27:50.080389",
     "status": "completed"
    },
    "tags": []
   },
   "outputs": [
    {
     "data": {
      "text/plain": [
       "Text(0.5, 1.0, 'Missing null values')"
      ]
     },
     "execution_count": 11,
     "metadata": {},
     "output_type": "execute_result"
    },
    {
     "data": {
      "image/png": "[encoded data removed]",
      "text/plain": [
       "<Figure size 1800x600 with 1 Axes>"
      ]
     },
     "metadata": {},
     "output_type": "display_data"
    }
   ],
   "source": [
    "#Let's plot the missing null values\n",
    "plt.figure(figsize=(18,6))\n",
    "sns.heatmap(df.isnull(),yticklabels = False, cbar = False , cmap = 'viridis')\n",
    "plt.title(\"Missing null values\")"
   ]
  },
  {
   "cell_type": "markdown",
   "id": "4ba462de",
   "metadata": {
    "papermill": {
     "duration": 0.031974,
     "end_time": "2023-08-18T05:28:28.029901",
     "exception": false,
     "start_time": "2023-08-18T05:28:27.997927",
     "status": "completed"
    },
    "tags": []
   },
   "source": [
    "**Figure_1:** Provide us the visual on the missing values in a dataframe.\n",
    "\n",
    "Here's a simple piece of code that helps you see the data that'have missing values, See the percentage of null values in your dataset sorted in ascending order, making it easy to identify which features have the most missing data."
   ]
  },
  {
   "cell_type": "markdown",
   "id": "c6a7fed5",
   "metadata": {
    "papermill": {
     "duration": 0.033083,
     "end_time": "2023-08-18T05:28:28.094560",
     "exception": false,
     "start_time": "2023-08-18T05:28:28.061477",
     "status": "completed"
    },
    "tags": []
   },
   "source": [
    "### 7.2 Percentage of missing values"
   ]
  },
  {
   "cell_type": "code",
   "execution_count": 7,
   "id": "0160c297",
   "metadata": {
    "execution": {
     "iopub.execute_input": "2023-08-18T05:28:28.161538Z",
     "iopub.status.busy": "2023-08-18T05:28:28.161143Z",
     "iopub.status.idle": "2023-08-18T05:28:30.578001Z",
     "shell.execute_reply": "2023-08-18T05:28:30.576990Z"
    },
    "papermill": {
     "duration": 2.452874,
     "end_time": "2023-08-18T05:28:30.580467",
     "exception": false,
     "start_time": "2023-08-18T05:28:28.127593",
     "status": "completed"
    },
    "tags": []
   },
   "outputs": [],
   "source": [
    "#Lets See the percentage of missing values\n",
    "df.isnull().sum().sort_values(ascending = False)/len(df) *100"
   ]
  },
  {
   "cell_type": "markdown",
   "id": "752cc631",
   "metadata": {
    "papermill": {
     "duration": 0.032902,
     "end_time": "2023-08-18T05:28:30.646121",
     "exception": false,
     "start_time": "2023-08-18T05:28:30.613219",
     "status": "completed"
    },
    "tags": []
   },
   "source": [
    "###  Obsevations Set 03:\n",
    "\n",
    "* `Developer_Website` column having more than 50% null values.\n",
    "<br>Following columns have small number of null values, So we can impute or drop these values:\n",
    "* Developer_Url \n",
    "* Price                       \n",
    "* Size_Bytes                 \n",
    "* Released       "
   ]
  },
  {
   "cell_type": "markdown",
   "id": "ffeccce0",
   "metadata": {
    "papermill": {
     "duration": 0.031787,
     "end_time": "2023-08-18T05:28:30.710139",
     "exception": false,
     "start_time": "2023-08-18T05:28:30.678352",
     "status": "completed"
    },
    "tags": []
   },
   "source": [
    "# 8.0 Data Cleaning"
   ]
  },
  {
   "cell_type": "markdown",
   "id": "294bf457",
   "metadata": {
    "papermill": {
     "duration": 0.031063,
     "end_time": "2023-08-18T05:28:30.772941",
     "exception": false,
     "start_time": "2023-08-18T05:28:30.741878",
     "status": "completed"
    },
    "tags": []
   },
   "source": [
    "Dealing with missing values in our dataset\n",
    "<br>Droping `Developer_Website`, Column which have more than 50% missing values"
   ]
  },
  {
   "cell_type": "code",
   "execution_count": 13,
   "id": "0a231392",
   "metadata": {
    "execution": {
     "iopub.execute_input": "2023-08-18T05:28:30.838794Z",
     "iopub.status.busy": "2023-08-18T05:28:30.838372Z",
     "iopub.status.idle": "2023-08-18T05:28:31.068343Z",
     "shell.execute_reply": "2023-08-18T05:28:31.067185Z"
    },
    "papermill": {
     "duration": 0.266456,
     "end_time": "2023-08-18T05:28:31.070863",
     "exception": false,
     "start_time": "2023-08-18T05:28:30.804407",
     "status": "completed"
    },
    "scrolled": true,
    "tags": []
   },
   "outputs": [],
   "source": [
    "# Based on high number of null valus in Developer_Website, We decide to drop this column from dataset.\n",
    "df.drop(columns = 'Developer_Website', inplace=True)"
   ]
  },
  {
   "cell_type": "markdown",
   "id": "8d6aae07",
   "metadata": {
    "papermill": {
     "duration": 0.031479,
     "end_time": "2023-08-18T05:28:31.134377",
     "exception": false,
     "start_time": "2023-08-18T05:28:31.102898",
     "status": "completed"
    },
    "tags": []
   },
   "source": [
    "### Obsevations Set 04:\n",
    "- According to the DataSet `Developer_Website` is not most important column because this column has unique values, and more than 50% values are null.So we can drop this column.\n",
    "- App developers can enhance their businesses by creating effective and engaging websites for their apps. A well-designed websitecan help attract users, provide information, and promote your app effectively."
   ]
  },
  {
   "cell_type": "code",
   "execution_count": 14,
   "id": "e119dcad",
   "metadata": {
    "execution": {
     "iopub.execute_input": "2023-08-18T05:28:31.200484Z",
     "iopub.status.busy": "2023-08-18T05:28:31.199244Z",
     "iopub.status.idle": "2023-08-18T05:28:33.508448Z",
     "shell.execute_reply": "2023-08-18T05:28:33.507147Z"
    },
    "papermill": {
     "duration": 2.345059,
     "end_time": "2023-08-18T05:28:33.510972",
     "exception": false,
     "start_time": "2023-08-18T05:28:31.165913",
     "status": "completed"
    },
    "tags": []
   },
   "outputs": [
    {
     "data": {
      "text/plain": [
       "Developer_Url              1109\n",
       "Price                       490\n",
       "Size_Bytes                  224\n",
       "Released                      3\n",
       "App_Name                      1\n",
       "Free                          0\n",
       "Current_Version_Score         0\n",
       "Reviews                       0\n",
       "Average_User_Rating           0\n",
       "Developer                     0\n",
       "DeveloperId                   0\n",
       "App_Id                        0\n",
       "Currency                      0\n",
       "Version                       0\n",
       "Updated                       0\n",
       "Required_IOS_Version          0\n",
       "Content_Rating                0\n",
       "Primary_Genre                 0\n",
       "AppStore_Url                  0\n",
       "Current_Version_Reviews       0\n",
       "dtype: int64"
      ]
     },
     "execution_count": 14,
     "metadata": {},
     "output_type": "execute_result"
    }
   ],
   "source": [
    "df.isnull().sum().sort_values(ascending = False)"
   ]
  },
  {
   "cell_type": "markdown",
   "id": "0b3c4e25",
   "metadata": {
    "papermill": {
     "duration": 0.03123,
     "end_time": "2023-08-18T05:28:33.574337",
     "exception": false,
     "start_time": "2023-08-18T05:28:33.543107",
     "status": "completed"
    },
    "tags": []
   },
   "source": [
    "Droping rows where `App_Name`,`Released` Columns have missing values"
   ]
  },
  {
   "cell_type": "code",
   "execution_count": 15,
   "id": "7a8988b6",
   "metadata": {
    "execution": {
     "iopub.execute_input": "2023-08-18T05:28:33.640047Z",
     "iopub.status.busy": "2023-08-18T05:28:33.639290Z",
     "iopub.status.idle": "2023-08-18T05:28:34.812894Z",
     "shell.execute_reply": "2023-08-18T05:28:34.811703Z"
    },
    "papermill": {
     "duration": 1.210068,
     "end_time": "2023-08-18T05:28:34.815613",
     "exception": false,
     "start_time": "2023-08-18T05:28:33.605545",
     "status": "completed"
    },
    "tags": []
   },
   "outputs": [],
   "source": [
    "df.dropna(subset=['App_Name'], inplace=True)\n",
    "df.dropna(subset=['Released'], inplace=True)"
   ]
  },
  {
   "cell_type": "markdown",
   "id": "13cbd8f8",
   "metadata": {
    "papermill": {
     "duration": 0.031478,
     "end_time": "2023-08-18T05:28:34.879051",
     "exception": false,
     "start_time": "2023-08-18T05:28:34.847573",
     "status": "completed"
    },
    "tags": []
   },
   "source": [
    "Filling `Size_Bytes`,`Price` Columns missing values with mean() method"
   ]
  },
  {
   "cell_type": "code",
   "execution_count": 16,
   "id": "c38d9a80",
   "metadata": {
    "execution": {
     "iopub.execute_input": "2023-08-18T05:28:34.944394Z",
     "iopub.status.busy": "2023-08-18T05:28:34.943503Z",
     "iopub.status.idle": "2023-08-18T05:28:34.985668Z",
     "shell.execute_reply": "2023-08-18T05:28:34.984589Z"
    },
    "papermill": {
     "duration": 0.07798,
     "end_time": "2023-08-18T05:28:34.988449",
     "exception": false,
     "start_time": "2023-08-18T05:28:34.910469",
     "status": "completed"
    },
    "tags": []
   },
   "outputs": [],
   "source": [
    "df['Size_Bytes'] = df['Size_Bytes'].fillna(df['Size_Bytes'].mean())\n",
    "\n",
    "df['Price'] = df['Price'].fillna(df['Price'].mean())"
   ]
  },
  {
   "cell_type": "markdown",
   "id": "64b24626",
   "metadata": {
    "papermill": {
     "duration": 0.03213,
     "end_time": "2023-08-18T05:28:35.054122",
     "exception": false,
     "start_time": "2023-08-18T05:28:35.021992",
     "status": "completed"
    },
    "tags": []
   },
   "source": [
    "Filling `Developer_Url` Columns missing values with 0:"
   ]
  },
  {
   "cell_type": "code",
   "execution_count": 17,
   "id": "88bb19cf",
   "metadata": {
    "execution": {
     "iopub.execute_input": "2023-08-18T05:28:35.118967Z",
     "iopub.status.busy": "2023-08-18T05:28:35.118584Z",
     "iopub.status.idle": "2023-08-18T05:28:35.212408Z",
     "shell.execute_reply": "2023-08-18T05:28:35.211252Z"
    },
    "papermill": {
     "duration": 0.129415,
     "end_time": "2023-08-18T05:28:35.214912",
     "exception": false,
     "start_time": "2023-08-18T05:28:35.085497",
     "status": "completed"
    },
    "tags": []
   },
   "outputs": [],
   "source": [
    "df['Developer_Url'].fillna(0, inplace=True)"
   ]
  },
  {
   "cell_type": "markdown",
   "id": "965efc6f",
   "metadata": {
    "papermill": {
     "duration": 0.031203,
     "end_time": "2023-08-18T05:28:35.277771",
     "exception": false,
     "start_time": "2023-08-18T05:28:35.246568",
     "status": "completed"
    },
    "tags": []
   },
   "source": [
    "### Obsevations Set 05:\n",
    "We can impute missing valus in `Developer_Url` column with 0, because there are 1109 missing values in this column, if we drop these rows, we can remove other important data about apps.In these rows, Without Developer_Url, we can get more othre informations about apps."
   ]
  },
  {
   "cell_type": "code",
   "execution_count": 18,
   "id": "25b551ae",
   "metadata": {
    "execution": {
     "iopub.execute_input": "2023-08-18T05:28:35.341706Z",
     "iopub.status.busy": "2023-08-18T05:28:35.341337Z",
     "iopub.status.idle": "2023-08-18T05:28:37.628445Z",
     "shell.execute_reply": "2023-08-18T05:28:37.627331Z"
    },
    "papermill": {
     "duration": 2.321888,
     "end_time": "2023-08-18T05:28:37.630871",
     "exception": false,
     "start_time": "2023-08-18T05:28:35.308983",
     "status": "completed"
    },
    "tags": []
   },
   "outputs": [
    {
     "data": {
      "text/plain": [
       "App_Id                     0\n",
       "App_Name                   0\n",
       "AppStore_Url               0\n",
       "Primary_Genre              0\n",
       "Content_Rating             0\n",
       "Size_Bytes                 0\n",
       "Required_IOS_Version       0\n",
       "Released                   0\n",
       "Updated                    0\n",
       "Version                    0\n",
       "Price                      0\n",
       "Currency                   0\n",
       "Free                       0\n",
       "DeveloperId                0\n",
       "Developer                  0\n",
       "Developer_Url              0\n",
       "Average_User_Rating        0\n",
       "Reviews                    0\n",
       "Current_Version_Score      0\n",
       "Current_Version_Reviews    0\n",
       "dtype: int64"
      ]
     },
     "execution_count": 18,
     "metadata": {},
     "output_type": "execute_result"
    }
   ],
   "source": [
    "# Lets See the null values of dataset now:\n",
    "df.isnull().sum()"
   ]
  },
  {
   "cell_type": "markdown",
   "id": "3c36939a",
   "metadata": {
    "papermill": {
     "duration": 0.031434,
     "end_time": "2023-08-18T05:28:37.694738",
     "exception": false,
     "start_time": "2023-08-18T05:28:37.663304",
     "status": "completed"
    },
    "tags": []
   },
   "source": [
    "Milestone 1: We have cleaned the dataset from null values ✅"
   ]
  },
  {
   "cell_type": "markdown",
   "id": "3f6b4f8e",
   "metadata": {
    "papermill": {
     "duration": 0.031457,
     "end_time": "2023-08-18T05:28:37.758305",
     "exception": false,
     "start_time": "2023-08-18T05:28:37.726848",
     "status": "completed"
    },
    "tags": []
   },
   "source": [
    "# 9.0 Find Unique & Duplicate Values\n",
    "\n",
    "### 9.1 Find Unique Values"
   ]
  },
  {
   "cell_type": "code",
   "execution_count": 19,
   "id": "f99682d9",
   "metadata": {
    "execution": {
     "iopub.execute_input": "2023-08-18T05:28:37.824178Z",
     "iopub.status.busy": "2023-08-18T05:28:37.823794Z",
     "iopub.status.idle": "2023-08-18T05:28:41.006271Z",
     "shell.execute_reply": "2023-08-18T05:28:41.004854Z"
    },
    "papermill": {
     "duration": 3.218239,
     "end_time": "2023-08-18T05:28:41.008658",
     "exception": false,
     "start_time": "2023-08-18T05:28:37.790419",
     "status": "completed"
    },
    "tags": []
   },
   "outputs": [
    {
     "data": {
      "text/html": [
       "<div>\n",
       "<style scoped>\n",
       "    .dataframe tbody tr th:only-of-type {\n",
       "        vertical-align: middle;\n",
       "    }\n",
       "\n",
       "    .dataframe tbody tr th {\n",
       "        vertical-align: top;\n",
       "    }\n",
       "\n",
       "    .dataframe thead th {\n",
       "        text-align: right;\n",
       "    }\n",
       "</style>\n",
       "<table border=\"1\" class=\"dataframe\">\n",
       "  <thead>\n",
       "    <tr style=\"text-align: right;\">\n",
       "      <th></th>\n",
       "      <th>index</th>\n",
       "      <th>unique_values</th>\n",
       "    </tr>\n",
       "  </thead>\n",
       "  <tbody>\n",
       "    <tr>\n",
       "      <th>0</th>\n",
       "      <td>App_Id</td>\n",
       "      <td>1230372</td>\n",
       "    </tr>\n",
       "    <tr>\n",
       "      <th>1</th>\n",
       "      <td>App_Name</td>\n",
       "      <td>1223507</td>\n",
       "    </tr>\n",
       "    <tr>\n",
       "      <th>2</th>\n",
       "      <td>AppStore_Url</td>\n",
       "      <td>1230372</td>\n",
       "    </tr>\n",
       "    <tr>\n",
       "      <th>3</th>\n",
       "      <td>Primary_Genre</td>\n",
       "      <td>26</td>\n",
       "    </tr>\n",
       "    <tr>\n",
       "      <th>4</th>\n",
       "      <td>Content_Rating</td>\n",
       "      <td>5</td>\n",
       "    </tr>\n",
       "    <tr>\n",
       "      <th>5</th>\n",
       "      <td>Size_Bytes</td>\n",
       "      <td>255915</td>\n",
       "    </tr>\n",
       "    <tr>\n",
       "      <th>6</th>\n",
       "      <td>Required_IOS_Version</td>\n",
       "      <td>259</td>\n",
       "    </tr>\n",
       "    <tr>\n",
       "      <th>7</th>\n",
       "      <td>Released</td>\n",
       "      <td>664823</td>\n",
       "    </tr>\n",
       "    <tr>\n",
       "      <th>8</th>\n",
       "      <td>Updated</td>\n",
       "      <td>1196052</td>\n",
       "    </tr>\n",
       "    <tr>\n",
       "      <th>9</th>\n",
       "      <td>Version</td>\n",
       "      <td>41270</td>\n",
       "    </tr>\n",
       "    <tr>\n",
       "      <th>10</th>\n",
       "      <td>Price</td>\n",
       "      <td>89</td>\n",
       "    </tr>\n",
       "    <tr>\n",
       "      <th>11</th>\n",
       "      <td>Currency</td>\n",
       "      <td>1</td>\n",
       "    </tr>\n",
       "    <tr>\n",
       "      <th>12</th>\n",
       "      <td>Free</td>\n",
       "      <td>2</td>\n",
       "    </tr>\n",
       "    <tr>\n",
       "      <th>13</th>\n",
       "      <td>DeveloperId</td>\n",
       "      <td>509285</td>\n",
       "    </tr>\n",
       "    <tr>\n",
       "      <th>14</th>\n",
       "      <td>Developer</td>\n",
       "      <td>505255</td>\n",
       "    </tr>\n",
       "    <tr>\n",
       "      <th>15</th>\n",
       "      <td>Developer_Url</td>\n",
       "      <td>514107</td>\n",
       "    </tr>\n",
       "    <tr>\n",
       "      <th>16</th>\n",
       "      <td>Average_User_Rating</td>\n",
       "      <td>45073</td>\n",
       "    </tr>\n",
       "    <tr>\n",
       "      <th>17</th>\n",
       "      <td>Reviews</td>\n",
       "      <td>13668</td>\n",
       "    </tr>\n",
       "    <tr>\n",
       "      <th>18</th>\n",
       "      <td>Current_Version_Score</td>\n",
       "      <td>45073</td>\n",
       "    </tr>\n",
       "    <tr>\n",
       "      <th>19</th>\n",
       "      <td>Current_Version_Reviews</td>\n",
       "      <td>13668</td>\n",
       "    </tr>\n",
       "  </tbody>\n",
       "</table>\n",
       "</div>"
      ],
      "text/plain": [
       "                      index  unique_values\n",
       "0                    App_Id        1230372\n",
       "1                  App_Name        1223507\n",
       "2              AppStore_Url        1230372\n",
       "3             Primary_Genre             26\n",
       "4            Content_Rating              5\n",
       "5                Size_Bytes         255915\n",
       "6      Required_IOS_Version            259\n",
       "7                  Released         664823\n",
       "8                   Updated        1196052\n",
       "9                   Version          41270\n",
       "10                    Price             89\n",
       "11                 Currency              1\n",
       "12                     Free              2\n",
       "13              DeveloperId         509285\n",
       "14                Developer         505255\n",
       "15            Developer_Url         514107\n",
       "16      Average_User_Rating          45073\n",
       "17                  Reviews          13668\n",
       "18    Current_Version_Score          45073\n",
       "19  Current_Version_Reviews          13668"
      ]
     },
     "execution_count": 19,
     "metadata": {},
     "output_type": "execute_result"
    }
   ],
   "source": [
    "#Lets See the unique values in dataset\n",
    "df.nunique().reset_index(name = 'unique_values')"
   ]
  },
  {
   "cell_type": "markdown",
   "id": "2507a65c",
   "metadata": {
    "papermill": {
     "duration": 0.031933,
     "end_time": "2023-08-18T05:28:41.074020",
     "exception": false,
     "start_time": "2023-08-18T05:28:41.042087",
     "status": "completed"
    },
    "tags": []
   },
   "source": [
    "### 9.2 Find Duplicates"
   ]
  },
  {
   "cell_type": "code",
   "execution_count": 20,
   "id": "e64fdd3c",
   "metadata": {
    "execution": {
     "iopub.execute_input": "2023-08-18T05:28:41.140604Z",
     "iopub.status.busy": "2023-08-18T05:28:41.140174Z",
     "iopub.status.idle": "2023-08-18T05:28:45.160821Z",
     "shell.execute_reply": "2023-08-18T05:28:45.159765Z"
    },
    "papermill": {
     "duration": 4.057022,
     "end_time": "2023-08-18T05:28:45.163240",
     "exception": false,
     "start_time": "2023-08-18T05:28:41.106218",
     "status": "completed"
    },
    "tags": []
   },
   "outputs": [
    {
     "data": {
      "text/plain": [
       "False"
      ]
     },
     "execution_count": 20,
     "metadata": {},
     "output_type": "execute_result"
    }
   ],
   "source": [
    "#check duplicates in all data\n",
    "df.duplicated().any()"
   ]
  },
  {
   "cell_type": "code",
   "execution_count": 21,
   "id": "71d0280b",
   "metadata": {
    "execution": {
     "iopub.execute_input": "2023-08-18T05:28:45.229482Z",
     "iopub.status.busy": "2023-08-18T05:28:45.229075Z",
     "iopub.status.idle": "2023-08-18T05:28:45.236084Z",
     "shell.execute_reply": "2023-08-18T05:28:45.235200Z"
    },
    "papermill": {
     "duration": 0.042402,
     "end_time": "2023-08-18T05:28:45.238173",
     "exception": false,
     "start_time": "2023-08-18T05:28:45.195771",
     "status": "completed"
    },
    "tags": []
   },
   "outputs": [
    {
     "data": {
      "text/plain": [
       "Index(['App_Id', 'App_Name', 'AppStore_Url', 'Primary_Genre', 'Content_Rating',\n",
       "       'Size_Bytes', 'Required_IOS_Version', 'Released', 'Updated', 'Version',\n",
       "       'Price', 'Currency', 'Free', 'DeveloperId', 'Developer',\n",
       "       'Developer_Url', 'Average_User_Rating', 'Reviews',\n",
       "       'Current_Version_Score', 'Current_Version_Reviews'],\n",
       "      dtype='object')"
      ]
     },
     "execution_count": 21,
     "metadata": {},
     "output_type": "execute_result"
    }
   ],
   "source": [
    "df.columns"
   ]
  },
  {
   "cell_type": "code",
   "execution_count": 22,
   "id": "e4515ba6",
   "metadata": {
    "execution": {
     "iopub.execute_input": "2023-08-18T05:28:45.305463Z",
     "iopub.status.busy": "2023-08-18T05:28:45.305055Z",
     "iopub.status.idle": "2023-08-18T05:28:45.584867Z",
     "shell.execute_reply": "2023-08-18T05:28:45.583726Z"
    },
    "papermill": {
     "duration": 0.316085,
     "end_time": "2023-08-18T05:28:45.587140",
     "exception": false,
     "start_time": "2023-08-18T05:28:45.271055",
     "status": "completed"
    },
    "tags": []
   },
   "outputs": [
    {
     "data": {
      "text/plain": [
       "0"
      ]
     },
     "execution_count": 22,
     "metadata": {},
     "output_type": "execute_result"
    }
   ],
   "source": [
    "#Lets See the duplicates in App_Id column:\n",
    "df[['App_Id']].duplicated().sum()"
   ]
  },
  {
   "cell_type": "code",
   "execution_count": 23,
   "id": "f040548f",
   "metadata": {
    "execution": {
     "iopub.execute_input": "2023-08-18T05:28:45.655291Z",
     "iopub.status.busy": "2023-08-18T05:28:45.654787Z",
     "iopub.status.idle": "2023-08-18T05:28:45.899432Z",
     "shell.execute_reply": "2023-08-18T05:28:45.898193Z"
    },
    "papermill": {
     "duration": 0.281891,
     "end_time": "2023-08-18T05:28:45.901953",
     "exception": false,
     "start_time": "2023-08-18T05:28:45.620062",
     "status": "completed"
    },
    "tags": []
   },
   "outputs": [
    {
     "data": {
      "text/plain": [
       "6865"
      ]
     },
     "execution_count": 23,
     "metadata": {},
     "output_type": "execute_result"
    }
   ],
   "source": [
    "#Lets See the duplicates in App_Name column:\n",
    "df[['App_Name']].duplicated().sum()"
   ]
  },
  {
   "cell_type": "code",
   "execution_count": 24,
   "id": "b196f5c8",
   "metadata": {
    "execution": {
     "iopub.execute_input": "2023-08-18T05:28:45.969913Z",
     "iopub.status.busy": "2023-08-18T05:28:45.969138Z",
     "iopub.status.idle": "2023-08-18T05:28:47.362258Z",
     "shell.execute_reply": "2023-08-18T05:28:47.360984Z"
    },
    "papermill": {
     "duration": 1.429621,
     "end_time": "2023-08-18T05:28:47.364561",
     "exception": false,
     "start_time": "2023-08-18T05:28:45.934940",
     "status": "completed"
    },
    "tags": []
   },
   "outputs": [
    {
     "data": {
      "text/plain": [
       "Vanguard              6\n",
       "Linker                5\n",
       "Bloom                 5\n",
       "Lume                  4\n",
       "Vibe                  4\n",
       "                     ..\n",
       "Twin Creeks           1\n",
       "Twine Garage          1\n",
       "Twippy                1\n",
       "TwitMore              1\n",
       "Sổ Điểm Thông Minh    1\n",
       "Name: App_Name, Length: 1223507, dtype: int64"
      ]
     },
     "execution_count": 24,
     "metadata": {},
     "output_type": "execute_result"
    }
   ],
   "source": [
    "#Lets See duplicates in App_Name\n",
    "df['App_Name'].value_counts().sort_values(ascending = False)"
   ]
  },
  {
   "cell_type": "markdown",
   "id": "877ad94d",
   "metadata": {
    "papermill": {
     "duration": 0.032567,
     "end_time": "2023-08-18T05:28:47.430677",
     "exception": false,
     "start_time": "2023-08-18T05:28:47.398110",
     "status": "completed"
    },
    "tags": []
   },
   "source": [
    "From the above cell output we can see that App Name column has multiple duplicates in App_Name. Let's check out that data in those rows is identical or not"
   ]
  },
  {
   "cell_type": "code",
   "execution_count": 25,
   "id": "8122cc48",
   "metadata": {
    "execution": {
     "iopub.execute_input": "2023-08-18T05:28:47.498976Z",
     "iopub.status.busy": "2023-08-18T05:28:47.498586Z",
     "iopub.status.idle": "2023-08-18T05:28:47.608683Z",
     "shell.execute_reply": "2023-08-18T05:28:47.607331Z"
    },
    "papermill": {
     "duration": 0.147701,
     "end_time": "2023-08-18T05:28:47.611309",
     "exception": false,
     "start_time": "2023-08-18T05:28:47.463608",
     "status": "completed"
    },
    "scrolled": true,
    "tags": []
   },
   "outputs": [
    {
     "data": {
      "text/html": [
       "<div>\n",
       "<style scoped>\n",
       "    .dataframe tbody tr th:only-of-type {\n",
       "        vertical-align: middle;\n",
       "    }\n",
       "\n",
       "    .dataframe tbody tr th {\n",
       "        vertical-align: top;\n",
       "    }\n",
       "\n",
       "    .dataframe thead th {\n",
       "        text-align: right;\n",
       "    }\n",
       "</style>\n",
       "<table border=\"1\" class=\"dataframe\">\n",
       "  <thead>\n",
       "    <tr style=\"text-align: right;\">\n",
       "      <th></th>\n",
       "      <th>App_Id</th>\n",
       "      <th>App_Name</th>\n",
       "      <th>AppStore_Url</th>\n",
       "      <th>Primary_Genre</th>\n",
       "      <th>Content_Rating</th>\n",
       "      <th>Size_Bytes</th>\n",
       "      <th>Required_IOS_Version</th>\n",
       "      <th>Released</th>\n",
       "      <th>Updated</th>\n",
       "      <th>Version</th>\n",
       "      <th>Price</th>\n",
       "      <th>Currency</th>\n",
       "      <th>Free</th>\n",
       "      <th>DeveloperId</th>\n",
       "      <th>Developer</th>\n",
       "      <th>Developer_Url</th>\n",
       "      <th>Average_User_Rating</th>\n",
       "      <th>Reviews</th>\n",
       "      <th>Current_Version_Score</th>\n",
       "      <th>Current_Version_Reviews</th>\n",
       "    </tr>\n",
       "  </thead>\n",
       "  <tbody>\n",
       "    <tr>\n",
       "      <th>478488</th>\n",
       "      <td>com.vanguard.app</td>\n",
       "      <td>Vanguard</td>\n",
       "      <td>https://apps.apple.com/us/app/vanguard/id33518...</td>\n",
       "      <td>Finance</td>\n",
       "      <td>4+</td>\n",
       "      <td>160800768.0</td>\n",
       "      <td>10.0</td>\n",
       "      <td>2009-10-24T19:14:54Z</td>\n",
       "      <td>2021-08-26T19:55:20Z</td>\n",
       "      <td>11.14</td>\n",
       "      <td>0.0</td>\n",
       "      <td>USD</td>\n",
       "      <td>True</td>\n",
       "      <td>335186212</td>\n",
       "      <td>The Vanguard Group, Inc.</td>\n",
       "      <td>https://apps.apple.com/us/developer/the-vangua...</td>\n",
       "      <td>4.73977</td>\n",
       "      <td>167472</td>\n",
       "      <td>4.73977</td>\n",
       "      <td>167472</td>\n",
       "    </tr>\n",
       "    <tr>\n",
       "      <th>624553</th>\n",
       "      <td>com.omr.vngu</td>\n",
       "      <td>Vanguard</td>\n",
       "      <td>https://apps.apple.com/us/app/vanguard/id15822...</td>\n",
       "      <td>Games</td>\n",
       "      <td>4+</td>\n",
       "      <td>191240192.0</td>\n",
       "      <td>10.0</td>\n",
       "      <td>2021-08-27T07:00:00Z</td>\n",
       "      <td>2021-08-27T12:16:53Z</td>\n",
       "      <td>1.0</td>\n",
       "      <td>0.0</td>\n",
       "      <td>USD</td>\n",
       "      <td>True</td>\n",
       "      <td>1582197355</td>\n",
       "      <td>omar naser</td>\n",
       "      <td>https://apps.apple.com/us/developer/omar-naser...</td>\n",
       "      <td>3.00000</td>\n",
       "      <td>2</td>\n",
       "      <td>3.00000</td>\n",
       "      <td>2</td>\n",
       "    </tr>\n",
       "    <tr>\n",
       "      <th>871735</th>\n",
       "      <td>br.com.vanguardhome</td>\n",
       "      <td>Vanguard</td>\n",
       "      <td>https://apps.apple.com/us/app/vanguard/id14660...</td>\n",
       "      <td>Lifestyle</td>\n",
       "      <td>4+</td>\n",
       "      <td>87821312.0</td>\n",
       "      <td>9.0</td>\n",
       "      <td>2020-03-25T07:00:00Z</td>\n",
       "      <td>2021-10-05T23:12:01Z</td>\n",
       "      <td>1.1.10</td>\n",
       "      <td>0.0</td>\n",
       "      <td>USD</td>\n",
       "      <td>True</td>\n",
       "      <td>1459748843</td>\n",
       "      <td>Vanguard Home Empreendimentos Imobiliarios LTDA</td>\n",
       "      <td>https://apps.apple.com/us/developer/vanguard-h...</td>\n",
       "      <td>0.00000</td>\n",
       "      <td>0</td>\n",
       "      <td>0.00000</td>\n",
       "      <td>0</td>\n",
       "    </tr>\n",
       "    <tr>\n",
       "      <th>1024185</th>\n",
       "      <td>com.proptex.vanguard.barcelona</td>\n",
       "      <td>Vanguard</td>\n",
       "      <td>https://apps.apple.com/us/app/vanguard/id15690...</td>\n",
       "      <td>Productivity</td>\n",
       "      <td>17+</td>\n",
       "      <td>35228672.0</td>\n",
       "      <td>13.0</td>\n",
       "      <td>2021-06-11T07:00:00Z</td>\n",
       "      <td>2021-09-05T08:02:33Z</td>\n",
       "      <td>1.0.11</td>\n",
       "      <td>0.0</td>\n",
       "      <td>USD</td>\n",
       "      <td>True</td>\n",
       "      <td>1569057203</td>\n",
       "      <td>3k CO-LIVING $ ACCOMODATION</td>\n",
       "      <td>https://apps.apple.com/us/developer/3k-co-livi...</td>\n",
       "      <td>0.00000</td>\n",
       "      <td>0</td>\n",
       "      <td>0.00000</td>\n",
       "      <td>0</td>\n",
       "    </tr>\n",
       "    <tr>\n",
       "      <th>1066082</th>\n",
       "      <td>com.partnernogueiraalliance1.Vanguard1</td>\n",
       "      <td>Vanguard</td>\n",
       "      <td>https://apps.apple.com/us/app/vanguard/id14412...</td>\n",
       "      <td>Reference</td>\n",
       "      <td>4+</td>\n",
       "      <td>24201216.0</td>\n",
       "      <td>12.0</td>\n",
       "      <td>2018-11-13T01:31:37Z</td>\n",
       "      <td>2021-03-24T12:38:41Z</td>\n",
       "      <td>1.1.2</td>\n",
       "      <td>0.0</td>\n",
       "      <td>USD</td>\n",
       "      <td>True</td>\n",
       "      <td>1441217235</td>\n",
       "      <td>TONANDEL PTY LTD</td>\n",
       "      <td>https://apps.apple.com/us/developer/tonandel-p...</td>\n",
       "      <td>0.00000</td>\n",
       "      <td>0</td>\n",
       "      <td>0.00000</td>\n",
       "      <td>0</td>\n",
       "    </tr>\n",
       "    <tr>\n",
       "      <th>1094792</th>\n",
       "      <td>com.justbrands.highstreet.vanguard.ipad</td>\n",
       "      <td>Vanguard</td>\n",
       "      <td>https://apps.apple.com/us/app/vanguard/id91943...</td>\n",
       "      <td>Shopping</td>\n",
       "      <td>4+</td>\n",
       "      <td>68751360.0</td>\n",
       "      <td>13.0</td>\n",
       "      <td>2014-09-28T16:38:41Z</td>\n",
       "      <td>2021-07-26T09:36:18Z</td>\n",
       "      <td>2.114.14</td>\n",
       "      <td>0.0</td>\n",
       "      <td>USD</td>\n",
       "      <td>True</td>\n",
       "      <td>849091402</td>\n",
       "      <td>Just Brands B.V.</td>\n",
       "      <td>https://apps.apple.com/us/developer/just-brand...</td>\n",
       "      <td>5.00000</td>\n",
       "      <td>1</td>\n",
       "      <td>5.00000</td>\n",
       "      <td>1</td>\n",
       "    </tr>\n",
       "  </tbody>\n",
       "</table>\n",
       "</div>"
      ],
      "text/plain": [
       "                                          App_Id  App_Name  \\\n",
       "478488                          com.vanguard.app  Vanguard   \n",
       "624553                              com.omr.vngu  Vanguard   \n",
       "871735                       br.com.vanguardhome  Vanguard   \n",
       "1024185           com.proptex.vanguard.barcelona  Vanguard   \n",
       "1066082   com.partnernogueiraalliance1.Vanguard1  Vanguard   \n",
       "1094792  com.justbrands.highstreet.vanguard.ipad  Vanguard   \n",
       "\n",
       "                                              AppStore_Url Primary_Genre  \\\n",
       "478488   https://apps.apple.com/us/app/vanguard/id33518...       Finance   \n",
       "624553   https://apps.apple.com/us/app/vanguard/id15822...         Games   \n",
       "871735   https://apps.apple.com/us/app/vanguard/id14660...     Lifestyle   \n",
       "1024185  https://apps.apple.com/us/app/vanguard/id15690...  Productivity   \n",
       "1066082  https://apps.apple.com/us/app/vanguard/id14412...     Reference   \n",
       "1094792  https://apps.apple.com/us/app/vanguard/id91943...      Shopping   \n",
       "\n",
       "        Content_Rating   Size_Bytes Required_IOS_Version  \\\n",
       "478488              4+  160800768.0                 10.0   \n",
       "624553              4+  191240192.0                 10.0   \n",
       "871735              4+   87821312.0                  9.0   \n",
       "1024185            17+   35228672.0                 13.0   \n",
       "1066082             4+   24201216.0                 12.0   \n",
       "1094792             4+   68751360.0                 13.0   \n",
       "\n",
       "                     Released               Updated   Version  Price Currency  \\\n",
       "478488   2009-10-24T19:14:54Z  2021-08-26T19:55:20Z     11.14    0.0      USD   \n",
       "624553   2021-08-27T07:00:00Z  2021-08-27T12:16:53Z       1.0    0.0      USD   \n",
       "871735   2020-03-25T07:00:00Z  2021-10-05T23:12:01Z    1.1.10    0.0      USD   \n",
       "1024185  2021-06-11T07:00:00Z  2021-09-05T08:02:33Z    1.0.11    0.0      USD   \n",
       "1066082  2018-11-13T01:31:37Z  2021-03-24T12:38:41Z     1.1.2    0.0      USD   \n",
       "1094792  2014-09-28T16:38:41Z  2021-07-26T09:36:18Z  2.114.14    0.0      USD   \n",
       "\n",
       "         Free  DeveloperId                                        Developer  \\\n",
       "478488   True    335186212                         The Vanguard Group, Inc.   \n",
       "624553   True   1582197355                                       omar naser   \n",
       "871735   True   1459748843  Vanguard Home Empreendimentos Imobiliarios LTDA   \n",
       "1024185  True   1569057203                      3k CO-LIVING $ ACCOMODATION   \n",
       "1066082  True   1441217235                                 TONANDEL PTY LTD   \n",
       "1094792  True    849091402                                 Just Brands B.V.   \n",
       "\n",
       "                                             Developer_Url  \\\n",
       "478488   https://apps.apple.com/us/developer/the-vangua...   \n",
       "624553   https://apps.apple.com/us/developer/omar-naser...   \n",
       "871735   https://apps.apple.com/us/developer/vanguard-h...   \n",
       "1024185  https://apps.apple.com/us/developer/3k-co-livi...   \n",
       "1066082  https://apps.apple.com/us/developer/tonandel-p...   \n",
       "1094792  https://apps.apple.com/us/developer/just-brand...   \n",
       "\n",
       "         Average_User_Rating  Reviews  Current_Version_Score  \\\n",
       "478488               4.73977   167472                4.73977   \n",
       "624553               3.00000        2                3.00000   \n",
       "871735               0.00000        0                0.00000   \n",
       "1024185              0.00000        0                0.00000   \n",
       "1066082              0.00000        0                0.00000   \n",
       "1094792              5.00000        1                5.00000   \n",
       "\n",
       "         Current_Version_Reviews  \n",
       "478488                    167472  \n",
       "624553                         2  \n",
       "871735                         0  \n",
       "1024185                        0  \n",
       "1066082                        0  \n",
       "1094792                        1  "
      ]
     },
     "execution_count": 25,
     "metadata": {},
     "output_type": "execute_result"
    }
   ],
   "source": [
    "#Lets See which apps has duplicate name:\n",
    "df[df['App_Name'] == 'Vanguard']"
   ]
  },
  {
   "cell_type": "markdown",
   "id": "c253ab2a",
   "metadata": {
    "papermill": {
     "duration": 0.0337,
     "end_time": "2023-08-18T05:28:47.678874",
     "exception": false,
     "start_time": "2023-08-18T05:28:47.645174",
     "status": "completed"
    },
    "tags": []
   },
   "source": [
    "Although App_name may have duplications, the records are unique as a whole, with varying versions, AppIds, and release dates."
   ]
  },
  {
   "cell_type": "markdown",
   "id": "222e3869",
   "metadata": {
    "papermill": {
     "duration": 0.032571,
     "end_time": "2023-08-18T05:28:47.745238",
     "exception": false,
     "start_time": "2023-08-18T05:28:47.712667",
     "status": "completed"
    },
    "tags": []
   },
   "source": [
    "Milestone 2: Hence no duplicates found ✅"
   ]
  },
  {
   "cell_type": "markdown",
   "id": "7a0230ad",
   "metadata": {
    "papermill": {
     "duration": 0.032581,
     "end_time": "2023-08-18T05:28:47.811044",
     "exception": false,
     "start_time": "2023-08-18T05:28:47.778463",
     "status": "completed"
    },
    "tags": []
   },
   "source": [
    "# 10.0 Feature Engineering"
   ]
  },
  {
   "cell_type": "code",
   "execution_count": 26,
   "id": "e5a97b76",
   "metadata": {
    "execution": {
     "iopub.execute_input": "2023-08-18T05:28:47.879221Z",
     "iopub.status.busy": "2023-08-18T05:28:47.878842Z",
     "iopub.status.idle": "2023-08-18T05:28:47.885616Z",
     "shell.execute_reply": "2023-08-18T05:28:47.884445Z"
    },
    "papermill": {
     "duration": 0.044042,
     "end_time": "2023-08-18T05:28:47.887815",
     "exception": false,
     "start_time": "2023-08-18T05:28:47.843773",
     "status": "completed"
    },
    "tags": []
   },
   "outputs": [
    {
     "data": {
      "text/plain": [
       "Index(['App_Id', 'App_Name', 'AppStore_Url', 'Primary_Genre', 'Content_Rating',\n",
       "       'Size_Bytes', 'Required_IOS_Version', 'Released', 'Updated', 'Version',\n",
       "       'Price', 'Currency', 'Free', 'DeveloperId', 'Developer',\n",
       "       'Developer_Url', 'Average_User_Rating', 'Reviews',\n",
       "       'Current_Version_Score', 'Current_Version_Reviews'],\n",
       "      dtype='object')"
      ]
     },
     "execution_count": 26,
     "metadata": {},
     "output_type": "execute_result"
    }
   ],
   "source": [
    "df.columns"
   ]
  },
  {
   "cell_type": "markdown",
   "id": "36c75cfb",
   "metadata": {
    "papermill": {
     "duration": 0.032994,
     "end_time": "2023-08-18T05:28:47.953990",
     "exception": false,
     "start_time": "2023-08-18T05:28:47.920996",
     "status": "completed"
    },
    "tags": []
   },
   "source": [
    "### 10.1 Convet Content_Rating into Age_group"
   ]
  },
  {
   "cell_type": "code",
   "execution_count": 27,
   "id": "b9319b6c",
   "metadata": {
    "execution": {
     "iopub.execute_input": "2023-08-18T05:28:48.024335Z",
     "iopub.status.busy": "2023-08-18T05:28:48.023948Z",
     "iopub.status.idle": "2023-08-18T05:28:48.100458Z",
     "shell.execute_reply": "2023-08-18T05:28:48.099407Z"
    },
    "papermill": {
     "duration": 0.115039,
     "end_time": "2023-08-18T05:28:48.102876",
     "exception": false,
     "start_time": "2023-08-18T05:28:47.987837",
     "status": "completed"
    },
    "scrolled": true,
    "tags": []
   },
   "outputs": [
    {
     "data": {
      "text/plain": [
       "array(['4+', '17+', '9+', '12+', 'Not yet rated'], dtype=object)"
      ]
     },
     "execution_count": 27,
     "metadata": {},
     "output_type": "execute_result"
    }
   ],
   "source": [
    "#Lets See unique values in Content_Rating\n",
    "df['Content_Rating'].unique()"
   ]
  },
  {
   "cell_type": "code",
   "execution_count": 28,
   "id": "b8ecf564",
   "metadata": {
    "execution": {
     "iopub.execute_input": "2023-08-18T05:28:48.172347Z",
     "iopub.status.busy": "2023-08-18T05:28:48.171911Z",
     "iopub.status.idle": "2023-08-18T05:28:48.267103Z",
     "shell.execute_reply": "2023-08-18T05:28:48.265633Z"
    },
    "papermill": {
     "duration": 0.132941,
     "end_time": "2023-08-18T05:28:48.269949",
     "exception": false,
     "start_time": "2023-08-18T05:28:48.137008",
     "status": "completed"
    },
    "tags": []
   },
   "outputs": [],
   "source": [
    "#Lets make age categories according to Content_Rating.\n",
    "df[\"Age_group\"] = df['Content_Rating'].map({'4+': 'Children', '9+': 'Teens', '12+': 'Adults', 'Not yet rated': 'Everyone'})"
   ]
  },
  {
   "cell_type": "code",
   "execution_count": 29,
   "id": "58003733",
   "metadata": {
    "execution": {
     "iopub.execute_input": "2023-08-18T05:28:48.339639Z",
     "iopub.status.busy": "2023-08-18T05:28:48.338900Z",
     "iopub.status.idle": "2023-08-18T05:28:49.091210Z",
     "shell.execute_reply": "2023-08-18T05:28:49.090068Z"
    },
    "papermill": {
     "duration": 0.789672,
     "end_time": "2023-08-18T05:28:49.093868",
     "exception": false,
     "start_time": "2023-08-18T05:28:48.304196",
     "status": "completed"
    },
    "scrolled": true,
    "tags": []
   },
   "outputs": [
    {
     "data": {
      "text/html": [
       "<div>\n",
       "<style scoped>\n",
       "    .dataframe tbody tr th:only-of-type {\n",
       "        vertical-align: middle;\n",
       "    }\n",
       "\n",
       "    .dataframe tbody tr th {\n",
       "        vertical-align: top;\n",
       "    }\n",
       "\n",
       "    .dataframe thead th {\n",
       "        text-align: right;\n",
       "    }\n",
       "</style>\n",
       "<table border=\"1\" class=\"dataframe\">\n",
       "  <thead>\n",
       "    <tr style=\"text-align: right;\">\n",
       "      <th></th>\n",
       "      <th>Content_Rating</th>\n",
       "      <th>Age_group</th>\n",
       "    </tr>\n",
       "  </thead>\n",
       "  <tbody>\n",
       "    <tr>\n",
       "      <th>0</th>\n",
       "      <td>4+</td>\n",
       "      <td>Children</td>\n",
       "    </tr>\n",
       "    <tr>\n",
       "      <th>1</th>\n",
       "      <td>4+</td>\n",
       "      <td>Children</td>\n",
       "    </tr>\n",
       "    <tr>\n",
       "      <th>2</th>\n",
       "      <td>4+</td>\n",
       "      <td>Children</td>\n",
       "    </tr>\n",
       "    <tr>\n",
       "      <th>3</th>\n",
       "      <td>4+</td>\n",
       "      <td>Children</td>\n",
       "    </tr>\n",
       "    <tr>\n",
       "      <th>4</th>\n",
       "      <td>4+</td>\n",
       "      <td>Children</td>\n",
       "    </tr>\n",
       "  </tbody>\n",
       "</table>\n",
       "</div>"
      ],
      "text/plain": [
       "  Content_Rating Age_group\n",
       "0             4+  Children\n",
       "1             4+  Children\n",
       "2             4+  Children\n",
       "3             4+  Children\n",
       "4             4+  Children"
      ]
     },
     "execution_count": 29,
     "metadata": {},
     "output_type": "execute_result"
    }
   ],
   "source": [
    "df[['Content_Rating', 'Age_group']].head()"
   ]
  },
  {
   "cell_type": "code",
   "execution_count": 30,
   "id": "e17aee7a",
   "metadata": {
    "execution": {
     "iopub.execute_input": "2023-08-18T05:28:49.162821Z",
     "iopub.status.busy": "2023-08-18T05:28:49.162139Z",
     "iopub.status.idle": "2023-08-18T05:28:49.234373Z",
     "shell.execute_reply": "2023-08-18T05:28:49.233253Z"
    },
    "papermill": {
     "duration": 0.109688,
     "end_time": "2023-08-18T05:28:49.237033",
     "exception": false,
     "start_time": "2023-08-18T05:28:49.127345",
     "status": "completed"
    },
    "tags": []
   },
   "outputs": [
    {
     "data": {
      "text/plain": [
       "Children    980969\n",
       "Adults       89569\n",
       "Teens        35697\n",
       "Everyone        10\n",
       "Name: Age_group, dtype: int64"
      ]
     },
     "execution_count": 30,
     "metadata": {},
     "output_type": "execute_result"
    }
   ],
   "source": [
    "df['Age_group'].value_counts()"
   ]
  },
  {
   "cell_type": "markdown",
   "id": "03be4898",
   "metadata": {
    "papermill": {
     "duration": 0.034435,
     "end_time": "2023-08-18T05:28:49.305065",
     "exception": false,
     "start_time": "2023-08-18T05:28:49.270630",
     "status": "completed"
    },
    "tags": []
   },
   "source": [
    "### Observation Set 06:\n",
    "Content rating of an application refers to a rating system that describes the minimum maturity level of the content in the app.<br>\n",
    "4+: Contains no objectionable material. 9+: May contain content unsuitable for children under the age of 9. 12+: May contain content unsuitable for children under the age of 12. 17+: May contain content unsuitable for children under the age of 17.\n",
    "\n",
    "<br>Now, For better Understanding we makes age_group column to simple 4 readable Categories:\n",
    "<br>Children, Teens, Adults & Everyone\n",
    "<br>4+: Children\n",
    "<br>17+: Adults\n",
    "<br>9+: Children\n",
    "<br>12+: Teens\n",
    "<br>Not yet rated : Everyone"
   ]
  },
  {
   "cell_type": "markdown",
   "id": "98c15edd",
   "metadata": {
    "papermill": {
     "duration": 0.03357,
     "end_time": "2023-08-18T05:28:49.372637",
     "exception": false,
     "start_time": "2023-08-18T05:28:49.339067",
     "status": "completed"
    },
    "tags": []
   },
   "source": [
    "### 10.2 Convert Size_Bytes into Size_MB"
   ]
  },
  {
   "cell_type": "markdown",
   "id": "b3359e77",
   "metadata": {
    "papermill": {
     "duration": 0.033409,
     "end_time": "2023-08-18T05:28:49.440029",
     "exception": false,
     "start_time": "2023-08-18T05:28:49.406620",
     "status": "completed"
    },
    "tags": []
   },
   "source": [
    "We will convert Size_Bytes into MB for better understanding. Simple formula for convertion of bytes to MB is: megabytes=bytes/1024/1024"
   ]
  },
  {
   "cell_type": "code",
   "execution_count": 31,
   "id": "7ff67086",
   "metadata": {
    "execution": {
     "iopub.execute_input": "2023-08-18T05:28:49.511561Z",
     "iopub.status.busy": "2023-08-18T05:28:49.510878Z",
     "iopub.status.idle": "2023-08-18T05:28:49.970478Z",
     "shell.execute_reply": "2023-08-18T05:28:49.968938Z"
    },
    "papermill": {
     "duration": 0.499701,
     "end_time": "2023-08-18T05:28:49.973235",
     "exception": false,
     "start_time": "2023-08-18T05:28:49.473534",
     "status": "completed"
    },
    "tags": []
   },
   "outputs": [],
   "source": [
    "# Make new column of Size_MB to convert Size_Bytes into MB\n",
    "df['Size_MB'] = df['Size_Bytes'].apply(lambda x: (float(x) / 1024)/1024)"
   ]
  },
  {
   "cell_type": "code",
   "execution_count": 32,
   "id": "4b12a81a",
   "metadata": {
    "execution": {
     "iopub.execute_input": "2023-08-18T05:28:50.045654Z",
     "iopub.status.busy": "2023-08-18T05:28:50.045199Z",
     "iopub.status.idle": "2023-08-18T05:28:50.053046Z",
     "shell.execute_reply": "2023-08-18T05:28:50.052083Z"
    },
    "papermill": {
     "duration": 0.046423,
     "end_time": "2023-08-18T05:28:50.055014",
     "exception": false,
     "start_time": "2023-08-18T05:28:50.008591",
     "status": "completed"
    },
    "scrolled": true,
    "tags": []
   },
   "outputs": [
    {
     "data": {
      "text/plain": [
       "0    20.974609\n",
       "1    12.527344\n",
       "2    20.926758\n",
       "3    78.059570\n",
       "4    61.695312\n",
       "Name: Size_MB, dtype: float64"
      ]
     },
     "execution_count": 32,
     "metadata": {},
     "output_type": "execute_result"
    }
   ],
   "source": [
    "df['Size_MB'].head()"
   ]
  },
  {
   "cell_type": "code",
   "execution_count": 33,
   "id": "6321d780",
   "metadata": {
    "execution": {
     "iopub.execute_input": "2023-08-18T05:28:50.124999Z",
     "iopub.status.busy": "2023-08-18T05:28:50.124534Z",
     "iopub.status.idle": "2023-08-18T05:28:50.184148Z",
     "shell.execute_reply": "2023-08-18T05:28:50.183159Z"
    },
    "papermill": {
     "duration": 0.097623,
     "end_time": "2023-08-18T05:28:50.186617",
     "exception": false,
     "start_time": "2023-08-18T05:28:50.088994",
     "status": "completed"
    },
    "scrolled": true,
    "tags": []
   },
   "outputs": [
    {
     "data": {
      "text/plain": [
       "count    1.230372e+06\n",
       "mean     7.162916e+01\n",
       "std      2.211112e+02\n",
       "min      2.634811e-02\n",
       "25%      1.947168e+01\n",
       "50%      4.133594e+01\n",
       "75%      7.976660e+01\n",
       "max      7.322259e+04\n",
       "Name: Size_MB, dtype: float64"
      ]
     },
     "execution_count": 33,
     "metadata": {},
     "output_type": "execute_result"
    }
   ],
   "source": [
    "df['Size_MB'].describe()"
   ]
  },
  {
   "cell_type": "markdown",
   "id": "eddd0400",
   "metadata": {
    "papermill": {
     "duration": 0.099977,
     "end_time": "2023-08-18T05:28:50.321063",
     "exception": false,
     "start_time": "2023-08-18T05:28:50.221086",
     "status": "completed"
    },
    "tags": []
   },
   "source": [
    "### 10.3 Create column `Type` for free and paid Apps\n",
    "\n",
    "The `Free` column can be helpful in making data more readable and understandable when convert True with Free and False with Paid to make new column `Type`. This column can be used to quickly identify which apps are free and which apps are paid. "
   ]
  },
  {
   "cell_type": "code",
   "execution_count": 34,
   "id": "180050b5",
   "metadata": {
    "execution": {
     "iopub.execute_input": "2023-08-18T05:28:50.392395Z",
     "iopub.status.busy": "2023-08-18T05:28:50.391105Z",
     "iopub.status.idle": "2023-08-18T05:28:50.406737Z",
     "shell.execute_reply": "2023-08-18T05:28:50.405688Z"
    },
    "papermill": {
     "duration": 0.054074,
     "end_time": "2023-08-18T05:28:50.409047",
     "exception": false,
     "start_time": "2023-08-18T05:28:50.354973",
     "status": "completed"
    },
    "tags": []
   },
   "outputs": [
    {
     "data": {
      "text/plain": [
       "array([ True, False])"
      ]
     },
     "execution_count": 34,
     "metadata": {},
     "output_type": "execute_result"
    }
   ],
   "source": [
    "#Lets See unique values in Free column\n",
    "df['Free'].unique()"
   ]
  },
  {
   "cell_type": "code",
   "execution_count": 35,
   "id": "7ebbc1e3",
   "metadata": {
    "execution": {
     "iopub.execute_input": "2023-08-18T05:28:50.482592Z",
     "iopub.status.busy": "2023-08-18T05:28:50.482174Z",
     "iopub.status.idle": "2023-08-18T05:28:50.592511Z",
     "shell.execute_reply": "2023-08-18T05:28:50.591225Z"
    },
    "papermill": {
     "duration": 0.150118,
     "end_time": "2023-08-18T05:28:50.595071",
     "exception": false,
     "start_time": "2023-08-18T05:28:50.444953",
     "status": "completed"
    },
    "tags": []
   },
   "outputs": [],
   "source": [
    "# Make new column Type for free, paid ; \n",
    "df['Type'] = np.where(df['Free'] == True,'Free','Paid')"
   ]
  },
  {
   "cell_type": "code",
   "execution_count": 36,
   "id": "cea0d096",
   "metadata": {
    "execution": {
     "iopub.execute_input": "2023-08-18T05:28:50.668249Z",
     "iopub.status.busy": "2023-08-18T05:28:50.667866Z",
     "iopub.status.idle": "2023-08-18T05:28:50.675584Z",
     "shell.execute_reply": "2023-08-18T05:28:50.674787Z"
    },
    "papermill": {
     "duration": 0.046628,
     "end_time": "2023-08-18T05:28:50.677592",
     "exception": false,
     "start_time": "2023-08-18T05:28:50.630964",
     "status": "completed"
    },
    "tags": []
   },
   "outputs": [
    {
     "data": {
      "text/plain": [
       "0    Free\n",
       "1    Free\n",
       "2    Free\n",
       "3    Paid\n",
       "4    Free\n",
       "Name: Type, dtype: object"
      ]
     },
     "execution_count": 36,
     "metadata": {},
     "output_type": "execute_result"
    }
   ],
   "source": [
    "df['Type'].head()"
   ]
  },
  {
   "cell_type": "markdown",
   "id": "6fed6324",
   "metadata": {
    "papermill": {
     "duration": 0.035347,
     "end_time": "2023-08-18T05:28:50.748240",
     "exception": false,
     "start_time": "2023-08-18T05:28:50.712893",
     "status": "completed"
    },
    "tags": []
   },
   "source": [
    "### 10.4 Make ReviewCategory Column from Reviews\n",
    "\n",
    "Let's change the Reviews to certain ranges for the better understanding of the data"
   ]
  },
  {
   "cell_type": "code",
   "execution_count": 37,
   "id": "ba534f6c",
   "metadata": {
    "execution": {
     "iopub.execute_input": "2023-08-18T05:28:50.819499Z",
     "iopub.status.busy": "2023-08-18T05:28:50.818608Z",
     "iopub.status.idle": "2023-08-18T05:28:50.862642Z",
     "shell.execute_reply": "2023-08-18T05:28:50.861559Z"
    },
    "papermill": {
     "duration": 0.082474,
     "end_time": "2023-08-18T05:28:50.865211",
     "exception": false,
     "start_time": "2023-08-18T05:28:50.782737",
     "status": "completed"
    },
    "tags": []
   },
   "outputs": [
    {
     "data": {
      "text/plain": [
       "count    1.230372e+06\n",
       "mean     8.259505e+02\n",
       "std      5.016059e+04\n",
       "min      0.000000e+00\n",
       "25%      0.000000e+00\n",
       "50%      0.000000e+00\n",
       "75%      3.000000e+00\n",
       "max      2.268533e+07\n",
       "Name: Reviews, dtype: float64"
      ]
     },
     "execution_count": 37,
     "metadata": {},
     "output_type": "execute_result"
    }
   ],
   "source": [
    "df['Reviews'].describe()"
   ]
  },
  {
   "cell_type": "code",
   "execution_count": 38,
   "id": "98d7256e",
   "metadata": {
    "execution": {
     "iopub.execute_input": "2023-08-18T05:28:50.936774Z",
     "iopub.status.busy": "2023-08-18T05:28:50.936028Z",
     "iopub.status.idle": "2023-08-18T05:28:51.860537Z",
     "shell.execute_reply": "2023-08-18T05:28:51.859514Z"
    },
    "papermill": {
     "duration": 0.963736,
     "end_time": "2023-08-18T05:28:51.863602",
     "exception": false,
     "start_time": "2023-08-18T05:28:50.899866",
     "status": "completed"
    },
    "tags": []
   },
   "outputs": [
    {
     "data": {
      "text/html": [
       "<div>\n",
       "<style scoped>\n",
       "    .dataframe tbody tr th:only-of-type {\n",
       "        vertical-align: middle;\n",
       "    }\n",
       "\n",
       "    .dataframe tbody tr th {\n",
       "        vertical-align: top;\n",
       "    }\n",
       "\n",
       "    .dataframe thead th {\n",
       "        text-align: right;\n",
       "    }\n",
       "</style>\n",
       "<table border=\"1\" class=\"dataframe\">\n",
       "  <thead>\n",
       "    <tr style=\"text-align: right;\">\n",
       "      <th></th>\n",
       "      <th>Reviews</th>\n",
       "      <th>ReviewCategory</th>\n",
       "    </tr>\n",
       "  </thead>\n",
       "  <tbody>\n",
       "    <tr>\n",
       "      <th>0</th>\n",
       "      <td>0</td>\n",
       "      <td>Less_than_10K</td>\n",
       "    </tr>\n",
       "    <tr>\n",
       "      <th>1</th>\n",
       "      <td>1</td>\n",
       "      <td>Less_than_10K</td>\n",
       "    </tr>\n",
       "    <tr>\n",
       "      <th>2</th>\n",
       "      <td>0</td>\n",
       "      <td>Less_than_10K</td>\n",
       "    </tr>\n",
       "    <tr>\n",
       "      <th>3</th>\n",
       "      <td>0</td>\n",
       "      <td>Less_than_10K</td>\n",
       "    </tr>\n",
       "    <tr>\n",
       "      <th>4</th>\n",
       "      <td>0</td>\n",
       "      <td>Less_than_10K</td>\n",
       "    </tr>\n",
       "  </tbody>\n",
       "</table>\n",
       "</div>"
      ],
      "text/plain": [
       "   Reviews ReviewCategory\n",
       "0        0  Less_than_10K\n",
       "1        1  Less_than_10K\n",
       "2        0  Less_than_10K\n",
       "3        0  Less_than_10K\n",
       "4        0  Less_than_10K"
      ]
     },
     "execution_count": 38,
     "metadata": {},
     "output_type": "execute_result"
    }
   ],
   "source": [
    "# Create a ReviewCategory column\n",
    "df['ReviewCategory'] = ''\n",
    "df.loc[df['Reviews'] <= 10000, 'ReviewCategory' ] = 'Less_than_10K'\n",
    "df.loc[(df['Reviews'] > 10000) & (df['Reviews']<= 500000),'ReviewCategory' ] = '10K_to_500K'\n",
    "df.loc[(df['Reviews'] > 500000) & (df['Reviews']<= 1000000),'ReviewCategory' ] = '500K_to_1000k'\n",
    "df.loc[(df['Reviews'] > 1000000) & (df['Reviews']<= 22685334),'ReviewCategory' ] = 'Million_Plus'\n",
    "df[['Reviews','ReviewCategory' ]].head()"
   ]
  },
  {
   "cell_type": "code",
   "execution_count": 39,
   "id": "ba3cd110",
   "metadata": {
    "execution": {
     "iopub.execute_input": "2023-08-18T05:28:51.934719Z",
     "iopub.status.busy": "2023-08-18T05:28:51.934328Z",
     "iopub.status.idle": "2023-08-18T05:28:52.006911Z",
     "shell.execute_reply": "2023-08-18T05:28:52.005361Z"
    },
    "papermill": {
     "duration": 0.111464,
     "end_time": "2023-08-18T05:28:52.009698",
     "exception": false,
     "start_time": "2023-08-18T05:28:51.898234",
     "status": "completed"
    },
    "tags": []
   },
   "outputs": [
    {
     "data": {
      "text/plain": [
       "Less_than_10K    1223348\n",
       "10K_to_500K         6726\n",
       "Million_Plus         152\n",
       "500K_to_1000k        146\n",
       "Name: ReviewCategory, dtype: int64"
      ]
     },
     "execution_count": 39,
     "metadata": {},
     "output_type": "execute_result"
    }
   ],
   "source": [
    "df['ReviewCategory'].value_counts()"
   ]
  },
  {
   "cell_type": "code",
   "execution_count": 40,
   "id": "70533630",
   "metadata": {
    "execution": {
     "iopub.execute_input": "2023-08-18T05:28:52.082907Z",
     "iopub.status.busy": "2023-08-18T05:28:52.082520Z",
     "iopub.status.idle": "2023-08-18T05:28:52.108043Z",
     "shell.execute_reply": "2023-08-18T05:28:52.106903Z"
    },
    "papermill": {
     "duration": 0.064948,
     "end_time": "2023-08-18T05:28:52.110318",
     "exception": false,
     "start_time": "2023-08-18T05:28:52.045370",
     "status": "completed"
    },
    "tags": []
   },
   "outputs": [
    {
     "data": {
      "text/html": [
       "<div>\n",
       "<style scoped>\n",
       "    .dataframe tbody tr th:only-of-type {\n",
       "        vertical-align: middle;\n",
       "    }\n",
       "\n",
       "    .dataframe tbody tr th {\n",
       "        vertical-align: top;\n",
       "    }\n",
       "\n",
       "    .dataframe thead th {\n",
       "        text-align: right;\n",
       "    }\n",
       "</style>\n",
       "<table border=\"1\" class=\"dataframe\">\n",
       "  <thead>\n",
       "    <tr style=\"text-align: right;\">\n",
       "      <th></th>\n",
       "      <th>App_Id</th>\n",
       "      <th>App_Name</th>\n",
       "      <th>AppStore_Url</th>\n",
       "      <th>Primary_Genre</th>\n",
       "      <th>Content_Rating</th>\n",
       "      <th>Size_Bytes</th>\n",
       "      <th>Required_IOS_Version</th>\n",
       "      <th>Released</th>\n",
       "      <th>Updated</th>\n",
       "      <th>Version</th>\n",
       "      <th>Price</th>\n",
       "      <th>Currency</th>\n",
       "      <th>Free</th>\n",
       "      <th>DeveloperId</th>\n",
       "      <th>Developer</th>\n",
       "      <th>Developer_Url</th>\n",
       "      <th>Average_User_Rating</th>\n",
       "      <th>Reviews</th>\n",
       "      <th>Current_Version_Score</th>\n",
       "      <th>Current_Version_Reviews</th>\n",
       "      <th>Age_group</th>\n",
       "      <th>Size_MB</th>\n",
       "      <th>Type</th>\n",
       "      <th>ReviewCategory</th>\n",
       "    </tr>\n",
       "  </thead>\n",
       "  <tbody>\n",
       "    <tr>\n",
       "      <th>0</th>\n",
       "      <td>com.hkbu.arc.apaper</td>\n",
       "      <td>A+ Paper Guide</td>\n",
       "      <td>https://apps.apple.com/us/app/a-paper-guide/id...</td>\n",
       "      <td>Education</td>\n",
       "      <td>4+</td>\n",
       "      <td>21993472.0</td>\n",
       "      <td>8.0</td>\n",
       "      <td>2017-09-28T03:02:41Z</td>\n",
       "      <td>2018-12-21T21:30:36Z</td>\n",
       "      <td>1.1.2</td>\n",
       "      <td>0.00</td>\n",
       "      <td>USD</td>\n",
       "      <td>True</td>\n",
       "      <td>1375410542</td>\n",
       "      <td>HKBU ARC</td>\n",
       "      <td>https://apps.apple.com/us/developer/hkbu-arc/i...</td>\n",
       "      <td>0.0</td>\n",
       "      <td>0</td>\n",
       "      <td>0.0</td>\n",
       "      <td>0</td>\n",
       "      <td>Children</td>\n",
       "      <td>20.974609</td>\n",
       "      <td>Free</td>\n",
       "      <td>Less_than_10K</td>\n",
       "    </tr>\n",
       "    <tr>\n",
       "      <th>1</th>\n",
       "      <td>com.dmitriev.abooks</td>\n",
       "      <td>A-Books</td>\n",
       "      <td>https://apps.apple.com/us/app/a-books/id103157...</td>\n",
       "      <td>Book</td>\n",
       "      <td>4+</td>\n",
       "      <td>13135872.0</td>\n",
       "      <td>10.0</td>\n",
       "      <td>2015-08-31T19:31:32Z</td>\n",
       "      <td>2019-07-23T20:31:09Z</td>\n",
       "      <td>1.3</td>\n",
       "      <td>0.00</td>\n",
       "      <td>USD</td>\n",
       "      <td>True</td>\n",
       "      <td>1031572001</td>\n",
       "      <td>Roman Dmitriev</td>\n",
       "      <td>https://apps.apple.com/us/developer/roman-dmit...</td>\n",
       "      <td>5.0</td>\n",
       "      <td>1</td>\n",
       "      <td>5.0</td>\n",
       "      <td>1</td>\n",
       "      <td>Children</td>\n",
       "      <td>12.527344</td>\n",
       "      <td>Free</td>\n",
       "      <td>Less_than_10K</td>\n",
       "    </tr>\n",
       "    <tr>\n",
       "      <th>2</th>\n",
       "      <td>no.terp.abooks</td>\n",
       "      <td>A-books</td>\n",
       "      <td>https://apps.apple.com/us/app/a-books/id145702...</td>\n",
       "      <td>Book</td>\n",
       "      <td>4+</td>\n",
       "      <td>21943296.0</td>\n",
       "      <td>9.0</td>\n",
       "      <td>2021-04-14T07:00:00Z</td>\n",
       "      <td>2021-05-30T21:08:54Z</td>\n",
       "      <td>1.3.1</td>\n",
       "      <td>0.00</td>\n",
       "      <td>USD</td>\n",
       "      <td>True</td>\n",
       "      <td>1457024163</td>\n",
       "      <td>Terp AS</td>\n",
       "      <td>https://apps.apple.com/us/developer/terp-as/id...</td>\n",
       "      <td>0.0</td>\n",
       "      <td>0</td>\n",
       "      <td>0.0</td>\n",
       "      <td>0</td>\n",
       "      <td>Children</td>\n",
       "      <td>20.926758</td>\n",
       "      <td>Free</td>\n",
       "      <td>Less_than_10K</td>\n",
       "    </tr>\n",
       "    <tr>\n",
       "      <th>3</th>\n",
       "      <td>fr.antoinettefleur.Book1</td>\n",
       "      <td>A-F Book #1</td>\n",
       "      <td>https://apps.apple.com/us/app/a-f-book-1/id500...</td>\n",
       "      <td>Book</td>\n",
       "      <td>4+</td>\n",
       "      <td>81851392.0</td>\n",
       "      <td>8.0</td>\n",
       "      <td>2012-02-10T03:40:07Z</td>\n",
       "      <td>2019-10-29T12:40:37Z</td>\n",
       "      <td>1.2</td>\n",
       "      <td>2.99</td>\n",
       "      <td>USD</td>\n",
       "      <td>False</td>\n",
       "      <td>439568839</td>\n",
       "      <td>i-editeur.com</td>\n",
       "      <td>https://apps.apple.com/us/developer/i-editeur-...</td>\n",
       "      <td>0.0</td>\n",
       "      <td>0</td>\n",
       "      <td>0.0</td>\n",
       "      <td>0</td>\n",
       "      <td>Children</td>\n",
       "      <td>78.059570</td>\n",
       "      <td>Paid</td>\n",
       "      <td>Less_than_10K</td>\n",
       "    </tr>\n",
       "    <tr>\n",
       "      <th>4</th>\n",
       "      <td>com.imonstersoft.azdictionaryios</td>\n",
       "      <td>A-Z Synonyms Dictionary</td>\n",
       "      <td>https://apps.apple.com/us/app/a-z-synonyms-dic...</td>\n",
       "      <td>Reference</td>\n",
       "      <td>4+</td>\n",
       "      <td>64692224.0</td>\n",
       "      <td>9.0</td>\n",
       "      <td>2020-12-16T08:00:00Z</td>\n",
       "      <td>2020-12-18T21:36:11Z</td>\n",
       "      <td>1.0.1</td>\n",
       "      <td>0.00</td>\n",
       "      <td>USD</td>\n",
       "      <td>True</td>\n",
       "      <td>656731821</td>\n",
       "      <td>Ngov chiheang</td>\n",
       "      <td>https://apps.apple.com/us/developer/ngov-chihe...</td>\n",
       "      <td>0.0</td>\n",
       "      <td>0</td>\n",
       "      <td>0.0</td>\n",
       "      <td>0</td>\n",
       "      <td>Children</td>\n",
       "      <td>61.695312</td>\n",
       "      <td>Free</td>\n",
       "      <td>Less_than_10K</td>\n",
       "    </tr>\n",
       "  </tbody>\n",
       "</table>\n",
       "</div>"
      ],
      "text/plain": [
       "                             App_Id                 App_Name  \\\n",
       "0               com.hkbu.arc.apaper           A+ Paper Guide   \n",
       "1               com.dmitriev.abooks                  A-Books   \n",
       "2                    no.terp.abooks                  A-books   \n",
       "3          fr.antoinettefleur.Book1              A-F Book #1   \n",
       "4  com.imonstersoft.azdictionaryios  A-Z Synonyms Dictionary   \n",
       "\n",
       "                                        AppStore_Url Primary_Genre  \\\n",
       "0  https://apps.apple.com/us/app/a-paper-guide/id...     Education   \n",
       "1  https://apps.apple.com/us/app/a-books/id103157...          Book   \n",
       "2  https://apps.apple.com/us/app/a-books/id145702...          Book   \n",
       "3  https://apps.apple.com/us/app/a-f-book-1/id500...          Book   \n",
       "4  https://apps.apple.com/us/app/a-z-synonyms-dic...     Reference   \n",
       "\n",
       "  Content_Rating  Size_Bytes Required_IOS_Version              Released  \\\n",
       "0             4+  21993472.0                  8.0  2017-09-28T03:02:41Z   \n",
       "1             4+  13135872.0                 10.0  2015-08-31T19:31:32Z   \n",
       "2             4+  21943296.0                  9.0  2021-04-14T07:00:00Z   \n",
       "3             4+  81851392.0                  8.0  2012-02-10T03:40:07Z   \n",
       "4             4+  64692224.0                  9.0  2020-12-16T08:00:00Z   \n",
       "\n",
       "                Updated Version  Price Currency   Free  DeveloperId  \\\n",
       "0  2018-12-21T21:30:36Z   1.1.2   0.00      USD   True   1375410542   \n",
       "1  2019-07-23T20:31:09Z     1.3   0.00      USD   True   1031572001   \n",
       "2  2021-05-30T21:08:54Z   1.3.1   0.00      USD   True   1457024163   \n",
       "3  2019-10-29T12:40:37Z     1.2   2.99      USD  False    439568839   \n",
       "4  2020-12-18T21:36:11Z   1.0.1   0.00      USD   True    656731821   \n",
       "\n",
       "        Developer                                      Developer_Url  \\\n",
       "0        HKBU ARC  https://apps.apple.com/us/developer/hkbu-arc/i...   \n",
       "1  Roman Dmitriev  https://apps.apple.com/us/developer/roman-dmit...   \n",
       "2         Terp AS  https://apps.apple.com/us/developer/terp-as/id...   \n",
       "3   i-editeur.com  https://apps.apple.com/us/developer/i-editeur-...   \n",
       "4   Ngov chiheang  https://apps.apple.com/us/developer/ngov-chihe...   \n",
       "\n",
       "   Average_User_Rating  Reviews  Current_Version_Score  \\\n",
       "0                  0.0        0                    0.0   \n",
       "1                  5.0        1                    5.0   \n",
       "2                  0.0        0                    0.0   \n",
       "3                  0.0        0                    0.0   \n",
       "4                  0.0        0                    0.0   \n",
       "\n",
       "   Current_Version_Reviews Age_group    Size_MB  Type ReviewCategory  \n",
       "0                        0  Children  20.974609  Free  Less_than_10K  \n",
       "1                        1  Children  12.527344  Free  Less_than_10K  \n",
       "2                        0  Children  20.926758  Free  Less_than_10K  \n",
       "3                        0  Children  78.059570  Paid  Less_than_10K  \n",
       "4                        0  Children  61.695312  Free  Less_than_10K  "
      ]
     },
     "execution_count": 40,
     "metadata": {},
     "output_type": "execute_result"
    }
   ],
   "source": [
    "df.head()"
   ]
  },
  {
   "cell_type": "code",
   "execution_count": 41,
   "id": "ad9a2e74",
   "metadata": {
    "execution": {
     "iopub.execute_input": "2023-08-18T05:28:52.185598Z",
     "iopub.status.busy": "2023-08-18T05:28:52.184628Z",
     "iopub.status.idle": "2023-08-18T05:28:52.193167Z",
     "shell.execute_reply": "2023-08-18T05:28:52.191935Z"
    },
    "papermill": {
     "duration": 0.048482,
     "end_time": "2023-08-18T05:28:52.195418",
     "exception": false,
     "start_time": "2023-08-18T05:28:52.146936",
     "status": "completed"
    },
    "tags": []
   },
   "outputs": [
    {
     "data": {
      "text/plain": [
       "22685334"
      ]
     },
     "execution_count": 41,
     "metadata": {},
     "output_type": "execute_result"
    }
   ],
   "source": [
    "#Lets See maximum Reviews in AppleApps\n",
    "df['Reviews'].max()"
   ]
  },
  {
   "cell_type": "code",
   "execution_count": 42,
   "id": "fbf4dfda",
   "metadata": {
    "execution": {
     "iopub.execute_input": "2023-08-18T05:28:52.269067Z",
     "iopub.status.busy": "2023-08-18T05:28:52.268330Z",
     "iopub.status.idle": "2023-08-18T05:28:52.277720Z",
     "shell.execute_reply": "2023-08-18T05:28:52.276605Z"
    },
    "papermill": {
     "duration": 0.049206,
     "end_time": "2023-08-18T05:28:52.280401",
     "exception": false,
     "start_time": "2023-08-18T05:28:52.231195",
     "status": "completed"
    },
    "scrolled": true,
    "tags": []
   },
   "outputs": [
    {
     "data": {
      "text/plain": [
       "415817    YouTube: Watch, Listen, Stream\n",
       "Name: App_Name, dtype: object"
      ]
     },
     "execution_count": 42,
     "metadata": {},
     "output_type": "execute_result"
    }
   ],
   "source": [
    "#Lets See highest review's app;\n",
    "df['App_Name'].loc[df['Reviews'] == 22685334]"
   ]
  },
  {
   "cell_type": "markdown",
   "id": "49bc2b95",
   "metadata": {
    "papermill": {
     "duration": 0.035155,
     "end_time": "2023-08-18T05:28:52.352086",
     "exception": false,
     "start_time": "2023-08-18T05:28:52.316931",
     "status": "completed"
    },
    "tags": []
   },
   "source": [
    "#### 10.4.1 Exploration of highest Reviews Apps"
   ]
  },
  {
   "cell_type": "code",
   "execution_count": 43,
   "id": "79fe424f",
   "metadata": {
    "execution": {
     "iopub.execute_input": "2023-08-18T05:28:52.425568Z",
     "iopub.status.busy": "2023-08-18T05:28:52.425145Z",
     "iopub.status.idle": "2023-08-18T05:28:52.482128Z",
     "shell.execute_reply": "2023-08-18T05:28:52.481016Z"
    },
    "papermill": {
     "duration": 0.096955,
     "end_time": "2023-08-18T05:28:52.484484",
     "exception": false,
     "start_time": "2023-08-18T05:28:52.387529",
     "status": "completed"
    },
    "tags": []
   },
   "outputs": [
    {
     "data": {
      "text/html": [
       "<div>\n",
       "<style scoped>\n",
       "    .dataframe tbody tr th:only-of-type {\n",
       "        vertical-align: middle;\n",
       "    }\n",
       "\n",
       "    .dataframe tbody tr th {\n",
       "        vertical-align: top;\n",
       "    }\n",
       "\n",
       "    .dataframe thead th {\n",
       "        text-align: right;\n",
       "    }\n",
       "</style>\n",
       "<table border=\"1\" class=\"dataframe\">\n",
       "  <thead>\n",
       "    <tr style=\"text-align: right;\">\n",
       "      <th></th>\n",
       "      <th>App_Name</th>\n",
       "      <th>ReviewCategory</th>\n",
       "      <th>Reviews</th>\n",
       "    </tr>\n",
       "  </thead>\n",
       "  <tbody>\n",
       "    <tr>\n",
       "      <th>0</th>\n",
       "      <td>YouTube: Watch, Listen, Stream</td>\n",
       "      <td>Million_Plus</td>\n",
       "      <td>22685334</td>\n",
       "    </tr>\n",
       "    <tr>\n",
       "      <th>1</th>\n",
       "      <td>Instagram</td>\n",
       "      <td>Million_Plus</td>\n",
       "      <td>21839585</td>\n",
       "    </tr>\n",
       "    <tr>\n",
       "      <th>2</th>\n",
       "      <td>Spotify New Music and Podcasts</td>\n",
       "      <td>Million_Plus</td>\n",
       "      <td>18893225</td>\n",
       "    </tr>\n",
       "    <tr>\n",
       "      <th>3</th>\n",
       "      <td>Venmo</td>\n",
       "      <td>Million_Plus</td>\n",
       "      <td>12634191</td>\n",
       "    </tr>\n",
       "    <tr>\n",
       "      <th>4</th>\n",
       "      <td>DoorDash - Food Delivery</td>\n",
       "      <td>Million_Plus</td>\n",
       "      <td>12517538</td>\n",
       "    </tr>\n",
       "    <tr>\n",
       "      <th>5</th>\n",
       "      <td>TikTok</td>\n",
       "      <td>Million_Plus</td>\n",
       "      <td>10598509</td>\n",
       "    </tr>\n",
       "    <tr>\n",
       "      <th>6</th>\n",
       "      <td>Lyft</td>\n",
       "      <td>Million_Plus</td>\n",
       "      <td>10241777</td>\n",
       "    </tr>\n",
       "    <tr>\n",
       "      <th>7</th>\n",
       "      <td>WhatsApp Messenger</td>\n",
       "      <td>Million_Plus</td>\n",
       "      <td>9090956</td>\n",
       "    </tr>\n",
       "    <tr>\n",
       "      <th>8</th>\n",
       "      <td>Pandora: Music &amp; Podcasts</td>\n",
       "      <td>Million_Plus</td>\n",
       "      <td>8297798</td>\n",
       "    </tr>\n",
       "    <tr>\n",
       "      <th>9</th>\n",
       "      <td>Bible</td>\n",
       "      <td>Million_Plus</td>\n",
       "      <td>7181127</td>\n",
       "    </tr>\n",
       "  </tbody>\n",
       "</table>\n",
       "</div>"
      ],
      "text/plain": [
       "                         App_Name ReviewCategory   Reviews\n",
       "0  YouTube: Watch, Listen, Stream   Million_Plus  22685334\n",
       "1                       Instagram   Million_Plus  21839585\n",
       "2  Spotify New Music and Podcasts   Million_Plus  18893225\n",
       "3                           Venmo   Million_Plus  12634191\n",
       "4        DoorDash - Food Delivery   Million_Plus  12517538\n",
       "5                          TikTok   Million_Plus  10598509\n",
       "6                            Lyft   Million_Plus  10241777\n",
       "7              WhatsApp Messenger   Million_Plus   9090956\n",
       "8       Pandora: Music & Podcasts   Million_Plus   8297798\n",
       "9                           Bible   Million_Plus   7181127"
      ]
     },
     "execution_count": 43,
     "metadata": {},
     "output_type": "execute_result"
    }
   ],
   "source": [
    "#Lets See the highest reviews apps;\n",
    "Top_reviews_apps = df[['App_Name', 'ReviewCategory', 'Reviews']].loc[df['Reviews'] >= 1000000].sort_values(by='Reviews', ascending=False).reset_index(drop=True)\n",
    "Top_reviews_apps.head(10)"
   ]
  },
  {
   "cell_type": "markdown",
   "id": "d4ef4243",
   "metadata": {
    "papermill": {
     "duration": 0.035506,
     "end_time": "2023-08-18T05:28:52.556041",
     "exception": false,
     "start_time": "2023-08-18T05:28:52.520535",
     "status": "completed"
    },
    "tags": []
   },
   "source": [
    "### Observation Set 07:\n",
    "Review column is numeric column that holds information about the number of reviews, which users give feedback on their experience with an app. As you can see the count of Reviews which is not suitable for Understanding. We can make another column `ReviewCategory` for better Understanding.\n",
    "\n",
    "<br>if an app has reviews between 0 to 10000 = Less than 10K\n",
    "<br>if an app has reviews between 10000 to 500000 =  10K to 500K\n",
    "<br>if an app has reviews between 500000 to 1000000 =  500K to 1000k\n",
    "<br>if an app has reviews between 1000000 to 22685334 = Million Plus\n",
    "\n",
    "As you can see, 152 apps which have Million Plus `Reviews` , and YouTube have highest reviews."
   ]
  },
  {
   "cell_type": "markdown",
   "id": "6340f11d",
   "metadata": {
    "papermill": {
     "duration": 0.035806,
     "end_time": "2023-08-18T05:28:52.627569",
     "exception": false,
     "start_time": "2023-08-18T05:28:52.591763",
     "status": "completed"
    },
    "tags": []
   },
   "source": [
    "### 10.5 Roundoff  Average_User_Rating\n",
    "Round off and store the float decimal values in the `Average_User_Rating` column, which are currently in the range of 0 to 5. And convert dtype into int."
   ]
  },
  {
   "cell_type": "code",
   "execution_count": 44,
   "id": "76efa5a2",
   "metadata": {
    "execution": {
     "iopub.execute_input": "2023-08-18T05:28:52.704619Z",
     "iopub.status.busy": "2023-08-18T05:28:52.703798Z",
     "iopub.status.idle": "2023-08-18T05:28:52.731121Z",
     "shell.execute_reply": "2023-08-18T05:28:52.730014Z"
    },
    "papermill": {
     "duration": 0.068617,
     "end_time": "2023-08-18T05:28:52.733581",
     "exception": false,
     "start_time": "2023-08-18T05:28:52.664964",
     "status": "completed"
    },
    "tags": []
   },
   "outputs": [
    {
     "data": {
      "text/plain": [
       "array([0.     , 5.     , 4.78132, ..., 4.00352, 3.91608, 4.82733])"
      ]
     },
     "execution_count": 44,
     "metadata": {},
     "output_type": "execute_result"
    }
   ],
   "source": [
    "df['Average_User_Rating'].unique()"
   ]
  },
  {
   "cell_type": "code",
   "execution_count": 45,
   "id": "47557f71",
   "metadata": {
    "execution": {
     "iopub.execute_input": "2023-08-18T05:28:52.808383Z",
     "iopub.status.busy": "2023-08-18T05:28:52.807565Z",
     "iopub.status.idle": "2023-08-18T05:28:52.836427Z",
     "shell.execute_reply": "2023-08-18T05:28:52.835291Z"
    },
    "papermill": {
     "duration": 0.069278,
     "end_time": "2023-08-18T05:28:52.839013",
     "exception": false,
     "start_time": "2023-08-18T05:28:52.769735",
     "status": "completed"
    },
    "tags": []
   },
   "outputs": [],
   "source": [
    "#Let's round off and store the float decimal values in the df.Average_User_Rating column,which are in the range of 0 to 5.\n",
    "df['Average_User_Rating'] = df['Average_User_Rating'].round().astype(int)"
   ]
  },
  {
   "cell_type": "code",
   "execution_count": 46,
   "id": "9e204d97",
   "metadata": {
    "execution": {
     "iopub.execute_input": "2023-08-18T05:28:52.915659Z",
     "iopub.status.busy": "2023-08-18T05:28:52.914895Z",
     "iopub.status.idle": "2023-08-18T05:28:52.923911Z",
     "shell.execute_reply": "2023-08-18T05:28:52.922472Z"
    },
    "papermill": {
     "duration": 0.050014,
     "end_time": "2023-08-18T05:28:52.926749",
     "exception": false,
     "start_time": "2023-08-18T05:28:52.876735",
     "status": "completed"
    },
    "tags": []
   },
   "outputs": [
    {
     "data": {
      "text/plain": [
       "0    0\n",
       "1    5\n",
       "2    0\n",
       "3    0\n",
       "4    0\n",
       "Name: Average_User_Rating, dtype: int64"
      ]
     },
     "execution_count": 46,
     "metadata": {},
     "output_type": "execute_result"
    }
   ],
   "source": [
    "df['Average_User_Rating'].head()"
   ]
  },
  {
   "cell_type": "code",
   "execution_count": 47,
   "id": "912d7810",
   "metadata": {
    "execution": {
     "iopub.execute_input": "2023-08-18T05:28:53.003509Z",
     "iopub.status.busy": "2023-08-18T05:28:53.003118Z",
     "iopub.status.idle": "2023-08-18T05:28:53.015753Z",
     "shell.execute_reply": "2023-08-18T05:28:53.014925Z"
    },
    "papermill": {
     "duration": 0.053888,
     "end_time": "2023-08-18T05:28:53.017762",
     "exception": false,
     "start_time": "2023-08-18T05:28:52.963874",
     "status": "completed"
    },
    "scrolled": true,
    "tags": []
   },
   "outputs": [
    {
     "data": {
      "text/plain": [
       "array([0, 5, 3, 4, 2, 1])"
      ]
     },
     "execution_count": 47,
     "metadata": {},
     "output_type": "execute_result"
    }
   ],
   "source": [
    "df['Average_User_Rating'].unique()"
   ]
  },
  {
   "cell_type": "code",
   "execution_count": 48,
   "id": "c46ad493",
   "metadata": {
    "execution": {
     "iopub.execute_input": "2023-08-18T05:28:53.092052Z",
     "iopub.status.busy": "2023-08-18T05:28:53.091382Z",
     "iopub.status.idle": "2023-08-18T05:28:53.114443Z",
     "shell.execute_reply": "2023-08-18T05:28:53.113251Z"
    },
    "papermill": {
     "duration": 0.062652,
     "end_time": "2023-08-18T05:28:53.116577",
     "exception": false,
     "start_time": "2023-08-18T05:28:53.053925",
     "status": "completed"
    },
    "scrolled": true,
    "tags": []
   },
   "outputs": [
    {
     "data": {
      "text/html": [
       "<div>\n",
       "<style scoped>\n",
       "    .dataframe tbody tr th:only-of-type {\n",
       "        vertical-align: middle;\n",
       "    }\n",
       "\n",
       "    .dataframe tbody tr th {\n",
       "        vertical-align: top;\n",
       "    }\n",
       "\n",
       "    .dataframe thead th {\n",
       "        text-align: right;\n",
       "    }\n",
       "</style>\n",
       "<table border=\"1\" class=\"dataframe\">\n",
       "  <thead>\n",
       "    <tr style=\"text-align: right;\">\n",
       "      <th></th>\n",
       "      <th>App_Id</th>\n",
       "      <th>App_Name</th>\n",
       "      <th>AppStore_Url</th>\n",
       "      <th>Primary_Genre</th>\n",
       "      <th>Content_Rating</th>\n",
       "      <th>Size_Bytes</th>\n",
       "      <th>Required_IOS_Version</th>\n",
       "      <th>Released</th>\n",
       "      <th>Updated</th>\n",
       "      <th>Version</th>\n",
       "      <th>Price</th>\n",
       "      <th>Currency</th>\n",
       "      <th>Free</th>\n",
       "      <th>DeveloperId</th>\n",
       "      <th>Developer</th>\n",
       "      <th>Developer_Url</th>\n",
       "      <th>Average_User_Rating</th>\n",
       "      <th>Reviews</th>\n",
       "      <th>Current_Version_Score</th>\n",
       "      <th>Current_Version_Reviews</th>\n",
       "      <th>Age_group</th>\n",
       "      <th>Size_MB</th>\n",
       "      <th>Type</th>\n",
       "      <th>ReviewCategory</th>\n",
       "    </tr>\n",
       "  </thead>\n",
       "  <tbody>\n",
       "    <tr>\n",
       "      <th>0</th>\n",
       "      <td>com.hkbu.arc.apaper</td>\n",
       "      <td>A+ Paper Guide</td>\n",
       "      <td>https://apps.apple.com/us/app/a-paper-guide/id...</td>\n",
       "      <td>Education</td>\n",
       "      <td>4+</td>\n",
       "      <td>21993472.0</td>\n",
       "      <td>8.0</td>\n",
       "      <td>2017-09-28T03:02:41Z</td>\n",
       "      <td>2018-12-21T21:30:36Z</td>\n",
       "      <td>1.1.2</td>\n",
       "      <td>0.00</td>\n",
       "      <td>USD</td>\n",
       "      <td>True</td>\n",
       "      <td>1375410542</td>\n",
       "      <td>HKBU ARC</td>\n",
       "      <td>https://apps.apple.com/us/developer/hkbu-arc/i...</td>\n",
       "      <td>0</td>\n",
       "      <td>0</td>\n",
       "      <td>0.0</td>\n",
       "      <td>0</td>\n",
       "      <td>Children</td>\n",
       "      <td>20.974609</td>\n",
       "      <td>Free</td>\n",
       "      <td>Less_than_10K</td>\n",
       "    </tr>\n",
       "    <tr>\n",
       "      <th>1</th>\n",
       "      <td>com.dmitriev.abooks</td>\n",
       "      <td>A-Books</td>\n",
       "      <td>https://apps.apple.com/us/app/a-books/id103157...</td>\n",
       "      <td>Book</td>\n",
       "      <td>4+</td>\n",
       "      <td>13135872.0</td>\n",
       "      <td>10.0</td>\n",
       "      <td>2015-08-31T19:31:32Z</td>\n",
       "      <td>2019-07-23T20:31:09Z</td>\n",
       "      <td>1.3</td>\n",
       "      <td>0.00</td>\n",
       "      <td>USD</td>\n",
       "      <td>True</td>\n",
       "      <td>1031572001</td>\n",
       "      <td>Roman Dmitriev</td>\n",
       "      <td>https://apps.apple.com/us/developer/roman-dmit...</td>\n",
       "      <td>5</td>\n",
       "      <td>1</td>\n",
       "      <td>5.0</td>\n",
       "      <td>1</td>\n",
       "      <td>Children</td>\n",
       "      <td>12.527344</td>\n",
       "      <td>Free</td>\n",
       "      <td>Less_than_10K</td>\n",
       "    </tr>\n",
       "    <tr>\n",
       "      <th>2</th>\n",
       "      <td>no.terp.abooks</td>\n",
       "      <td>A-books</td>\n",
       "      <td>https://apps.apple.com/us/app/a-books/id145702...</td>\n",
       "      <td>Book</td>\n",
       "      <td>4+</td>\n",
       "      <td>21943296.0</td>\n",
       "      <td>9.0</td>\n",
       "      <td>2021-04-14T07:00:00Z</td>\n",
       "      <td>2021-05-30T21:08:54Z</td>\n",
       "      <td>1.3.1</td>\n",
       "      <td>0.00</td>\n",
       "      <td>USD</td>\n",
       "      <td>True</td>\n",
       "      <td>1457024163</td>\n",
       "      <td>Terp AS</td>\n",
       "      <td>https://apps.apple.com/us/developer/terp-as/id...</td>\n",
       "      <td>0</td>\n",
       "      <td>0</td>\n",
       "      <td>0.0</td>\n",
       "      <td>0</td>\n",
       "      <td>Children</td>\n",
       "      <td>20.926758</td>\n",
       "      <td>Free</td>\n",
       "      <td>Less_than_10K</td>\n",
       "    </tr>\n",
       "    <tr>\n",
       "      <th>3</th>\n",
       "      <td>fr.antoinettefleur.Book1</td>\n",
       "      <td>A-F Book #1</td>\n",
       "      <td>https://apps.apple.com/us/app/a-f-book-1/id500...</td>\n",
       "      <td>Book</td>\n",
       "      <td>4+</td>\n",
       "      <td>81851392.0</td>\n",
       "      <td>8.0</td>\n",
       "      <td>2012-02-10T03:40:07Z</td>\n",
       "      <td>2019-10-29T12:40:37Z</td>\n",
       "      <td>1.2</td>\n",
       "      <td>2.99</td>\n",
       "      <td>USD</td>\n",
       "      <td>False</td>\n",
       "      <td>439568839</td>\n",
       "      <td>i-editeur.com</td>\n",
       "      <td>https://apps.apple.com/us/developer/i-editeur-...</td>\n",
       "      <td>0</td>\n",
       "      <td>0</td>\n",
       "      <td>0.0</td>\n",
       "      <td>0</td>\n",
       "      <td>Children</td>\n",
       "      <td>78.059570</td>\n",
       "      <td>Paid</td>\n",
       "      <td>Less_than_10K</td>\n",
       "    </tr>\n",
       "    <tr>\n",
       "      <th>4</th>\n",
       "      <td>com.imonstersoft.azdictionaryios</td>\n",
       "      <td>A-Z Synonyms Dictionary</td>\n",
       "      <td>https://apps.apple.com/us/app/a-z-synonyms-dic...</td>\n",
       "      <td>Reference</td>\n",
       "      <td>4+</td>\n",
       "      <td>64692224.0</td>\n",
       "      <td>9.0</td>\n",
       "      <td>2020-12-16T08:00:00Z</td>\n",
       "      <td>2020-12-18T21:36:11Z</td>\n",
       "      <td>1.0.1</td>\n",
       "      <td>0.00</td>\n",
       "      <td>USD</td>\n",
       "      <td>True</td>\n",
       "      <td>656731821</td>\n",
       "      <td>Ngov chiheang</td>\n",
       "      <td>https://apps.apple.com/us/developer/ngov-chihe...</td>\n",
       "      <td>0</td>\n",
       "      <td>0</td>\n",
       "      <td>0.0</td>\n",
       "      <td>0</td>\n",
       "      <td>Children</td>\n",
       "      <td>61.695312</td>\n",
       "      <td>Free</td>\n",
       "      <td>Less_than_10K</td>\n",
       "    </tr>\n",
       "  </tbody>\n",
       "</table>\n",
       "</div>"
      ],
      "text/plain": [
       "                             App_Id                 App_Name  \\\n",
       "0               com.hkbu.arc.apaper           A+ Paper Guide   \n",
       "1               com.dmitriev.abooks                  A-Books   \n",
       "2                    no.terp.abooks                  A-books   \n",
       "3          fr.antoinettefleur.Book1              A-F Book #1   \n",
       "4  com.imonstersoft.azdictionaryios  A-Z Synonyms Dictionary   \n",
       "\n",
       "                                        AppStore_Url Primary_Genre  \\\n",
       "0  https://apps.apple.com/us/app/a-paper-guide/id...     Education   \n",
       "1  https://apps.apple.com/us/app/a-books/id103157...          Book   \n",
       "2  https://apps.apple.com/us/app/a-books/id145702...          Book   \n",
       "3  https://apps.apple.com/us/app/a-f-book-1/id500...          Book   \n",
       "4  https://apps.apple.com/us/app/a-z-synonyms-dic...     Reference   \n",
       "\n",
       "  Content_Rating  Size_Bytes Required_IOS_Version              Released  \\\n",
       "0             4+  21993472.0                  8.0  2017-09-28T03:02:41Z   \n",
       "1             4+  13135872.0                 10.0  2015-08-31T19:31:32Z   \n",
       "2             4+  21943296.0                  9.0  2021-04-14T07:00:00Z   \n",
       "3             4+  81851392.0                  8.0  2012-02-10T03:40:07Z   \n",
       "4             4+  64692224.0                  9.0  2020-12-16T08:00:00Z   \n",
       "\n",
       "                Updated Version  Price Currency   Free  DeveloperId  \\\n",
       "0  2018-12-21T21:30:36Z   1.1.2   0.00      USD   True   1375410542   \n",
       "1  2019-07-23T20:31:09Z     1.3   0.00      USD   True   1031572001   \n",
       "2  2021-05-30T21:08:54Z   1.3.1   0.00      USD   True   1457024163   \n",
       "3  2019-10-29T12:40:37Z     1.2   2.99      USD  False    439568839   \n",
       "4  2020-12-18T21:36:11Z   1.0.1   0.00      USD   True    656731821   \n",
       "\n",
       "        Developer                                      Developer_Url  \\\n",
       "0        HKBU ARC  https://apps.apple.com/us/developer/hkbu-arc/i...   \n",
       "1  Roman Dmitriev  https://apps.apple.com/us/developer/roman-dmit...   \n",
       "2         Terp AS  https://apps.apple.com/us/developer/terp-as/id...   \n",
       "3   i-editeur.com  https://apps.apple.com/us/developer/i-editeur-...   \n",
       "4   Ngov chiheang  https://apps.apple.com/us/developer/ngov-chihe...   \n",
       "\n",
       "   Average_User_Rating  Reviews  Current_Version_Score  \\\n",
       "0                    0        0                    0.0   \n",
       "1                    5        1                    5.0   \n",
       "2                    0        0                    0.0   \n",
       "3                    0        0                    0.0   \n",
       "4                    0        0                    0.0   \n",
       "\n",
       "   Current_Version_Reviews Age_group    Size_MB  Type ReviewCategory  \n",
       "0                        0  Children  20.974609  Free  Less_than_10K  \n",
       "1                        1  Children  12.527344  Free  Less_than_10K  \n",
       "2                        0  Children  20.926758  Free  Less_than_10K  \n",
       "3                        0  Children  78.059570  Paid  Less_than_10K  \n",
       "4                        0  Children  61.695312  Free  Less_than_10K  "
      ]
     },
     "execution_count": 48,
     "metadata": {},
     "output_type": "execute_result"
    }
   ],
   "source": [
    "df.head()"
   ]
  },
  {
   "cell_type": "markdown",
   "id": "ce9f28f7",
   "metadata": {
    "papermill": {
     "duration": 0.036272,
     "end_time": "2023-08-18T05:28:53.190661",
     "exception": false,
     "start_time": "2023-08-18T05:28:53.154389",
     "status": "completed"
    },
    "tags": []
   },
   "source": [
    "------------------------------------------------------------------------------------------------------------------------"
   ]
  },
  {
   "cell_type": "markdown",
   "id": "7db04504",
   "metadata": {
    "papermill": {
     "duration": 0.03636,
     "end_time": "2023-08-18T05:28:53.264595",
     "exception": false,
     "start_time": "2023-08-18T05:28:53.228235",
     "status": "completed"
    },
    "tags": []
   },
   "source": [
    "### 10.6 Extract Years from Released Column"
   ]
  },
  {
   "cell_type": "code",
   "execution_count": 49,
   "id": "94a4c7cf",
   "metadata": {
    "execution": {
     "iopub.execute_input": "2023-08-18T05:28:53.340387Z",
     "iopub.status.busy": "2023-08-18T05:28:53.339632Z",
     "iopub.status.idle": "2023-08-18T05:28:53.345876Z",
     "shell.execute_reply": "2023-08-18T05:28:53.344750Z"
    },
    "papermill": {
     "duration": 0.04612,
     "end_time": "2023-08-18T05:28:53.347873",
     "exception": false,
     "start_time": "2023-08-18T05:28:53.301753",
     "status": "completed"
    },
    "tags": []
   },
   "outputs": [
    {
     "data": {
      "text/plain": [
       "dtype('O')"
      ]
     },
     "execution_count": 49,
     "metadata": {},
     "output_type": "execute_result"
    }
   ],
   "source": [
    "#Lets See the dtype of Released\n",
    "df['Released'].dtype"
   ]
  },
  {
   "cell_type": "markdown",
   "id": "995794b4",
   "metadata": {
    "papermill": {
     "duration": 0.036316,
     "end_time": "2023-08-18T05:28:53.421566",
     "exception": false,
     "start_time": "2023-08-18T05:28:53.385250",
     "status": "completed"
    },
    "tags": []
   },
   "source": [
    "The to_datetime() method takes a string or a list of strings as input and converts it to a datetime format.In this case, the dt.strftime() method is using the format string %Y, which means that the year will be extracted from the datetime object."
   ]
  },
  {
   "cell_type": "code",
   "execution_count": 50,
   "id": "b7400ecc",
   "metadata": {
    "execution": {
     "iopub.execute_input": "2023-08-18T05:28:53.498062Z",
     "iopub.status.busy": "2023-08-18T05:28:53.497223Z",
     "iopub.status.idle": "2023-08-18T05:29:00.392856Z",
     "shell.execute_reply": "2023-08-18T05:29:00.391637Z"
    },
    "papermill": {
     "duration": 6.937485,
     "end_time": "2023-08-18T05:29:00.395688",
     "exception": false,
     "start_time": "2023-08-18T05:28:53.458203",
     "status": "completed"
    },
    "tags": []
   },
   "outputs": [],
   "source": [
    "#Lets crate Release_Year column;\n",
    "df['Release_Year'] = pd.to_datetime(df['Released']).dt.strftime('%Y')"
   ]
  },
  {
   "cell_type": "code",
   "execution_count": 51,
   "id": "b6f21b7f",
   "metadata": {
    "execution": {
     "iopub.execute_input": "2023-08-18T05:29:00.471456Z",
     "iopub.status.busy": "2023-08-18T05:29:00.471015Z",
     "iopub.status.idle": "2023-08-18T05:29:00.497116Z",
     "shell.execute_reply": "2023-08-18T05:29:00.496290Z"
    },
    "papermill": {
     "duration": 0.06707,
     "end_time": "2023-08-18T05:29:00.499452",
     "exception": false,
     "start_time": "2023-08-18T05:29:00.432382",
     "status": "completed"
    },
    "tags": []
   },
   "outputs": [
    {
     "data": {
      "text/html": [
       "<div>\n",
       "<style scoped>\n",
       "    .dataframe tbody tr th:only-of-type {\n",
       "        vertical-align: middle;\n",
       "    }\n",
       "\n",
       "    .dataframe tbody tr th {\n",
       "        vertical-align: top;\n",
       "    }\n",
       "\n",
       "    .dataframe thead th {\n",
       "        text-align: right;\n",
       "    }\n",
       "</style>\n",
       "<table border=\"1\" class=\"dataframe\">\n",
       "  <thead>\n",
       "    <tr style=\"text-align: right;\">\n",
       "      <th></th>\n",
       "      <th>App_Id</th>\n",
       "      <th>App_Name</th>\n",
       "      <th>AppStore_Url</th>\n",
       "      <th>Primary_Genre</th>\n",
       "      <th>Content_Rating</th>\n",
       "      <th>Size_Bytes</th>\n",
       "      <th>Required_IOS_Version</th>\n",
       "      <th>Released</th>\n",
       "      <th>Updated</th>\n",
       "      <th>Version</th>\n",
       "      <th>Price</th>\n",
       "      <th>Currency</th>\n",
       "      <th>Free</th>\n",
       "      <th>DeveloperId</th>\n",
       "      <th>Developer</th>\n",
       "      <th>Developer_Url</th>\n",
       "      <th>Average_User_Rating</th>\n",
       "      <th>Reviews</th>\n",
       "      <th>Current_Version_Score</th>\n",
       "      <th>Current_Version_Reviews</th>\n",
       "      <th>Age_group</th>\n",
       "      <th>Size_MB</th>\n",
       "      <th>Type</th>\n",
       "      <th>ReviewCategory</th>\n",
       "      <th>Release_Year</th>\n",
       "    </tr>\n",
       "  </thead>\n",
       "  <tbody>\n",
       "    <tr>\n",
       "      <th>0</th>\n",
       "      <td>com.hkbu.arc.apaper</td>\n",
       "      <td>A+ Paper Guide</td>\n",
       "      <td>https://apps.apple.com/us/app/a-paper-guide/id...</td>\n",
       "      <td>Education</td>\n",
       "      <td>4+</td>\n",
       "      <td>21993472.0</td>\n",
       "      <td>8.0</td>\n",
       "      <td>2017-09-28T03:02:41Z</td>\n",
       "      <td>2018-12-21T21:30:36Z</td>\n",
       "      <td>1.1.2</td>\n",
       "      <td>0.00</td>\n",
       "      <td>USD</td>\n",
       "      <td>True</td>\n",
       "      <td>1375410542</td>\n",
       "      <td>HKBU ARC</td>\n",
       "      <td>https://apps.apple.com/us/developer/hkbu-arc/i...</td>\n",
       "      <td>0</td>\n",
       "      <td>0</td>\n",
       "      <td>0.0</td>\n",
       "      <td>0</td>\n",
       "      <td>Children</td>\n",
       "      <td>20.974609</td>\n",
       "      <td>Free</td>\n",
       "      <td>Less_than_10K</td>\n",
       "      <td>2017</td>\n",
       "    </tr>\n",
       "    <tr>\n",
       "      <th>1</th>\n",
       "      <td>com.dmitriev.abooks</td>\n",
       "      <td>A-Books</td>\n",
       "      <td>https://apps.apple.com/us/app/a-books/id103157...</td>\n",
       "      <td>Book</td>\n",
       "      <td>4+</td>\n",
       "      <td>13135872.0</td>\n",
       "      <td>10.0</td>\n",
       "      <td>2015-08-31T19:31:32Z</td>\n",
       "      <td>2019-07-23T20:31:09Z</td>\n",
       "      <td>1.3</td>\n",
       "      <td>0.00</td>\n",
       "      <td>USD</td>\n",
       "      <td>True</td>\n",
       "      <td>1031572001</td>\n",
       "      <td>Roman Dmitriev</td>\n",
       "      <td>https://apps.apple.com/us/developer/roman-dmit...</td>\n",
       "      <td>5</td>\n",
       "      <td>1</td>\n",
       "      <td>5.0</td>\n",
       "      <td>1</td>\n",
       "      <td>Children</td>\n",
       "      <td>12.527344</td>\n",
       "      <td>Free</td>\n",
       "      <td>Less_than_10K</td>\n",
       "      <td>2015</td>\n",
       "    </tr>\n",
       "    <tr>\n",
       "      <th>2</th>\n",
       "      <td>no.terp.abooks</td>\n",
       "      <td>A-books</td>\n",
       "      <td>https://apps.apple.com/us/app/a-books/id145702...</td>\n",
       "      <td>Book</td>\n",
       "      <td>4+</td>\n",
       "      <td>21943296.0</td>\n",
       "      <td>9.0</td>\n",
       "      <td>2021-04-14T07:00:00Z</td>\n",
       "      <td>2021-05-30T21:08:54Z</td>\n",
       "      <td>1.3.1</td>\n",
       "      <td>0.00</td>\n",
       "      <td>USD</td>\n",
       "      <td>True</td>\n",
       "      <td>1457024163</td>\n",
       "      <td>Terp AS</td>\n",
       "      <td>https://apps.apple.com/us/developer/terp-as/id...</td>\n",
       "      <td>0</td>\n",
       "      <td>0</td>\n",
       "      <td>0.0</td>\n",
       "      <td>0</td>\n",
       "      <td>Children</td>\n",
       "      <td>20.926758</td>\n",
       "      <td>Free</td>\n",
       "      <td>Less_than_10K</td>\n",
       "      <td>2021</td>\n",
       "    </tr>\n",
       "    <tr>\n",
       "      <th>3</th>\n",
       "      <td>fr.antoinettefleur.Book1</td>\n",
       "      <td>A-F Book #1</td>\n",
       "      <td>https://apps.apple.com/us/app/a-f-book-1/id500...</td>\n",
       "      <td>Book</td>\n",
       "      <td>4+</td>\n",
       "      <td>81851392.0</td>\n",
       "      <td>8.0</td>\n",
       "      <td>2012-02-10T03:40:07Z</td>\n",
       "      <td>2019-10-29T12:40:37Z</td>\n",
       "      <td>1.2</td>\n",
       "      <td>2.99</td>\n",
       "      <td>USD</td>\n",
       "      <td>False</td>\n",
       "      <td>439568839</td>\n",
       "      <td>i-editeur.com</td>\n",
       "      <td>https://apps.apple.com/us/developer/i-editeur-...</td>\n",
       "      <td>0</td>\n",
       "      <td>0</td>\n",
       "      <td>0.0</td>\n",
       "      <td>0</td>\n",
       "      <td>Children</td>\n",
       "      <td>78.059570</td>\n",
       "      <td>Paid</td>\n",
       "      <td>Less_than_10K</td>\n",
       "      <td>2012</td>\n",
       "    </tr>\n",
       "    <tr>\n",
       "      <th>4</th>\n",
       "      <td>com.imonstersoft.azdictionaryios</td>\n",
       "      <td>A-Z Synonyms Dictionary</td>\n",
       "      <td>https://apps.apple.com/us/app/a-z-synonyms-dic...</td>\n",
       "      <td>Reference</td>\n",
       "      <td>4+</td>\n",
       "      <td>64692224.0</td>\n",
       "      <td>9.0</td>\n",
       "      <td>2020-12-16T08:00:00Z</td>\n",
       "      <td>2020-12-18T21:36:11Z</td>\n",
       "      <td>1.0.1</td>\n",
       "      <td>0.00</td>\n",
       "      <td>USD</td>\n",
       "      <td>True</td>\n",
       "      <td>656731821</td>\n",
       "      <td>Ngov chiheang</td>\n",
       "      <td>https://apps.apple.com/us/developer/ngov-chihe...</td>\n",
       "      <td>0</td>\n",
       "      <td>0</td>\n",
       "      <td>0.0</td>\n",
       "      <td>0</td>\n",
       "      <td>Children</td>\n",
       "      <td>61.695312</td>\n",
       "      <td>Free</td>\n",
       "      <td>Less_than_10K</td>\n",
       "      <td>2020</td>\n",
       "    </tr>\n",
       "  </tbody>\n",
       "</table>\n",
       "</div>"
      ],
      "text/plain": [
       "                             App_Id                 App_Name  \\\n",
       "0               com.hkbu.arc.apaper           A+ Paper Guide   \n",
       "1               com.dmitriev.abooks                  A-Books   \n",
       "2                    no.terp.abooks                  A-books   \n",
       "3          fr.antoinettefleur.Book1              A-F Book #1   \n",
       "4  com.imonstersoft.azdictionaryios  A-Z Synonyms Dictionary   \n",
       "\n",
       "                                        AppStore_Url Primary_Genre  \\\n",
       "0  https://apps.apple.com/us/app/a-paper-guide/id...     Education   \n",
       "1  https://apps.apple.com/us/app/a-books/id103157...          Book   \n",
       "2  https://apps.apple.com/us/app/a-books/id145702...          Book   \n",
       "3  https://apps.apple.com/us/app/a-f-book-1/id500...          Book   \n",
       "4  https://apps.apple.com/us/app/a-z-synonyms-dic...     Reference   \n",
       "\n",
       "  Content_Rating  Size_Bytes Required_IOS_Version              Released  \\\n",
       "0             4+  21993472.0                  8.0  2017-09-28T03:02:41Z   \n",
       "1             4+  13135872.0                 10.0  2015-08-31T19:31:32Z   \n",
       "2             4+  21943296.0                  9.0  2021-04-14T07:00:00Z   \n",
       "3             4+  81851392.0                  8.0  2012-02-10T03:40:07Z   \n",
       "4             4+  64692224.0                  9.0  2020-12-16T08:00:00Z   \n",
       "\n",
       "                Updated Version  Price Currency   Free  DeveloperId  \\\n",
       "0  2018-12-21T21:30:36Z   1.1.2   0.00      USD   True   1375410542   \n",
       "1  2019-07-23T20:31:09Z     1.3   0.00      USD   True   1031572001   \n",
       "2  2021-05-30T21:08:54Z   1.3.1   0.00      USD   True   1457024163   \n",
       "3  2019-10-29T12:40:37Z     1.2   2.99      USD  False    439568839   \n",
       "4  2020-12-18T21:36:11Z   1.0.1   0.00      USD   True    656731821   \n",
       "\n",
       "        Developer                                      Developer_Url  \\\n",
       "0        HKBU ARC  https://apps.apple.com/us/developer/hkbu-arc/i...   \n",
       "1  Roman Dmitriev  https://apps.apple.com/us/developer/roman-dmit...   \n",
       "2         Terp AS  https://apps.apple.com/us/developer/terp-as/id...   \n",
       "3   i-editeur.com  https://apps.apple.com/us/developer/i-editeur-...   \n",
       "4   Ngov chiheang  https://apps.apple.com/us/developer/ngov-chihe...   \n",
       "\n",
       "   Average_User_Rating  Reviews  Current_Version_Score  \\\n",
       "0                    0        0                    0.0   \n",
       "1                    5        1                    5.0   \n",
       "2                    0        0                    0.0   \n",
       "3                    0        0                    0.0   \n",
       "4                    0        0                    0.0   \n",
       "\n",
       "   Current_Version_Reviews Age_group    Size_MB  Type ReviewCategory  \\\n",
       "0                        0  Children  20.974609  Free  Less_than_10K   \n",
       "1                        1  Children  12.527344  Free  Less_than_10K   \n",
       "2                        0  Children  20.926758  Free  Less_than_10K   \n",
       "3                        0  Children  78.059570  Paid  Less_than_10K   \n",
       "4                        0  Children  61.695312  Free  Less_than_10K   \n",
       "\n",
       "  Release_Year  \n",
       "0         2017  \n",
       "1         2015  \n",
       "2         2021  \n",
       "3         2012  \n",
       "4         2020  "
      ]
     },
     "execution_count": 51,
     "metadata": {},
     "output_type": "execute_result"
    }
   ],
   "source": [
    "df.head()"
   ]
  },
  {
   "cell_type": "markdown",
   "id": "6db5b882",
   "metadata": {
    "papermill": {
     "duration": 0.036773,
     "end_time": "2023-08-18T05:29:00.575795",
     "exception": false,
     "start_time": "2023-08-18T05:29:00.539022",
     "status": "completed"
    },
    "tags": []
   },
   "source": [
    "________________"
   ]
  },
  {
   "cell_type": "markdown",
   "id": "52c91ead",
   "metadata": {
    "papermill": {
     "duration": 0.037659,
     "end_time": "2023-08-18T05:29:00.652212",
     "exception": false,
     "start_time": "2023-08-18T05:29:00.614553",
     "status": "completed"
    },
    "tags": []
   },
   "source": [
    "### 10.7 Convet Price into PriceRange"
   ]
  },
  {
   "cell_type": "code",
   "execution_count": 52,
   "id": "3fe37bca",
   "metadata": {
    "execution": {
     "iopub.execute_input": "2023-08-18T05:29:00.729799Z",
     "iopub.status.busy": "2023-08-18T05:29:00.729005Z",
     "iopub.status.idle": "2023-08-18T05:29:00.738472Z",
     "shell.execute_reply": "2023-08-18T05:29:00.737596Z"
    },
    "papermill": {
     "duration": 0.050082,
     "end_time": "2023-08-18T05:29:00.740489",
     "exception": false,
     "start_time": "2023-08-18T05:29:00.690407",
     "status": "completed"
    },
    "tags": []
   },
   "outputs": [
    {
     "data": {
      "text/plain": [
       "0.0"
      ]
     },
     "execution_count": 52,
     "metadata": {},
     "output_type": "execute_result"
    }
   ],
   "source": [
    "df['Price'].min()"
   ]
  },
  {
   "cell_type": "code",
   "execution_count": 53,
   "id": "650c43c7",
   "metadata": {
    "execution": {
     "iopub.execute_input": "2023-08-18T05:29:00.819538Z",
     "iopub.status.busy": "2023-08-18T05:29:00.818911Z",
     "iopub.status.idle": "2023-08-18T05:29:00.830158Z",
     "shell.execute_reply": "2023-08-18T05:29:00.828927Z"
    },
    "papermill": {
     "duration": 0.053288,
     "end_time": "2023-08-18T05:29:00.832762",
     "exception": false,
     "start_time": "2023-08-18T05:29:00.779474",
     "status": "completed"
    },
    "tags": []
   },
   "outputs": [
    {
     "data": {
      "text/plain": [
       "999.99"
      ]
     },
     "execution_count": 53,
     "metadata": {},
     "output_type": "execute_result"
    }
   ],
   "source": [
    "df['Price'].max()"
   ]
  },
  {
   "cell_type": "code",
   "execution_count": 54,
   "id": "c57f4445",
   "metadata": {
    "execution": {
     "iopub.execute_input": "2023-08-18T05:29:00.912380Z",
     "iopub.status.busy": "2023-08-18T05:29:00.911912Z",
     "iopub.status.idle": "2023-08-18T05:29:01.886805Z",
     "shell.execute_reply": "2023-08-18T05:29:01.885725Z"
    },
    "papermill": {
     "duration": 1.017453,
     "end_time": "2023-08-18T05:29:01.889046",
     "exception": false,
     "start_time": "2023-08-18T05:29:00.871593",
     "status": "completed"
    },
    "tags": []
   },
   "outputs": [
    {
     "data": {
      "text/html": [
       "<div>\n",
       "<style scoped>\n",
       "    .dataframe tbody tr th:only-of-type {\n",
       "        vertical-align: middle;\n",
       "    }\n",
       "\n",
       "    .dataframe tbody tr th {\n",
       "        vertical-align: top;\n",
       "    }\n",
       "\n",
       "    .dataframe thead th {\n",
       "        text-align: right;\n",
       "    }\n",
       "</style>\n",
       "<table border=\"1\" class=\"dataframe\">\n",
       "  <thead>\n",
       "    <tr style=\"text-align: right;\">\n",
       "      <th></th>\n",
       "      <th>Price</th>\n",
       "      <th>PriceRange</th>\n",
       "    </tr>\n",
       "  </thead>\n",
       "  <tbody>\n",
       "    <tr>\n",
       "      <th>0</th>\n",
       "      <td>0.00</td>\n",
       "      <td>Free</td>\n",
       "    </tr>\n",
       "    <tr>\n",
       "      <th>1</th>\n",
       "      <td>0.00</td>\n",
       "      <td>Free</td>\n",
       "    </tr>\n",
       "    <tr>\n",
       "      <th>2</th>\n",
       "      <td>0.00</td>\n",
       "      <td>Free</td>\n",
       "    </tr>\n",
       "    <tr>\n",
       "      <th>3</th>\n",
       "      <td>2.99</td>\n",
       "      <td>1_50</td>\n",
       "    </tr>\n",
       "    <tr>\n",
       "      <th>4</th>\n",
       "      <td>0.00</td>\n",
       "      <td>Free</td>\n",
       "    </tr>\n",
       "  </tbody>\n",
       "</table>\n",
       "</div>"
      ],
      "text/plain": [
       "   Price PriceRange\n",
       "0   0.00       Free\n",
       "1   0.00       Free\n",
       "2   0.00       Free\n",
       "3   2.99       1_50\n",
       "4   0.00       Free"
      ]
     },
     "execution_count": 54,
     "metadata": {},
     "output_type": "execute_result"
    }
   ],
   "source": [
    "# Create a PriceRange column\n",
    "df['PriceRange'] = ''\n",
    "df.loc[df['Price'] == 0, 'PriceRange' ] = 'Free'\n",
    "df.loc[(df['Price'] > 0.1) & (df['Price']<= 1 ),'PriceRange' ] = '0_1'\n",
    "df.loc[(df['Price'] > 1) & (df['Price']<= 50 ),'PriceRange' ] = '1_50'\n",
    "df.loc[(df['Price'] > 50) & (df['Price']<= 100 ),'PriceRange' ] = '50_100'\n",
    "df.loc[(df['Price'] > 100) & (df['Price']<= 200),'PriceRange' ] = '100_200'\n",
    "df.loc[(df['Price'] > 200) & (df['Price']<= 300),'PriceRange' ] = '200_300'\n",
    "df.loc[(df['Price'] > 300) & (df['Price']<= 400),'PriceRange' ] = '300_400'\n",
    "df.loc[(df['Price'] > 400) & (df['Price']<= 500),'PriceRange' ] = '400_500'\n",
    "df.loc[(df['Price'] > 500) & (df['Price']<= 1000),'PriceRange' ] = '500_1000'\n",
    "df.loc[(df['Price'] > 1000) ,'PriceRange' ] = '1000+'\n",
    "df[['Price','PriceRange' ]].head()"
   ]
  },
  {
   "cell_type": "code",
   "execution_count": 55,
   "id": "615ee862",
   "metadata": {
    "execution": {
     "iopub.execute_input": "2023-08-18T05:29:01.967724Z",
     "iopub.status.busy": "2023-08-18T05:29:01.966632Z",
     "iopub.status.idle": "2023-08-18T05:29:02.038252Z",
     "shell.execute_reply": "2023-08-18T05:29:02.037203Z"
    },
    "papermill": {
     "duration": 0.112828,
     "end_time": "2023-08-18T05:29:02.040729",
     "exception": false,
     "start_time": "2023-08-18T05:29:01.927901",
     "status": "completed"
    },
    "scrolled": true,
    "tags": []
   },
   "outputs": [
    {
     "data": {
      "text/plain": [
       "Free        1127383\n",
       "1_50          67462\n",
       "0_1           34300\n",
       "50_100          782\n",
       "100_200         268\n",
       "200_300          86\n",
       "300_400          41\n",
       "500_1000         36\n",
       "400_500          14\n",
       "Name: PriceRange, dtype: int64"
      ]
     },
     "execution_count": 55,
     "metadata": {},
     "output_type": "execute_result"
    }
   ],
   "source": [
    "df['PriceRange'].value_counts()"
   ]
  },
  {
   "cell_type": "code",
   "execution_count": 56,
   "id": "21c55148",
   "metadata": {
    "execution": {
     "iopub.execute_input": "2023-08-18T05:29:02.117775Z",
     "iopub.status.busy": "2023-08-18T05:29:02.117378Z",
     "iopub.status.idle": "2023-08-18T05:29:02.141340Z",
     "shell.execute_reply": "2023-08-18T05:29:02.140330Z"
    },
    "papermill": {
     "duration": 0.064844,
     "end_time": "2023-08-18T05:29:02.143459",
     "exception": false,
     "start_time": "2023-08-18T05:29:02.078615",
     "status": "completed"
    },
    "tags": []
   },
   "outputs": [
    {
     "data": {
      "text/html": [
       "<div>\n",
       "<style scoped>\n",
       "    .dataframe tbody tr th:only-of-type {\n",
       "        vertical-align: middle;\n",
       "    }\n",
       "\n",
       "    .dataframe tbody tr th {\n",
       "        vertical-align: top;\n",
       "    }\n",
       "\n",
       "    .dataframe thead th {\n",
       "        text-align: right;\n",
       "    }\n",
       "</style>\n",
       "<table border=\"1\" class=\"dataframe\">\n",
       "  <thead>\n",
       "    <tr style=\"text-align: right;\">\n",
       "      <th></th>\n",
       "      <th>App_Id</th>\n",
       "      <th>App_Name</th>\n",
       "      <th>AppStore_Url</th>\n",
       "      <th>Primary_Genre</th>\n",
       "      <th>Content_Rating</th>\n",
       "      <th>Size_Bytes</th>\n",
       "      <th>Required_IOS_Version</th>\n",
       "      <th>Released</th>\n",
       "      <th>Updated</th>\n",
       "      <th>Version</th>\n",
       "      <th>Price</th>\n",
       "      <th>Currency</th>\n",
       "      <th>Free</th>\n",
       "      <th>DeveloperId</th>\n",
       "      <th>Developer</th>\n",
       "      <th>Developer_Url</th>\n",
       "      <th>Average_User_Rating</th>\n",
       "      <th>Reviews</th>\n",
       "      <th>Current_Version_Score</th>\n",
       "      <th>Current_Version_Reviews</th>\n",
       "      <th>Age_group</th>\n",
       "      <th>Size_MB</th>\n",
       "      <th>Type</th>\n",
       "      <th>ReviewCategory</th>\n",
       "      <th>Release_Year</th>\n",
       "      <th>PriceRange</th>\n",
       "    </tr>\n",
       "  </thead>\n",
       "  <tbody>\n",
       "    <tr>\n",
       "      <th>0</th>\n",
       "      <td>com.hkbu.arc.apaper</td>\n",
       "      <td>A+ Paper Guide</td>\n",
       "      <td>https://apps.apple.com/us/app/a-paper-guide/id...</td>\n",
       "      <td>Education</td>\n",
       "      <td>4+</td>\n",
       "      <td>21993472.0</td>\n",
       "      <td>8.0</td>\n",
       "      <td>2017-09-28T03:02:41Z</td>\n",
       "      <td>2018-12-21T21:30:36Z</td>\n",
       "      <td>1.1.2</td>\n",
       "      <td>0.00</td>\n",
       "      <td>USD</td>\n",
       "      <td>True</td>\n",
       "      <td>1375410542</td>\n",
       "      <td>HKBU ARC</td>\n",
       "      <td>https://apps.apple.com/us/developer/hkbu-arc/i...</td>\n",
       "      <td>0</td>\n",
       "      <td>0</td>\n",
       "      <td>0.0</td>\n",
       "      <td>0</td>\n",
       "      <td>Children</td>\n",
       "      <td>20.974609</td>\n",
       "      <td>Free</td>\n",
       "      <td>Less_than_10K</td>\n",
       "      <td>2017</td>\n",
       "      <td>Free</td>\n",
       "    </tr>\n",
       "    <tr>\n",
       "      <th>1</th>\n",
       "      <td>com.dmitriev.abooks</td>\n",
       "      <td>A-Books</td>\n",
       "      <td>https://apps.apple.com/us/app/a-books/id103157...</td>\n",
       "      <td>Book</td>\n",
       "      <td>4+</td>\n",
       "      <td>13135872.0</td>\n",
       "      <td>10.0</td>\n",
       "      <td>2015-08-31T19:31:32Z</td>\n",
       "      <td>2019-07-23T20:31:09Z</td>\n",
       "      <td>1.3</td>\n",
       "      <td>0.00</td>\n",
       "      <td>USD</td>\n",
       "      <td>True</td>\n",
       "      <td>1031572001</td>\n",
       "      <td>Roman Dmitriev</td>\n",
       "      <td>https://apps.apple.com/us/developer/roman-dmit...</td>\n",
       "      <td>5</td>\n",
       "      <td>1</td>\n",
       "      <td>5.0</td>\n",
       "      <td>1</td>\n",
       "      <td>Children</td>\n",
       "      <td>12.527344</td>\n",
       "      <td>Free</td>\n",
       "      <td>Less_than_10K</td>\n",
       "      <td>2015</td>\n",
       "      <td>Free</td>\n",
       "    </tr>\n",
       "    <tr>\n",
       "      <th>2</th>\n",
       "      <td>no.terp.abooks</td>\n",
       "      <td>A-books</td>\n",
       "      <td>https://apps.apple.com/us/app/a-books/id145702...</td>\n",
       "      <td>Book</td>\n",
       "      <td>4+</td>\n",
       "      <td>21943296.0</td>\n",
       "      <td>9.0</td>\n",
       "      <td>2021-04-14T07:00:00Z</td>\n",
       "      <td>2021-05-30T21:08:54Z</td>\n",
       "      <td>1.3.1</td>\n",
       "      <td>0.00</td>\n",
       "      <td>USD</td>\n",
       "      <td>True</td>\n",
       "      <td>1457024163</td>\n",
       "      <td>Terp AS</td>\n",
       "      <td>https://apps.apple.com/us/developer/terp-as/id...</td>\n",
       "      <td>0</td>\n",
       "      <td>0</td>\n",
       "      <td>0.0</td>\n",
       "      <td>0</td>\n",
       "      <td>Children</td>\n",
       "      <td>20.926758</td>\n",
       "      <td>Free</td>\n",
       "      <td>Less_than_10K</td>\n",
       "      <td>2021</td>\n",
       "      <td>Free</td>\n",
       "    </tr>\n",
       "    <tr>\n",
       "      <th>3</th>\n",
       "      <td>fr.antoinettefleur.Book1</td>\n",
       "      <td>A-F Book #1</td>\n",
       "      <td>https://apps.apple.com/us/app/a-f-book-1/id500...</td>\n",
       "      <td>Book</td>\n",
       "      <td>4+</td>\n",
       "      <td>81851392.0</td>\n",
       "      <td>8.0</td>\n",
       "      <td>2012-02-10T03:40:07Z</td>\n",
       "      <td>2019-10-29T12:40:37Z</td>\n",
       "      <td>1.2</td>\n",
       "      <td>2.99</td>\n",
       "      <td>USD</td>\n",
       "      <td>False</td>\n",
       "      <td>439568839</td>\n",
       "      <td>i-editeur.com</td>\n",
       "      <td>https://apps.apple.com/us/developer/i-editeur-...</td>\n",
       "      <td>0</td>\n",
       "      <td>0</td>\n",
       "      <td>0.0</td>\n",
       "      <td>0</td>\n",
       "      <td>Children</td>\n",
       "      <td>78.059570</td>\n",
       "      <td>Paid</td>\n",
       "      <td>Less_than_10K</td>\n",
       "      <td>2012</td>\n",
       "      <td>1_50</td>\n",
       "    </tr>\n",
       "    <tr>\n",
       "      <th>4</th>\n",
       "      <td>com.imonstersoft.azdictionaryios</td>\n",
       "      <td>A-Z Synonyms Dictionary</td>\n",
       "      <td>https://apps.apple.com/us/app/a-z-synonyms-dic...</td>\n",
       "      <td>Reference</td>\n",
       "      <td>4+</td>\n",
       "      <td>64692224.0</td>\n",
       "      <td>9.0</td>\n",
       "      <td>2020-12-16T08:00:00Z</td>\n",
       "      <td>2020-12-18T21:36:11Z</td>\n",
       "      <td>1.0.1</td>\n",
       "      <td>0.00</td>\n",
       "      <td>USD</td>\n",
       "      <td>True</td>\n",
       "      <td>656731821</td>\n",
       "      <td>Ngov chiheang</td>\n",
       "      <td>https://apps.apple.com/us/developer/ngov-chihe...</td>\n",
       "      <td>0</td>\n",
       "      <td>0</td>\n",
       "      <td>0.0</td>\n",
       "      <td>0</td>\n",
       "      <td>Children</td>\n",
       "      <td>61.695312</td>\n",
       "      <td>Free</td>\n",
       "      <td>Less_than_10K</td>\n",
       "      <td>2020</td>\n",
       "      <td>Free</td>\n",
       "    </tr>\n",
       "  </tbody>\n",
       "</table>\n",
       "</div>"
      ],
      "text/plain": [
       "                             App_Id                 App_Name  \\\n",
       "0               com.hkbu.arc.apaper           A+ Paper Guide   \n",
       "1               com.dmitriev.abooks                  A-Books   \n",
       "2                    no.terp.abooks                  A-books   \n",
       "3          fr.antoinettefleur.Book1              A-F Book #1   \n",
       "4  com.imonstersoft.azdictionaryios  A-Z Synonyms Dictionary   \n",
       "\n",
       "                                        AppStore_Url Primary_Genre  \\\n",
       "0  https://apps.apple.com/us/app/a-paper-guide/id...     Education   \n",
       "1  https://apps.apple.com/us/app/a-books/id103157...          Book   \n",
       "2  https://apps.apple.com/us/app/a-books/id145702...          Book   \n",
       "3  https://apps.apple.com/us/app/a-f-book-1/id500...          Book   \n",
       "4  https://apps.apple.com/us/app/a-z-synonyms-dic...     Reference   \n",
       "\n",
       "  Content_Rating  Size_Bytes Required_IOS_Version              Released  \\\n",
       "0             4+  21993472.0                  8.0  2017-09-28T03:02:41Z   \n",
       "1             4+  13135872.0                 10.0  2015-08-31T19:31:32Z   \n",
       "2             4+  21943296.0                  9.0  2021-04-14T07:00:00Z   \n",
       "3             4+  81851392.0                  8.0  2012-02-10T03:40:07Z   \n",
       "4             4+  64692224.0                  9.0  2020-12-16T08:00:00Z   \n",
       "\n",
       "                Updated Version  Price Currency   Free  DeveloperId  \\\n",
       "0  2018-12-21T21:30:36Z   1.1.2   0.00      USD   True   1375410542   \n",
       "1  2019-07-23T20:31:09Z     1.3   0.00      USD   True   1031572001   \n",
       "2  2021-05-30T21:08:54Z   1.3.1   0.00      USD   True   1457024163   \n",
       "3  2019-10-29T12:40:37Z     1.2   2.99      USD  False    439568839   \n",
       "4  2020-12-18T21:36:11Z   1.0.1   0.00      USD   True    656731821   \n",
       "\n",
       "        Developer                                      Developer_Url  \\\n",
       "0        HKBU ARC  https://apps.apple.com/us/developer/hkbu-arc/i...   \n",
       "1  Roman Dmitriev  https://apps.apple.com/us/developer/roman-dmit...   \n",
       "2         Terp AS  https://apps.apple.com/us/developer/terp-as/id...   \n",
       "3   i-editeur.com  https://apps.apple.com/us/developer/i-editeur-...   \n",
       "4   Ngov chiheang  https://apps.apple.com/us/developer/ngov-chihe...   \n",
       "\n",
       "   Average_User_Rating  Reviews  Current_Version_Score  \\\n",
       "0                    0        0                    0.0   \n",
       "1                    5        1                    5.0   \n",
       "2                    0        0                    0.0   \n",
       "3                    0        0                    0.0   \n",
       "4                    0        0                    0.0   \n",
       "\n",
       "   Current_Version_Reviews Age_group    Size_MB  Type ReviewCategory  \\\n",
       "0                        0  Children  20.974609  Free  Less_than_10K   \n",
       "1                        1  Children  12.527344  Free  Less_than_10K   \n",
       "2                        0  Children  20.926758  Free  Less_than_10K   \n",
       "3                        0  Children  78.059570  Paid  Less_than_10K   \n",
       "4                        0  Children  61.695312  Free  Less_than_10K   \n",
       "\n",
       "  Release_Year PriceRange  \n",
       "0         2017       Free  \n",
       "1         2015       Free  \n",
       "2         2021       Free  \n",
       "3         2012       1_50  \n",
       "4         2020       Free  "
      ]
     },
     "execution_count": 56,
     "metadata": {},
     "output_type": "execute_result"
    }
   ],
   "source": [
    "df.head()"
   ]
  },
  {
   "cell_type": "markdown",
   "id": "778560ac",
   "metadata": {
    "papermill": {
     "duration": 0.03888,
     "end_time": "2023-08-18T05:29:02.222371",
     "exception": false,
     "start_time": "2023-08-18T05:29:02.183491",
     "status": "completed"
    },
    "tags": []
   },
   "source": [
    "Milestone 3: We make new features from data ✅"
   ]
  },
  {
   "cell_type": "markdown",
   "id": "be8050d9",
   "metadata": {
    "papermill": {
     "duration": 0.038075,
     "end_time": "2023-08-18T05:29:02.298395",
     "exception": false,
     "start_time": "2023-08-18T05:29:02.260320",
     "status": "completed"
    },
    "tags": []
   },
   "source": [
    "_____________________________"
   ]
  },
  {
   "cell_type": "markdown",
   "id": "472ae015",
   "metadata": {
    "papermill": {
     "duration": 0.037887,
     "end_time": "2023-08-18T05:29:02.375539",
     "exception": false,
     "start_time": "2023-08-18T05:29:02.337652",
     "status": "completed"
    },
    "tags": []
   },
   "source": [
    "# 11.0 Question and Aswers :\n",
    "\n",
    "We intend to inquire about the dataset using the following questions.\n",
    "\n",
    "1. What are the top 10 Apps having highest reviews on AppleApp?\n",
    "2. Extract the number of apps released in each year\n",
    "3. Names of Top 10 Education apps based on Reviews?\n",
    "4. Names of Top 10 rated Book apps based on Age_groups?\n",
    "5. Which developer has the most apps in the AppleApp Store?\n",
    "6. What are the top 10 Categories that are installed from the Apple Store?\n",
    "7. Names of top 10 apps based on Reviews in AppleApps?\n",
    "8. What are the top 10 IOS Versions Vs Count of apps?\n",
    "9. What are the categories with the highest number of paid and free apps?\n",
    "10. What is the most recent version of the most popular app in the App Store?\n",
    "11. How does the user rating per year based on the price?\n",
    "12. Age_group vs PriceRange\n",
    "13. How are the numeric attributes correlated with each other?"
   ]
  },
  {
   "cell_type": "markdown",
   "id": "482ac361",
   "metadata": {
    "papermill": {
     "duration": 0.03897,
     "end_time": "2023-08-18T05:29:02.453067",
     "exception": false,
     "start_time": "2023-08-18T05:29:02.414097",
     "status": "completed"
    },
    "tags": []
   },
   "source": [
    "Question 1: What are the top 10 Apps having highest reviews on AppleApp?"
   ]
  },
  {
   "cell_type": "code",
   "execution_count": 57,
   "id": "afdfe2de",
   "metadata": {
    "execution": {
     "iopub.execute_input": "2023-08-18T05:29:02.532162Z",
     "iopub.status.busy": "2023-08-18T05:29:02.531471Z",
     "iopub.status.idle": "2023-08-18T05:29:02.596597Z",
     "shell.execute_reply": "2023-08-18T05:29:02.595437Z"
    },
    "papermill": {
     "duration": 0.107294,
     "end_time": "2023-08-18T05:29:02.598910",
     "exception": false,
     "start_time": "2023-08-18T05:29:02.491616",
     "status": "completed"
    },
    "tags": []
   },
   "outputs": [
    {
     "data": {
      "text/html": [
       "<div>\n",
       "<style scoped>\n",
       "    .dataframe tbody tr th:only-of-type {\n",
       "        vertical-align: middle;\n",
       "    }\n",
       "\n",
       "    .dataframe tbody tr th {\n",
       "        vertical-align: top;\n",
       "    }\n",
       "\n",
       "    .dataframe thead th {\n",
       "        text-align: right;\n",
       "    }\n",
       "</style>\n",
       "<table border=\"1\" class=\"dataframe\">\n",
       "  <thead>\n",
       "    <tr style=\"text-align: right;\">\n",
       "      <th></th>\n",
       "      <th>App_Name</th>\n",
       "      <th>ReviewCategory</th>\n",
       "      <th>Reviews</th>\n",
       "    </tr>\n",
       "  </thead>\n",
       "  <tbody>\n",
       "    <tr>\n",
       "      <th>0</th>\n",
       "      <td>YouTube: Watch, Listen, Stream</td>\n",
       "      <td>Million_Plus</td>\n",
       "      <td>22685334</td>\n",
       "    </tr>\n",
       "    <tr>\n",
       "      <th>1</th>\n",
       "      <td>Instagram</td>\n",
       "      <td>Million_Plus</td>\n",
       "      <td>21839585</td>\n",
       "    </tr>\n",
       "    <tr>\n",
       "      <th>2</th>\n",
       "      <td>Spotify New Music and Podcasts</td>\n",
       "      <td>Million_Plus</td>\n",
       "      <td>18893225</td>\n",
       "    </tr>\n",
       "    <tr>\n",
       "      <th>3</th>\n",
       "      <td>Venmo</td>\n",
       "      <td>Million_Plus</td>\n",
       "      <td>12634191</td>\n",
       "    </tr>\n",
       "    <tr>\n",
       "      <th>4</th>\n",
       "      <td>DoorDash - Food Delivery</td>\n",
       "      <td>Million_Plus</td>\n",
       "      <td>12517538</td>\n",
       "    </tr>\n",
       "    <tr>\n",
       "      <th>5</th>\n",
       "      <td>TikTok</td>\n",
       "      <td>Million_Plus</td>\n",
       "      <td>10598509</td>\n",
       "    </tr>\n",
       "    <tr>\n",
       "      <th>6</th>\n",
       "      <td>Lyft</td>\n",
       "      <td>Million_Plus</td>\n",
       "      <td>10241777</td>\n",
       "    </tr>\n",
       "    <tr>\n",
       "      <th>7</th>\n",
       "      <td>WhatsApp Messenger</td>\n",
       "      <td>Million_Plus</td>\n",
       "      <td>9090956</td>\n",
       "    </tr>\n",
       "    <tr>\n",
       "      <th>8</th>\n",
       "      <td>Pandora: Music &amp; Podcasts</td>\n",
       "      <td>Million_Plus</td>\n",
       "      <td>8297798</td>\n",
       "    </tr>\n",
       "    <tr>\n",
       "      <th>9</th>\n",
       "      <td>Bible</td>\n",
       "      <td>Million_Plus</td>\n",
       "      <td>7181127</td>\n",
       "    </tr>\n",
       "  </tbody>\n",
       "</table>\n",
       "</div>"
      ],
      "text/plain": [
       "                         App_Name ReviewCategory   Reviews\n",
       "0  YouTube: Watch, Listen, Stream   Million_Plus  22685334\n",
       "1                       Instagram   Million_Plus  21839585\n",
       "2  Spotify New Music and Podcasts   Million_Plus  18893225\n",
       "3                           Venmo   Million_Plus  12634191\n",
       "4        DoorDash - Food Delivery   Million_Plus  12517538\n",
       "5                          TikTok   Million_Plus  10598509\n",
       "6                            Lyft   Million_Plus  10241777\n",
       "7              WhatsApp Messenger   Million_Plus   9090956\n",
       "8       Pandora: Music & Podcasts   Million_Plus   8297798\n",
       "9                           Bible   Million_Plus   7181127"
      ]
     },
     "execution_count": 57,
     "metadata": {},
     "output_type": "execute_result"
    }
   ],
   "source": [
    "#Lets See the top 10 reviews apps\n",
    "Top_reviews_apps = df[['App_Name', 'ReviewCategory', 'Reviews']].loc[df['Reviews'] >= 1000000].sort_values(by='Reviews', ascending=False).reset_index(drop=True).head(10)\n",
    "Top_reviews_apps"
   ]
  },
  {
   "cell_type": "code",
   "execution_count": 58,
   "id": "e2b47bb9",
   "metadata": {
    "execution": {
     "iopub.execute_input": "2023-08-18T05:29:02.678423Z",
     "iopub.status.busy": "2023-08-18T05:29:02.677132Z",
     "iopub.status.idle": "2023-08-18T05:29:03.044513Z",
     "shell.execute_reply": "2023-08-18T05:29:03.043146Z"
    },
    "papermill": {
     "duration": 0.409746,
     "end_time": "2023-08-18T05:29:03.047127",
     "exception": false,
     "start_time": "2023-08-18T05:29:02.637381",
     "status": "completed"
    },
    "scrolled": true,
    "tags": []
   },
   "outputs": [
    {
     "data": {
      "image/png": "[encoded data removed]",
      "text/plain": [
       "<Figure size 1600x600 with 1 Axes>"
      ]
     },
     "metadata": {},
     "output_type": "display_data"
    }
   ],
   "source": [
    "plt.figure(figsize=(16,6))\n",
    "sns.barplot(data = Top_reviews_apps, x = 'App_Name', y = 'Reviews')\n",
    "plt.xticks(rotation=45);"
   ]
  },
  {
   "cell_type": "markdown",
   "id": "3042edc6",
   "metadata": {
    "papermill": {
     "duration": 0.039109,
     "end_time": "2023-08-18T05:29:03.125706",
     "exception": false,
     "start_time": "2023-08-18T05:29:03.086597",
     "status": "completed"
    },
    "tags": []
   },
   "source": [
    "**Figure_2:** Shows the Top 10 Apps that are having highest reviews on Apple Store.\n",
    "\n",
    "Answer 1: YouTube App is most popular app have highest number of Reviews on AppleApps."
   ]
  },
  {
   "cell_type": "markdown",
   "id": "683d4876",
   "metadata": {
    "papermill": {
     "duration": 0.039994,
     "end_time": "2023-08-18T05:29:03.205554",
     "exception": false,
     "start_time": "2023-08-18T05:29:03.165560",
     "status": "completed"
    },
    "tags": []
   },
   "source": [
    "_________________________________________________________________________________________________________________________"
   ]
  },
  {
   "cell_type": "markdown",
   "id": "0cc6a393",
   "metadata": {
    "papermill": {
     "duration": 0.039489,
     "end_time": "2023-08-18T05:29:03.285046",
     "exception": false,
     "start_time": "2023-08-18T05:29:03.245557",
     "status": "completed"
    },
    "tags": []
   },
   "source": [
    "Question 2: Extract the number of apps released in each year."
   ]
  },
  {
   "cell_type": "code",
   "execution_count": 59,
   "id": "3aa7fbc6",
   "metadata": {
    "execution": {
     "iopub.execute_input": "2023-08-18T05:29:03.367714Z",
     "iopub.status.busy": "2023-08-18T05:29:03.366695Z",
     "iopub.status.idle": "2023-08-18T05:29:03.491793Z",
     "shell.execute_reply": "2023-08-18T05:29:03.490620Z"
    },
    "papermill": {
     "duration": 0.169737,
     "end_time": "2023-08-18T05:29:03.494286",
     "exception": false,
     "start_time": "2023-08-18T05:29:03.324549",
     "status": "completed"
    },
    "tags": []
   },
   "outputs": [
    {
     "data": {
      "text/html": [
       "<div>\n",
       "<style scoped>\n",
       "    .dataframe tbody tr th:only-of-type {\n",
       "        vertical-align: middle;\n",
       "    }\n",
       "\n",
       "    .dataframe tbody tr th {\n",
       "        vertical-align: top;\n",
       "    }\n",
       "\n",
       "    .dataframe thead th {\n",
       "        text-align: right;\n",
       "    }\n",
       "</style>\n",
       "<table border=\"1\" class=\"dataframe\">\n",
       "  <thead>\n",
       "    <tr style=\"text-align: right;\">\n",
       "      <th></th>\n",
       "      <th>Year</th>\n",
       "      <th>Released_apps</th>\n",
       "    </tr>\n",
       "  </thead>\n",
       "  <tbody>\n",
       "    <tr>\n",
       "      <th>0</th>\n",
       "      <td>2020</td>\n",
       "      <td>227737</td>\n",
       "    </tr>\n",
       "    <tr>\n",
       "      <th>1</th>\n",
       "      <td>2021</td>\n",
       "      <td>218200</td>\n",
       "    </tr>\n",
       "    <tr>\n",
       "      <th>2</th>\n",
       "      <td>2019</td>\n",
       "      <td>165798</td>\n",
       "    </tr>\n",
       "    <tr>\n",
       "      <th>3</th>\n",
       "      <td>2018</td>\n",
       "      <td>135059</td>\n",
       "    </tr>\n",
       "    <tr>\n",
       "      <th>4</th>\n",
       "      <td>2017</td>\n",
       "      <td>126356</td>\n",
       "    </tr>\n",
       "    <tr>\n",
       "      <th>5</th>\n",
       "      <td>2016</td>\n",
       "      <td>120352</td>\n",
       "    </tr>\n",
       "    <tr>\n",
       "      <th>6</th>\n",
       "      <td>2015</td>\n",
       "      <td>78661</td>\n",
       "    </tr>\n",
       "    <tr>\n",
       "      <th>7</th>\n",
       "      <td>2014</td>\n",
       "      <td>55321</td>\n",
       "    </tr>\n",
       "    <tr>\n",
       "      <th>8</th>\n",
       "      <td>2013</td>\n",
       "      <td>39427</td>\n",
       "    </tr>\n",
       "    <tr>\n",
       "      <th>9</th>\n",
       "      <td>2012</td>\n",
       "      <td>27945</td>\n",
       "    </tr>\n",
       "    <tr>\n",
       "      <th>10</th>\n",
       "      <td>2011</td>\n",
       "      <td>19476</td>\n",
       "    </tr>\n",
       "    <tr>\n",
       "      <th>11</th>\n",
       "      <td>2010</td>\n",
       "      <td>10949</td>\n",
       "    </tr>\n",
       "    <tr>\n",
       "      <th>12</th>\n",
       "      <td>2009</td>\n",
       "      <td>4381</td>\n",
       "    </tr>\n",
       "    <tr>\n",
       "      <th>13</th>\n",
       "      <td>2008</td>\n",
       "      <td>652</td>\n",
       "    </tr>\n",
       "    <tr>\n",
       "      <th>14</th>\n",
       "      <td>2022</td>\n",
       "      <td>58</td>\n",
       "    </tr>\n",
       "  </tbody>\n",
       "</table>\n",
       "</div>"
      ],
      "text/plain": [
       "    Year  Released_apps\n",
       "0   2020         227737\n",
       "1   2021         218200\n",
       "2   2019         165798\n",
       "3   2018         135059\n",
       "4   2017         126356\n",
       "5   2016         120352\n",
       "6   2015          78661\n",
       "7   2014          55321\n",
       "8   2013          39427\n",
       "9   2012          27945\n",
       "10  2011          19476\n",
       "11  2010          10949\n",
       "12  2009           4381\n",
       "13  2008            652\n",
       "14  2022             58"
      ]
     },
     "execution_count": 59,
     "metadata": {},
     "output_type": "execute_result"
    }
   ],
   "source": [
    "app_counts_per_year = df['Release_Year'].value_counts().reset_index(name = 'Released_apps').rename(columns={'index': 'Year', 'Release_Year': 'Released_apps'})\n",
    "app_counts_per_year"
   ]
  },
  {
   "cell_type": "code",
   "execution_count": 60,
   "id": "bf8dbf9e",
   "metadata": {
    "execution": {
     "iopub.execute_input": "2023-08-18T05:29:03.577226Z",
     "iopub.status.busy": "2023-08-18T05:29:03.576820Z",
     "iopub.status.idle": "2023-08-18T05:29:03.986831Z",
     "shell.execute_reply": "2023-08-18T05:29:03.985643Z"
    },
    "papermill": {
     "duration": 0.455303,
     "end_time": "2023-08-18T05:29:03.989285",
     "exception": false,
     "start_time": "2023-08-18T05:29:03.533982",
     "status": "completed"
    },
    "tags": []
   },
   "outputs": [
    {
     "data": {
      "text/plain": [
       "Text(0, 0.5, 'Released app count')"
      ]
     },
     "execution_count": 60,
     "metadata": {},
     "output_type": "execute_result"
    },
    {
     "data": {
      "image/png": "[encoded data removed]",
      "text/plain": [
       "<Figure size 1600x600 with 1 Axes>"
      ]
     },
     "metadata": {},
     "output_type": "display_data"
    }
   ],
   "source": [
    "plt.figure(figsize=(16,6))\n",
    "sns.barplot(data = app_counts_per_year, x = 'Year', y = 'Released_apps')\n",
    "plt.title('App counts per year', fontdict={'fontsize': 20})\n",
    "plt.xlabel('Years', fontdict={'fontsize': 20})\n",
    "plt.ylabel('Released app count', fontdict={'fontsize': 20})"
   ]
  },
  {
   "cell_type": "markdown",
   "id": "ce5af51e",
   "metadata": {
    "papermill": {
     "duration": 0.039993,
     "end_time": "2023-08-18T05:29:04.071579",
     "exception": false,
     "start_time": "2023-08-18T05:29:04.031586",
     "status": "completed"
    },
    "tags": []
   },
   "source": [
    "**Figure_3:** Plot shows the apps released in each year.\n",
    "\n",
    "Answer 2: The highest number of apps was released in 2020, according to apps released per year based on the 'Release_Year' column."
   ]
  },
  {
   "cell_type": "markdown",
   "id": "00a45c1d",
   "metadata": {
    "papermill": {
     "duration": 0.0393,
     "end_time": "2023-08-18T05:29:04.150705",
     "exception": false,
     "start_time": "2023-08-18T05:29:04.111405",
     "status": "completed"
    },
    "tags": []
   },
   "source": [
    "_____________________________________________________________________________"
   ]
  },
  {
   "cell_type": "markdown",
   "id": "9a873e4b",
   "metadata": {
    "papermill": {
     "duration": 0.040445,
     "end_time": "2023-08-18T05:29:04.231406",
     "exception": false,
     "start_time": "2023-08-18T05:29:04.190961",
     "status": "completed"
    },
    "tags": []
   },
   "source": [
    "Question 3: Names of Top 10 Education apps based on Reviews?"
   ]
  },
  {
   "cell_type": "code",
   "execution_count": 61,
   "id": "dfbd7c7c",
   "metadata": {
    "execution": {
     "iopub.execute_input": "2023-08-18T05:29:04.315643Z",
     "iopub.status.busy": "2023-08-18T05:29:04.314819Z",
     "iopub.status.idle": "2023-08-18T05:29:04.484601Z",
     "shell.execute_reply": "2023-08-18T05:29:04.483362Z"
    },
    "papermill": {
     "duration": 0.215764,
     "end_time": "2023-08-18T05:29:04.487706",
     "exception": false,
     "start_time": "2023-08-18T05:29:04.271942",
     "status": "completed"
    },
    "scrolled": true,
    "tags": []
   },
   "outputs": [
    {
     "data": {
      "text/html": [
       "<div>\n",
       "<style scoped>\n",
       "    .dataframe tbody tr th:only-of-type {\n",
       "        vertical-align: middle;\n",
       "    }\n",
       "\n",
       "    .dataframe tbody tr th {\n",
       "        vertical-align: top;\n",
       "    }\n",
       "\n",
       "    .dataframe thead th {\n",
       "        text-align: right;\n",
       "    }\n",
       "</style>\n",
       "<table border=\"1\" class=\"dataframe\">\n",
       "  <thead>\n",
       "    <tr style=\"text-align: right;\">\n",
       "      <th></th>\n",
       "      <th>App_Name</th>\n",
       "      <th>Primary_Genre</th>\n",
       "      <th>Reviews</th>\n",
       "    </tr>\n",
       "  </thead>\n",
       "  <tbody>\n",
       "    <tr>\n",
       "      <th>0</th>\n",
       "      <td>Canvas Student</td>\n",
       "      <td>Education</td>\n",
       "      <td>2147317</td>\n",
       "    </tr>\n",
       "    <tr>\n",
       "      <th>1</th>\n",
       "      <td>Google Classroom</td>\n",
       "      <td>Education</td>\n",
       "      <td>2113858</td>\n",
       "    </tr>\n",
       "    <tr>\n",
       "      <th>2</th>\n",
       "      <td>ClassDojo</td>\n",
       "      <td>Education</td>\n",
       "      <td>1889365</td>\n",
       "    </tr>\n",
       "    <tr>\n",
       "      <th>3</th>\n",
       "      <td>Duolingo - Language Lessons</td>\n",
       "      <td>Education</td>\n",
       "      <td>1246520</td>\n",
       "    </tr>\n",
       "    <tr>\n",
       "      <th>4</th>\n",
       "      <td>Remind: School Communication</td>\n",
       "      <td>Education</td>\n",
       "      <td>1009309</td>\n",
       "    </tr>\n",
       "    <tr>\n",
       "      <th>5</th>\n",
       "      <td>ABCmouse.com</td>\n",
       "      <td>Education</td>\n",
       "      <td>599236</td>\n",
       "    </tr>\n",
       "    <tr>\n",
       "      <th>6</th>\n",
       "      <td>Quizlet: Learn with Flashcards</td>\n",
       "      <td>Education</td>\n",
       "      <td>527661</td>\n",
       "    </tr>\n",
       "    <tr>\n",
       "      <th>7</th>\n",
       "      <td>PictureThis - Plant Identifier</td>\n",
       "      <td>Education</td>\n",
       "      <td>502630</td>\n",
       "    </tr>\n",
       "    <tr>\n",
       "      <th>8</th>\n",
       "      <td>Photomath</td>\n",
       "      <td>Education</td>\n",
       "      <td>491503</td>\n",
       "    </tr>\n",
       "    <tr>\n",
       "      <th>9</th>\n",
       "      <td>Epic - Kids' Books &amp; Reading</td>\n",
       "      <td>Education</td>\n",
       "      <td>451933</td>\n",
       "    </tr>\n",
       "  </tbody>\n",
       "</table>\n",
       "</div>"
      ],
      "text/plain": [
       "                         App_Name Primary_Genre  Reviews\n",
       "0                  Canvas Student     Education  2147317\n",
       "1                Google Classroom     Education  2113858\n",
       "2                       ClassDojo     Education  1889365\n",
       "3     Duolingo - Language Lessons     Education  1246520\n",
       "4    Remind: School Communication     Education  1009309\n",
       "5                    ABCmouse.com     Education   599236\n",
       "6  Quizlet: Learn with Flashcards     Education   527661\n",
       "7  PictureThis - Plant Identifier     Education   502630\n",
       "8                       Photomath     Education   491503\n",
       "9    Epic - Kids' Books & Reading     Education   451933"
      ]
     },
     "execution_count": 61,
     "metadata": {},
     "output_type": "execute_result"
    }
   ],
   "source": [
    "#Lets See the top 10 Education Apps on AppleApps\n",
    "top_edu_apps = df[['App_Name','Primary_Genre', 'Reviews']].loc[df['Primary_Genre'] == 'Education'].sort_values(by='Reviews', ascending=False).reset_index(drop = True).head(10)\n",
    "top_edu_apps "
   ]
  },
  {
   "cell_type": "code",
   "execution_count": 62,
   "id": "e3838a28",
   "metadata": {
    "execution": {
     "iopub.execute_input": "2023-08-18T05:29:04.570909Z",
     "iopub.status.busy": "2023-08-18T05:29:04.570541Z",
     "iopub.status.idle": "2023-08-18T05:29:04.927974Z",
     "shell.execute_reply": "2023-08-18T05:29:04.926854Z"
    },
    "papermill": {
     "duration": 0.402921,
     "end_time": "2023-08-18T05:29:04.930774",
     "exception": false,
     "start_time": "2023-08-18T05:29:04.527853",
     "status": "completed"
    },
    "tags": []
   },
   "outputs": [
    {
     "data": {
      "image/png": "[encoded data removed]",
      "text/plain": [
       "<Figure size 1600x600 with 1 Axes>"
      ]
     },
     "metadata": {},
     "output_type": "display_data"
    }
   ],
   "source": [
    "plt.figure(figsize=(16,6))\n",
    "sns.barplot(data = top_edu_apps, x = 'App_Name', y = 'Reviews')\n",
    "plt.xticks(rotation = 45);"
   ]
  },
  {
   "cell_type": "markdown",
   "id": "d2dc7ec0",
   "metadata": {
    "papermill": {
     "duration": 0.043833,
     "end_time": "2023-08-18T05:29:05.016310",
     "exception": false,
     "start_time": "2023-08-18T05:29:04.972477",
     "status": "completed"
    },
    "tags": []
   },
   "source": [
    "**Figure_4:** Shows the top 10 Education apps on AppleApps.\n",
    "\n",
    "Answer 3: The top Education app is Canvas Student, which stands out as one of the most popular applications on the Apple Apps."
   ]
  },
  {
   "cell_type": "markdown",
   "id": "3017d3b2",
   "metadata": {
    "papermill": {
     "duration": 0.042797,
     "end_time": "2023-08-18T05:29:05.100812",
     "exception": false,
     "start_time": "2023-08-18T05:29:05.058015",
     "status": "completed"
    },
    "tags": []
   },
   "source": [
    "_______________________________________________________________________________"
   ]
  },
  {
   "cell_type": "markdown",
   "id": "e4e70445",
   "metadata": {
    "papermill": {
     "duration": 0.041742,
     "end_time": "2023-08-18T05:29:05.185223",
     "exception": false,
     "start_time": "2023-08-18T05:29:05.143481",
     "status": "completed"
    },
    "tags": []
   },
   "source": [
    "Question 4: Names of Top 10 rated Book apps based on Age_groups?"
   ]
  },
  {
   "cell_type": "code",
   "execution_count": 63,
   "id": "d411c06d",
   "metadata": {
    "execution": {
     "iopub.execute_input": "2023-08-18T05:29:05.269416Z",
     "iopub.status.busy": "2023-08-18T05:29:05.268984Z",
     "iopub.status.idle": "2023-08-18T05:29:05.424150Z",
     "shell.execute_reply": "2023-08-18T05:29:05.423075Z"
    },
    "papermill": {
     "duration": 0.200461,
     "end_time": "2023-08-18T05:29:05.426774",
     "exception": false,
     "start_time": "2023-08-18T05:29:05.226313",
     "status": "completed"
    },
    "scrolled": true,
    "tags": []
   },
   "outputs": [
    {
     "data": {
      "text/html": [
       "<div>\n",
       "<style scoped>\n",
       "    .dataframe tbody tr th:only-of-type {\n",
       "        vertical-align: middle;\n",
       "    }\n",
       "\n",
       "    .dataframe tbody tr th {\n",
       "        vertical-align: top;\n",
       "    }\n",
       "\n",
       "    .dataframe thead th {\n",
       "        text-align: right;\n",
       "    }\n",
       "</style>\n",
       "<table border=\"1\" class=\"dataframe\">\n",
       "  <thead>\n",
       "    <tr style=\"text-align: right;\">\n",
       "      <th></th>\n",
       "      <th>App_Name</th>\n",
       "      <th>Primary_Genre</th>\n",
       "      <th>Age_group</th>\n",
       "      <th>Average_User_Rating</th>\n",
       "    </tr>\n",
       "  </thead>\n",
       "  <tbody>\n",
       "    <tr>\n",
       "      <th>0</th>\n",
       "      <td>A-Books</td>\n",
       "      <td>Book</td>\n",
       "      <td>Children</td>\n",
       "      <td>5</td>\n",
       "    </tr>\n",
       "    <tr>\n",
       "      <th>1</th>\n",
       "      <td>Dialing God</td>\n",
       "      <td>Book</td>\n",
       "      <td>Children</td>\n",
       "      <td>5</td>\n",
       "    </tr>\n",
       "    <tr>\n",
       "      <th>2</th>\n",
       "      <td>Diccionario Bíblico</td>\n",
       "      <td>Book</td>\n",
       "      <td>Children</td>\n",
       "      <td>5</td>\n",
       "    </tr>\n",
       "    <tr>\n",
       "      <th>3</th>\n",
       "      <td>Koliko je sati? - 8 stranica</td>\n",
       "      <td>Book</td>\n",
       "      <td>Children</td>\n",
       "      <td>5</td>\n",
       "    </tr>\n",
       "    <tr>\n",
       "      <th>4</th>\n",
       "      <td>Kol Sasson</td>\n",
       "      <td>Book</td>\n",
       "      <td>Children</td>\n",
       "      <td>5</td>\n",
       "    </tr>\n",
       "    <tr>\n",
       "      <th>5</th>\n",
       "      <td>Chinese Bible Offline</td>\n",
       "      <td>Book</td>\n",
       "      <td>Children</td>\n",
       "      <td>5</td>\n",
       "    </tr>\n",
       "    <tr>\n",
       "      <th>6</th>\n",
       "      <td>Rocket and Airplane : Puzzles, Games and Activ...</td>\n",
       "      <td>Book</td>\n",
       "      <td>Children</td>\n",
       "      <td>5</td>\n",
       "    </tr>\n",
       "    <tr>\n",
       "      <th>7</th>\n",
       "      <td>RobindroNath Takur Tiny Stories Collection</td>\n",
       "      <td>Book</td>\n",
       "      <td>Children</td>\n",
       "      <td>5</td>\n",
       "    </tr>\n",
       "    <tr>\n",
       "      <th>8</th>\n",
       "      <td>Diamond Sutra - 金剛經 free</td>\n",
       "      <td>Book</td>\n",
       "      <td>Children</td>\n",
       "      <td>5</td>\n",
       "    </tr>\n",
       "    <tr>\n",
       "      <th>9</th>\n",
       "      <td>Dial a Poem</td>\n",
       "      <td>Book</td>\n",
       "      <td>Adults</td>\n",
       "      <td>5</td>\n",
       "    </tr>\n",
       "  </tbody>\n",
       "</table>\n",
       "</div>"
      ],
      "text/plain": [
       "                                            App_Name Primary_Genre Age_group  \\\n",
       "0                                            A-Books          Book  Children   \n",
       "1                                        Dialing God          Book  Children   \n",
       "2                                Diccionario Bíblico          Book  Children   \n",
       "3                       Koliko je sati? - 8 stranica          Book  Children   \n",
       "4                                         Kol Sasson          Book  Children   \n",
       "5                              Chinese Bible Offline          Book  Children   \n",
       "6  Rocket and Airplane : Puzzles, Games and Activ...          Book  Children   \n",
       "7         RobindroNath Takur Tiny Stories Collection          Book  Children   \n",
       "8                           Diamond Sutra - 金剛經 free          Book  Children   \n",
       "9                                        Dial a Poem          Book    Adults   \n",
       "\n",
       "   Average_User_Rating  \n",
       "0                    5  \n",
       "1                    5  \n",
       "2                    5  \n",
       "3                    5  \n",
       "4                    5  \n",
       "5                    5  \n",
       "6                    5  \n",
       "7                    5  \n",
       "8                    5  \n",
       "9                    5  "
      ]
     },
     "execution_count": 63,
     "metadata": {},
     "output_type": "execute_result"
    }
   ],
   "source": [
    "#Lets See the top 10 Book Apps on AppleApps\n",
    "top_book_apps  = df[['App_Name','Primary_Genre', 'Age_group','Average_User_Rating']].loc[df['Primary_Genre'] == 'Book'].sort_values(by = 'Average_User_Rating', ascending = False).reset_index(drop=True).head(10)\n",
    "top_book_apps"
   ]
  },
  {
   "cell_type": "markdown",
   "id": "7c1f7326",
   "metadata": {
    "papermill": {
     "duration": 0.043782,
     "end_time": "2023-08-18T05:29:05.513284",
     "exception": false,
     "start_time": "2023-08-18T05:29:05.469502",
     "status": "completed"
    },
    "tags": []
   },
   "source": [
    "**Answer 4: The book apps that are highly rated according to the Average_User_Rating are mostly popular in the children's category."
   ]
  },
  {
   "cell_type": "markdown",
   "id": "0f504462",
   "metadata": {
    "papermill": {
     "duration": 0.041591,
     "end_time": "2023-08-18T05:29:05.598054",
     "exception": false,
     "start_time": "2023-08-18T05:29:05.556463",
     "status": "completed"
    },
    "tags": []
   },
   "source": [
    "_______________________________________"
   ]
  },
  {
   "cell_type": "markdown",
   "id": "3d3a1d61",
   "metadata": {
    "papermill": {
     "duration": 0.042259,
     "end_time": "2023-08-18T05:29:05.683093",
     "exception": false,
     "start_time": "2023-08-18T05:29:05.640834",
     "status": "completed"
    },
    "tags": []
   },
   "source": [
    "Question 5: Which developer has the most apps in the AppleApps Store?"
   ]
  },
  {
   "cell_type": "code",
   "execution_count": 64,
   "id": "e0103361",
   "metadata": {
    "execution": {
     "iopub.execute_input": "2023-08-18T05:29:05.771006Z",
     "iopub.status.busy": "2023-08-18T05:29:05.770624Z",
     "iopub.status.idle": "2023-08-18T05:29:07.193522Z",
     "shell.execute_reply": "2023-08-18T05:29:07.192357Z"
    },
    "papermill": {
     "duration": 1.469958,
     "end_time": "2023-08-18T05:29:07.196336",
     "exception": false,
     "start_time": "2023-08-18T05:29:05.726378",
     "status": "completed"
    },
    "tags": []
   },
   "outputs": [
    {
     "data": {
      "text/html": [
       "<div>\n",
       "<style scoped>\n",
       "    .dataframe tbody tr th:only-of-type {\n",
       "        vertical-align: middle;\n",
       "    }\n",
       "\n",
       "    .dataframe tbody tr th {\n",
       "        vertical-align: top;\n",
       "    }\n",
       "\n",
       "    .dataframe thead th {\n",
       "        text-align: right;\n",
       "    }\n",
       "</style>\n",
       "<table border=\"1\" class=\"dataframe\">\n",
       "  <thead>\n",
       "    <tr style=\"text-align: right;\">\n",
       "      <th></th>\n",
       "      <th>Developer</th>\n",
       "      <th>Count</th>\n",
       "    </tr>\n",
       "  </thead>\n",
       "  <tbody>\n",
       "    <tr>\n",
       "      <th>0</th>\n",
       "      <td>ChowNow</td>\n",
       "      <td>3966</td>\n",
       "    </tr>\n",
       "    <tr>\n",
       "      <th>1</th>\n",
       "      <td>Touch2Success</td>\n",
       "      <td>1649</td>\n",
       "    </tr>\n",
       "    <tr>\n",
       "      <th>2</th>\n",
       "      <td>Alexander Velimirovic</td>\n",
       "      <td>1506</td>\n",
       "    </tr>\n",
       "    <tr>\n",
       "      <th>3</th>\n",
       "      <td>MINDBODY, Incorporated</td>\n",
       "      <td>1247</td>\n",
       "    </tr>\n",
       "    <tr>\n",
       "      <th>4</th>\n",
       "      <td>Phorest</td>\n",
       "      <td>1131</td>\n",
       "    </tr>\n",
       "    <tr>\n",
       "      <th>5</th>\n",
       "      <td>OFFLINE MAP TRIP GUIDE LTD</td>\n",
       "      <td>1022</td>\n",
       "    </tr>\n",
       "    <tr>\n",
       "      <th>6</th>\n",
       "      <td>Magzter Inc.</td>\n",
       "      <td>928</td>\n",
       "    </tr>\n",
       "    <tr>\n",
       "      <th>7</th>\n",
       "      <td>ASK Video</td>\n",
       "      <td>781</td>\n",
       "    </tr>\n",
       "    <tr>\n",
       "      <th>8</th>\n",
       "      <td>RAPID ACCELERATION INDIA PRIVATE LIMITED</td>\n",
       "      <td>733</td>\n",
       "    </tr>\n",
       "    <tr>\n",
       "      <th>9</th>\n",
       "      <td>Nonlinear Educating Inc.</td>\n",
       "      <td>555</td>\n",
       "    </tr>\n",
       "  </tbody>\n",
       "</table>\n",
       "</div>"
      ],
      "text/plain": [
       "                                  Developer  Count\n",
       "0                                   ChowNow   3966\n",
       "1                             Touch2Success   1649\n",
       "2                     Alexander Velimirovic   1506\n",
       "3                    MINDBODY, Incorporated   1247\n",
       "4                                   Phorest   1131\n",
       "5                OFFLINE MAP TRIP GUIDE LTD   1022\n",
       "6                              Magzter Inc.    928\n",
       "7                                 ASK Video    781\n",
       "8  RAPID ACCELERATION INDIA PRIVATE LIMITED    733\n",
       "9                  Nonlinear Educating Inc.    555"
      ]
     },
     "execution_count": 64,
     "metadata": {},
     "output_type": "execute_result"
    }
   ],
   "source": [
    "# group the dataset by Primary_Genre and Type, and count the number of apps in each group\n",
    "top_10_appdev = df.groupby(['Developer']).size().sort_values( ascending=False).reset_index(name='Count').head(10)\n",
    "top_10_appdev"
   ]
  },
  {
   "cell_type": "code",
   "execution_count": 65,
   "id": "63fb46d7",
   "metadata": {
    "execution": {
     "iopub.execute_input": "2023-08-18T05:29:07.283471Z",
     "iopub.status.busy": "2023-08-18T05:29:07.282724Z",
     "iopub.status.idle": "2023-08-18T05:29:07.544983Z",
     "shell.execute_reply": "2023-08-18T05:29:07.543621Z"
    },
    "papermill": {
     "duration": 0.308816,
     "end_time": "2023-08-18T05:29:07.547574",
     "exception": false,
     "start_time": "2023-08-18T05:29:07.238758",
     "status": "completed"
    },
    "tags": []
   },
   "outputs": [
    {
     "data": {
      "image/png": "[encoded data removed]",
      "text/plain": [
       "<Figure size 800x600 with 1 Axes>"
      ]
     },
     "metadata": {},
     "output_type": "display_data"
    }
   ],
   "source": [
    "plt.figure(figsize=(8,6))\n",
    "data = top_10_appdev.groupby('Developer')['Count'].max().sort_values()\n",
    "labels = data.index.tolist()\n",
    "plt.pie(data, labels = labels , autopct='%.0f%%') ;"
   ]
  },
  {
   "cell_type": "markdown",
   "id": "13bd4990",
   "metadata": {
    "papermill": {
     "duration": 0.043425,
     "end_time": "2023-08-18T05:29:07.636644",
     "exception": false,
     "start_time": "2023-08-18T05:29:07.593219",
     "status": "completed"
    },
    "tags": []
   },
   "source": [
    "**Figure 5**: A pie chart showing which Developer has highest percentage of app development contribution to the app store.\n",
    "\n",
    "Answer 5: ChowNow developers has highest number of app development on app store."
   ]
  },
  {
   "cell_type": "markdown",
   "id": "266be715",
   "metadata": {
    "papermill": {
     "duration": 0.043031,
     "end_time": "2023-08-18T05:29:07.724110",
     "exception": false,
     "start_time": "2023-08-18T05:29:07.681079",
     "status": "completed"
    },
    "tags": []
   },
   "source": [
    "_______________________________________"
   ]
  },
  {
   "cell_type": "markdown",
   "id": "00ae6fe0",
   "metadata": {
    "papermill": {
     "duration": 0.042496,
     "end_time": "2023-08-18T05:29:07.809861",
     "exception": false,
     "start_time": "2023-08-18T05:29:07.767365",
     "status": "completed"
    },
    "tags": []
   },
   "source": [
    "Question 6: What are the top 10 Categories that are installed from the Apple Store?"
   ]
  },
  {
   "cell_type": "code",
   "execution_count": 66,
   "id": "359bfe16",
   "metadata": {
    "execution": {
     "iopub.execute_input": "2023-08-18T05:29:07.896877Z",
     "iopub.status.busy": "2023-08-18T05:29:07.896460Z",
     "iopub.status.idle": "2023-08-18T05:29:08.007000Z",
     "shell.execute_reply": "2023-08-18T05:29:08.005335Z"
    },
    "papermill": {
     "duration": 0.156789,
     "end_time": "2023-08-18T05:29:08.009241",
     "exception": false,
     "start_time": "2023-08-18T05:29:07.852452",
     "status": "completed"
    },
    "tags": []
   },
   "outputs": [
    {
     "data": {
      "text/html": [
       "<div>\n",
       "<style scoped>\n",
       "    .dataframe tbody tr th:only-of-type {\n",
       "        vertical-align: middle;\n",
       "    }\n",
       "\n",
       "    .dataframe tbody tr th {\n",
       "        vertical-align: top;\n",
       "    }\n",
       "\n",
       "    .dataframe thead th {\n",
       "        text-align: right;\n",
       "    }\n",
       "</style>\n",
       "<table border=\"1\" class=\"dataframe\">\n",
       "  <thead>\n",
       "    <tr style=\"text-align: right;\">\n",
       "      <th></th>\n",
       "      <th>Primary_Genre</th>\n",
       "      <th>Count</th>\n",
       "    </tr>\n",
       "  </thead>\n",
       "  <tbody>\n",
       "    <tr>\n",
       "      <th>0</th>\n",
       "      <td>Games</td>\n",
       "      <td>193746</td>\n",
       "    </tr>\n",
       "    <tr>\n",
       "      <th>1</th>\n",
       "      <td>Business</td>\n",
       "      <td>128297</td>\n",
       "    </tr>\n",
       "    <tr>\n",
       "      <th>2</th>\n",
       "      <td>Education</td>\n",
       "      <td>119174</td>\n",
       "    </tr>\n",
       "    <tr>\n",
       "      <th>3</th>\n",
       "      <td>Utilities</td>\n",
       "      <td>94007</td>\n",
       "    </tr>\n",
       "    <tr>\n",
       "      <th>4</th>\n",
       "      <td>Lifestyle</td>\n",
       "      <td>84565</td>\n",
       "    </tr>\n",
       "    <tr>\n",
       "      <th>5</th>\n",
       "      <td>Food &amp; Drink</td>\n",
       "      <td>73157</td>\n",
       "    </tr>\n",
       "    <tr>\n",
       "      <th>6</th>\n",
       "      <td>Health &amp; Fitness</td>\n",
       "      <td>60724</td>\n",
       "    </tr>\n",
       "    <tr>\n",
       "      <th>7</th>\n",
       "      <td>Productivity</td>\n",
       "      <td>59430</td>\n",
       "    </tr>\n",
       "    <tr>\n",
       "      <th>8</th>\n",
       "      <td>Entertainment</td>\n",
       "      <td>53147</td>\n",
       "    </tr>\n",
       "    <tr>\n",
       "      <th>9</th>\n",
       "      <td>Shopping</td>\n",
       "      <td>49537</td>\n",
       "    </tr>\n",
       "  </tbody>\n",
       "</table>\n",
       "</div>"
      ],
      "text/plain": [
       "      Primary_Genre   Count\n",
       "0             Games  193746\n",
       "1          Business  128297\n",
       "2         Education  119174\n",
       "3         Utilities   94007\n",
       "4         Lifestyle   84565\n",
       "5      Food & Drink   73157\n",
       "6  Health & Fitness   60724\n",
       "7      Productivity   59430\n",
       "8     Entertainment   53147\n",
       "9          Shopping   49537"
      ]
     },
     "execution_count": 66,
     "metadata": {},
     "output_type": "execute_result"
    }
   ],
   "source": [
    "#Lets See most installed app categories from the Apple Store\n",
    "Top_Cat = df['Primary_Genre'].value_counts(ascending = False).reset_index().rename(columns={'Primary_Genre':'Count','index':'Primary_Genre'}).head(10)\n",
    "Top_Cat"
   ]
  },
  {
   "cell_type": "code",
   "execution_count": 67,
   "id": "e8c0995a",
   "metadata": {
    "execution": {
     "iopub.execute_input": "2023-08-18T05:29:08.098979Z",
     "iopub.status.busy": "2023-08-18T05:29:08.098288Z",
     "iopub.status.idle": "2023-08-18T05:29:08.441778Z",
     "shell.execute_reply": "2023-08-18T05:29:08.440612Z"
    },
    "papermill": {
     "duration": 0.390803,
     "end_time": "2023-08-18T05:29:08.444012",
     "exception": false,
     "start_time": "2023-08-18T05:29:08.053209",
     "status": "completed"
    },
    "tags": []
   },
   "outputs": [
    {
     "data": {
      "text/plain": [
       "Text(0.5, 1.0, ' Top 10 Categories installed from the Apple Store')"
      ]
     },
     "execution_count": 67,
     "metadata": {},
     "output_type": "execute_result"
    },
    {
     "data": {
      "image/png": "[encoded data removed]",
      "text/plain": [
       "<Figure size 1600x600 with 1 Axes>"
      ]
     },
     "metadata": {},
     "output_type": "display_data"
    }
   ],
   "source": [
    "#Lets See most installed app categories from the Apple Store\n",
    "plt.figure(figsize=(16,6))\n",
    "sns.barplot(Top_Cat , x='Primary_Genre', y='Count')\n",
    "plt.xlabel('App Categories')\n",
    "plt.ylabel('Number of Apps')\n",
    "plt.title(' Top 10 Categories installed from the Apple Store')"
   ]
  },
  {
   "cell_type": "markdown",
   "id": "5959cc04",
   "metadata": {
    "papermill": {
     "duration": 0.04549,
     "end_time": "2023-08-18T05:29:08.533608",
     "exception": false,
     "start_time": "2023-08-18T05:29:08.488118",
     "status": "completed"
    },
    "tags": []
   },
   "source": [
    "**Figure_6:** Shows the Top 10 Categories that are installed from the Apple Store\n",
    "\n",
    "Answer 6:  Gaming Apps Categories are the most downloaded apps from the AppleApp store"
   ]
  },
  {
   "cell_type": "markdown",
   "id": "4584784d",
   "metadata": {
    "papermill": {
     "duration": 0.043743,
     "end_time": "2023-08-18T05:29:08.621827",
     "exception": false,
     "start_time": "2023-08-18T05:29:08.578084",
     "status": "completed"
    },
    "tags": []
   },
   "source": [
    "__________________"
   ]
  },
  {
   "cell_type": "markdown",
   "id": "c238576d",
   "metadata": {
    "papermill": {
     "duration": 0.044403,
     "end_time": "2023-08-18T05:29:08.711498",
     "exception": false,
     "start_time": "2023-08-18T05:29:08.667095",
     "status": "completed"
    },
    "tags": []
   },
   "source": [
    "Question 7: Which primary genre has the highest price on AppleApps?"
   ]
  },
  {
   "cell_type": "code",
   "execution_count": 68,
   "id": "9cc31ccf",
   "metadata": {
    "execution": {
     "iopub.execute_input": "2023-08-18T05:29:08.801734Z",
     "iopub.status.busy": "2023-08-18T05:29:08.800764Z",
     "iopub.status.idle": "2023-08-18T05:29:24.994160Z",
     "shell.execute_reply": "2023-08-18T05:29:24.992921Z"
    },
    "papermill": {
     "duration": 16.241463,
     "end_time": "2023-08-18T05:29:24.996927",
     "exception": false,
     "start_time": "2023-08-18T05:29:08.755464",
     "status": "completed"
    },
    "tags": []
   },
   "outputs": [
    {
     "data": {
      "text/plain": [
       "Text(0.5, 1.0, 'Price of Apps')"
      ]
     },
     "execution_count": 68,
     "metadata": {},
     "output_type": "execute_result"
    },
    {
     "data": {
      "image/png": "[encoded data removed]",
      "text/plain": [
       "<Figure size 800x800 with 1 Axes>"
      ]
     },
     "metadata": {},
     "output_type": "display_data"
    }
   ],
   "source": [
    "plt.figure(figsize=(8,8))\n",
    "sns.barplot(df, x=\"Price\", y=\"Primary_Genre\")\n",
    "plt.xlabel('Price in $')\n",
    "plt.ylabel('Category of App')\n",
    "plt.title('Price of Apps')"
   ]
  },
  {
   "cell_type": "markdown",
   "id": "08e95791",
   "metadata": {
    "papermill": {
     "duration": 0.045524,
     "end_time": "2023-08-18T05:29:25.089900",
     "exception": false,
     "start_time": "2023-08-18T05:29:25.044376",
     "status": "completed"
    },
    "tags": []
   },
   "source": [
    "**Figure_7:** Plot Shows the top 10 apps on AppleApps which have highest reviews.\n",
    "\n",
    "Answer 7: The primary genre  Graphics & Design has the highest price on AppleApps."
   ]
  },
  {
   "cell_type": "markdown",
   "id": "bcaf8ac6",
   "metadata": {
    "papermill": {
     "duration": 0.045901,
     "end_time": "2023-08-18T05:29:25.181852",
     "exception": false,
     "start_time": "2023-08-18T05:29:25.135951",
     "status": "completed"
    },
    "tags": []
   },
   "source": [
    "_____________________________"
   ]
  },
  {
   "cell_type": "markdown",
   "id": "03fcdf20",
   "metadata": {
    "papermill": {
     "duration": 0.045474,
     "end_time": "2023-08-18T05:29:25.273090",
     "exception": false,
     "start_time": "2023-08-18T05:29:25.227616",
     "status": "completed"
    },
    "tags": []
   },
   "source": [
    "Question 8: What are the top 10 IOS Versions Vs Count of app?"
   ]
  },
  {
   "cell_type": "code",
   "execution_count": 69,
   "id": "9ea0e174",
   "metadata": {
    "execution": {
     "iopub.execute_input": "2023-08-18T05:29:25.366189Z",
     "iopub.status.busy": "2023-08-18T05:29:25.365805Z",
     "iopub.status.idle": "2023-08-18T05:29:25.503413Z",
     "shell.execute_reply": "2023-08-18T05:29:25.502335Z"
    },
    "papermill": {
     "duration": 0.187132,
     "end_time": "2023-08-18T05:29:25.505808",
     "exception": false,
     "start_time": "2023-08-18T05:29:25.318676",
     "status": "completed"
    },
    "tags": []
   },
   "outputs": [
    {
     "data": {
      "text/html": [
       "<div>\n",
       "<style scoped>\n",
       "    .dataframe tbody tr th:only-of-type {\n",
       "        vertical-align: middle;\n",
       "    }\n",
       "\n",
       "    .dataframe tbody tr th {\n",
       "        vertical-align: top;\n",
       "    }\n",
       "\n",
       "    .dataframe thead th {\n",
       "        text-align: right;\n",
       "    }\n",
       "</style>\n",
       "<table border=\"1\" class=\"dataframe\">\n",
       "  <thead>\n",
       "    <tr style=\"text-align: right;\">\n",
       "      <th></th>\n",
       "      <th>Required_IOS_Version</th>\n",
       "      <th>Count</th>\n",
       "    </tr>\n",
       "  </thead>\n",
       "  <tbody>\n",
       "    <tr>\n",
       "      <th>92</th>\n",
       "      <td>11.0</td>\n",
       "      <td>210764</td>\n",
       "    </tr>\n",
       "    <tr>\n",
       "      <th>240</th>\n",
       "      <td>9.0</td>\n",
       "      <td>206439</td>\n",
       "    </tr>\n",
       "    <tr>\n",
       "      <th>1</th>\n",
       "      <td>10.0</td>\n",
       "      <td>196082</td>\n",
       "    </tr>\n",
       "    <tr>\n",
       "      <th>225</th>\n",
       "      <td>8.0</td>\n",
       "      <td>150973</td>\n",
       "    </tr>\n",
       "    <tr>\n",
       "      <th>113</th>\n",
       "      <td>12.0</td>\n",
       "      <td>94489</td>\n",
       "    </tr>\n",
       "    <tr>\n",
       "      <th>137</th>\n",
       "      <td>13.0</td>\n",
       "      <td>52160</td>\n",
       "    </tr>\n",
       "    <tr>\n",
       "      <th>214</th>\n",
       "      <td>7.0</td>\n",
       "      <td>46953</td>\n",
       "    </tr>\n",
       "    <tr>\n",
       "      <th>203</th>\n",
       "      <td>6.0</td>\n",
       "      <td>42845</td>\n",
       "    </tr>\n",
       "    <tr>\n",
       "      <th>116</th>\n",
       "      <td>12.1</td>\n",
       "      <td>20518</td>\n",
       "    </tr>\n",
       "    <tr>\n",
       "      <th>248</th>\n",
       "      <td>9.3</td>\n",
       "      <td>16151</td>\n",
       "    </tr>\n",
       "  </tbody>\n",
       "</table>\n",
       "</div>"
      ],
      "text/plain": [
       "    Required_IOS_Version   Count\n",
       "92                  11.0  210764\n",
       "240                  9.0  206439\n",
       "1                   10.0  196082\n",
       "225                  8.0  150973\n",
       "113                 12.0   94489\n",
       "137                 13.0   52160\n",
       "214                  7.0   46953\n",
       "203                  6.0   42845\n",
       "116                 12.1   20518\n",
       "248                  9.3   16151"
      ]
     },
     "execution_count": 69,
     "metadata": {},
     "output_type": "execute_result"
    }
   ],
   "source": [
    "# group the dataset by Primary_Genre and Type, and count the number of apps in each group\n",
    "ios_count = df.groupby(['Required_IOS_Version']).size().reset_index(name='Count').sort_values(by='Count', ascending=False).head(10)\n",
    "ios_count"
   ]
  },
  {
   "cell_type": "code",
   "execution_count": 70,
   "id": "bff5540a",
   "metadata": {
    "execution": {
     "iopub.execute_input": "2023-08-18T05:29:25.600730Z",
     "iopub.status.busy": "2023-08-18T05:29:25.599906Z",
     "iopub.status.idle": "2023-08-18T05:29:25.930446Z",
     "shell.execute_reply": "2023-08-18T05:29:25.929178Z"
    },
    "papermill": {
     "duration": 0.380163,
     "end_time": "2023-08-18T05:29:25.932841",
     "exception": false,
     "start_time": "2023-08-18T05:29:25.552678",
     "status": "completed"
    },
    "tags": []
   },
   "outputs": [
    {
     "data": {
      "text/plain": [
       "Text(0, 0.5, 'App Counts')"
      ]
     },
     "execution_count": 70,
     "metadata": {},
     "output_type": "execute_result"
    },
    {
     "data": {
      "image/png": "[encoded data removed]",
      "text/plain": [
       "<Figure size 1200x600 with 1 Axes>"
      ]
     },
     "metadata": {},
     "output_type": "display_data"
    }
   ],
   "source": [
    "plt.figure(figsize=(12,6))\n",
    "sns.barplot(ios_count , x='Required_IOS_Version', y='Count');\n",
    "plt.title('Top 10 IOS Versions Vs Count of app')\n",
    "plt.ylabel('App Counts')"
   ]
  },
  {
   "cell_type": "markdown",
   "id": "b18cab33",
   "metadata": {
    "papermill": {
     "duration": 0.047311,
     "end_time": "2023-08-18T05:29:26.027081",
     "exception": false,
     "start_time": "2023-08-18T05:29:25.979770",
     "status": "completed"
    },
    "tags": []
   },
   "source": [
    "**Figure_8:** Plot shows the Required_IOS_Version based on app counts.\n",
    "\n",
    "Answer 8: The vast majority of apps are designed to run on the latest version of iOS. This suggests that developers are focused on creating apps that are compatible with the latest devices and operating systems. "
   ]
  },
  {
   "cell_type": "markdown",
   "id": "fbd3dcbb",
   "metadata": {
    "papermill": {
     "duration": 0.0466,
     "end_time": "2023-08-18T05:29:26.124620",
     "exception": false,
     "start_time": "2023-08-18T05:29:26.078020",
     "status": "completed"
    },
    "tags": []
   },
   "source": [
    "_____________________________"
   ]
  },
  {
   "cell_type": "markdown",
   "id": "29d0b06b",
   "metadata": {
    "papermill": {
     "duration": 0.054416,
     "end_time": "2023-08-18T05:29:26.239696",
     "exception": false,
     "start_time": "2023-08-18T05:29:26.185280",
     "status": "completed"
    },
    "tags": []
   },
   "source": [
    "Question 9: What are the categories with the highest number of paid and free apps?"
   ]
  },
  {
   "cell_type": "code",
   "execution_count": 71,
   "id": "5948428f",
   "metadata": {
    "execution": {
     "iopub.execute_input": "2023-08-18T05:29:26.334610Z",
     "iopub.status.busy": "2023-08-18T05:29:26.334206Z",
     "iopub.status.idle": "2023-08-18T05:29:26.748407Z",
     "shell.execute_reply": "2023-08-18T05:29:26.747316Z"
    },
    "papermill": {
     "duration": 0.463729,
     "end_time": "2023-08-18T05:29:26.750724",
     "exception": false,
     "start_time": "2023-08-18T05:29:26.286995",
     "status": "completed"
    },
    "tags": []
   },
   "outputs": [
    {
     "data": {
      "text/html": [
       "<div>\n",
       "<style scoped>\n",
       "    .dataframe tbody tr th:only-of-type {\n",
       "        vertical-align: middle;\n",
       "    }\n",
       "\n",
       "    .dataframe tbody tr th {\n",
       "        vertical-align: top;\n",
       "    }\n",
       "\n",
       "    .dataframe thead th {\n",
       "        text-align: right;\n",
       "    }\n",
       "</style>\n",
       "<table border=\"1\" class=\"dataframe\">\n",
       "  <thead>\n",
       "    <tr style=\"text-align: right;\">\n",
       "      <th></th>\n",
       "      <th>Primary_Genre</th>\n",
       "      <th>Type</th>\n",
       "      <th>Counts</th>\n",
       "    </tr>\n",
       "  </thead>\n",
       "  <tbody>\n",
       "    <tr>\n",
       "      <th>0</th>\n",
       "      <td>Games</td>\n",
       "      <td>Free</td>\n",
       "      <td>177409</td>\n",
       "    </tr>\n",
       "    <tr>\n",
       "      <th>1</th>\n",
       "      <td>Business</td>\n",
       "      <td>Free</td>\n",
       "      <td>125535</td>\n",
       "    </tr>\n",
       "    <tr>\n",
       "      <th>2</th>\n",
       "      <td>Education</td>\n",
       "      <td>Free</td>\n",
       "      <td>101799</td>\n",
       "    </tr>\n",
       "    <tr>\n",
       "      <th>3</th>\n",
       "      <td>Utilities</td>\n",
       "      <td>Free</td>\n",
       "      <td>84284</td>\n",
       "    </tr>\n",
       "    <tr>\n",
       "      <th>4</th>\n",
       "      <td>Lifestyle</td>\n",
       "      <td>Free</td>\n",
       "      <td>81295</td>\n",
       "    </tr>\n",
       "  </tbody>\n",
       "</table>\n",
       "</div>"
      ],
      "text/plain": [
       "  Primary_Genre  Type  Counts\n",
       "0         Games  Free  177409\n",
       "1      Business  Free  125535\n",
       "2     Education  Free  101799\n",
       "3     Utilities  Free   84284\n",
       "4     Lifestyle  Free   81295"
      ]
     },
     "execution_count": 71,
     "metadata": {},
     "output_type": "execute_result"
    }
   ],
   "source": [
    "#Lets See the top top free Apps on AppleApps\n",
    "top_free_cat_apps  = df[['Primary_Genre', 'Type']].loc[df['Type'] == 'Free'].value_counts(ascending = False).reset_index(name = 'Counts').head()\n",
    "top_free_cat_apps"
   ]
  },
  {
   "cell_type": "code",
   "execution_count": 72,
   "id": "810a6e7b",
   "metadata": {
    "execution": {
     "iopub.execute_input": "2023-08-18T05:29:26.844945Z",
     "iopub.status.busy": "2023-08-18T05:29:26.844573Z",
     "iopub.status.idle": "2023-08-18T05:29:27.037119Z",
     "shell.execute_reply": "2023-08-18T05:29:27.036306Z"
    },
    "papermill": {
     "duration": 0.242144,
     "end_time": "2023-08-18T05:29:27.039196",
     "exception": false,
     "start_time": "2023-08-18T05:29:26.797052",
     "status": "completed"
    },
    "tags": []
   },
   "outputs": [
    {
     "data": {
      "text/html": [
       "<div>\n",
       "<style scoped>\n",
       "    .dataframe tbody tr th:only-of-type {\n",
       "        vertical-align: middle;\n",
       "    }\n",
       "\n",
       "    .dataframe tbody tr th {\n",
       "        vertical-align: top;\n",
       "    }\n",
       "\n",
       "    .dataframe thead th {\n",
       "        text-align: right;\n",
       "    }\n",
       "</style>\n",
       "<table border=\"1\" class=\"dataframe\">\n",
       "  <thead>\n",
       "    <tr style=\"text-align: right;\">\n",
       "      <th></th>\n",
       "      <th>Primary_Genre</th>\n",
       "      <th>Type</th>\n",
       "      <th>Counts</th>\n",
       "    </tr>\n",
       "  </thead>\n",
       "  <tbody>\n",
       "    <tr>\n",
       "      <th>0</th>\n",
       "      <td>Education</td>\n",
       "      <td>Paid</td>\n",
       "      <td>17375</td>\n",
       "    </tr>\n",
       "    <tr>\n",
       "      <th>1</th>\n",
       "      <td>Games</td>\n",
       "      <td>Paid</td>\n",
       "      <td>16337</td>\n",
       "    </tr>\n",
       "    <tr>\n",
       "      <th>2</th>\n",
       "      <td>Utilities</td>\n",
       "      <td>Paid</td>\n",
       "      <td>9723</td>\n",
       "    </tr>\n",
       "    <tr>\n",
       "      <th>3</th>\n",
       "      <td>Stickers</td>\n",
       "      <td>Paid</td>\n",
       "      <td>8865</td>\n",
       "    </tr>\n",
       "    <tr>\n",
       "      <th>4</th>\n",
       "      <td>Productivity</td>\n",
       "      <td>Paid</td>\n",
       "      <td>6006</td>\n",
       "    </tr>\n",
       "  </tbody>\n",
       "</table>\n",
       "</div>"
      ],
      "text/plain": [
       "  Primary_Genre  Type  Counts\n",
       "0     Education  Paid   17375\n",
       "1         Games  Paid   16337\n",
       "2     Utilities  Paid    9723\n",
       "3      Stickers  Paid    8865\n",
       "4  Productivity  Paid    6006"
      ]
     },
     "execution_count": 72,
     "metadata": {},
     "output_type": "execute_result"
    }
   ],
   "source": [
    "#Lets See the top top paid Apps on AppleApps\n",
    "top_paid_cat_apps  = df[['Primary_Genre', 'Type']].loc[df['Type'] == 'Paid'].value_counts(ascending = False).reset_index(name = 'Counts').head()\n",
    "top_paid_cat_apps"
   ]
  },
  {
   "cell_type": "markdown",
   "id": "725c0aee",
   "metadata": {
    "papermill": {
     "duration": 0.046519,
     "end_time": "2023-08-18T05:29:27.132122",
     "exception": false,
     "start_time": "2023-08-18T05:29:27.085603",
     "status": "completed"
    },
    "tags": []
   },
   "source": [
    "Answer 9: The Games categories have the highest number of free apps and Education categories have the highest number of paid apps"
   ]
  },
  {
   "cell_type": "markdown",
   "id": "9eeb29d6",
   "metadata": {
    "papermill": {
     "duration": 0.04705,
     "end_time": "2023-08-18T05:29:27.227100",
     "exception": false,
     "start_time": "2023-08-18T05:29:27.180050",
     "status": "completed"
    },
    "tags": []
   },
   "source": [
    "____________________________________"
   ]
  },
  {
   "cell_type": "markdown",
   "id": "05ebbdea",
   "metadata": {
    "papermill": {
     "duration": 0.049387,
     "end_time": "2023-08-18T05:29:27.324747",
     "exception": false,
     "start_time": "2023-08-18T05:29:27.275360",
     "status": "completed"
    },
    "tags": []
   },
   "source": [
    "Question 10: How do the annual changes (Year on Year) comparison of apps per Age_group?"
   ]
  },
  {
   "cell_type": "code",
   "execution_count": 73,
   "id": "1cdcf015",
   "metadata": {
    "execution": {
     "iopub.execute_input": "2023-08-18T05:29:27.423592Z",
     "iopub.status.busy": "2023-08-18T05:29:27.422865Z",
     "iopub.status.idle": "2023-08-18T05:29:27.687425Z",
     "shell.execute_reply": "2023-08-18T05:29:27.686321Z"
    },
    "papermill": {
     "duration": 0.316043,
     "end_time": "2023-08-18T05:29:27.690058",
     "exception": false,
     "start_time": "2023-08-18T05:29:27.374015",
     "status": "completed"
    },
    "tags": []
   },
   "outputs": [
    {
     "data": {
      "text/html": [
       "<div>\n",
       "<style scoped>\n",
       "    .dataframe tbody tr th:only-of-type {\n",
       "        vertical-align: middle;\n",
       "    }\n",
       "\n",
       "    .dataframe tbody tr th {\n",
       "        vertical-align: top;\n",
       "    }\n",
       "\n",
       "    .dataframe thead th {\n",
       "        text-align: right;\n",
       "    }\n",
       "</style>\n",
       "<table border=\"1\" class=\"dataframe\">\n",
       "  <thead>\n",
       "    <tr style=\"text-align: right;\">\n",
       "      <th>Age_group</th>\n",
       "      <th>Adults</th>\n",
       "      <th>Children</th>\n",
       "      <th>Everyone</th>\n",
       "      <th>Teens</th>\n",
       "    </tr>\n",
       "    <tr>\n",
       "      <th>Release_Year</th>\n",
       "      <th></th>\n",
       "      <th></th>\n",
       "      <th></th>\n",
       "      <th></th>\n",
       "    </tr>\n",
       "  </thead>\n",
       "  <tbody>\n",
       "    <tr>\n",
       "      <th>2008</th>\n",
       "      <td>25.0</td>\n",
       "      <td>568.0</td>\n",
       "      <td>2.0</td>\n",
       "      <td>22.0</td>\n",
       "    </tr>\n",
       "    <tr>\n",
       "      <th>2009</th>\n",
       "      <td>469.0</td>\n",
       "      <td>3397.0</td>\n",
       "      <td>4.0</td>\n",
       "      <td>183.0</td>\n",
       "    </tr>\n",
       "    <tr>\n",
       "      <th>2010</th>\n",
       "      <td>966.0</td>\n",
       "      <td>8816.0</td>\n",
       "      <td>NaN</td>\n",
       "      <td>300.0</td>\n",
       "    </tr>\n",
       "    <tr>\n",
       "      <th>2011</th>\n",
       "      <td>1512.0</td>\n",
       "      <td>16038.0</td>\n",
       "      <td>NaN</td>\n",
       "      <td>521.0</td>\n",
       "    </tr>\n",
       "    <tr>\n",
       "      <th>2012</th>\n",
       "      <td>2023.0</td>\n",
       "      <td>23236.0</td>\n",
       "      <td>NaN</td>\n",
       "      <td>725.0</td>\n",
       "    </tr>\n",
       "    <tr>\n",
       "      <th>2013</th>\n",
       "      <td>2676.0</td>\n",
       "      <td>32823.0</td>\n",
       "      <td>NaN</td>\n",
       "      <td>923.0</td>\n",
       "    </tr>\n",
       "    <tr>\n",
       "      <th>2014</th>\n",
       "      <td>3413.0</td>\n",
       "      <td>45666.0</td>\n",
       "      <td>NaN</td>\n",
       "      <td>1452.0</td>\n",
       "    </tr>\n",
       "    <tr>\n",
       "      <th>2015</th>\n",
       "      <td>5644.0</td>\n",
       "      <td>63792.0</td>\n",
       "      <td>NaN</td>\n",
       "      <td>2367.0</td>\n",
       "    </tr>\n",
       "    <tr>\n",
       "      <th>2016</th>\n",
       "      <td>9491.0</td>\n",
       "      <td>95781.0</td>\n",
       "      <td>NaN</td>\n",
       "      <td>3736.0</td>\n",
       "    </tr>\n",
       "    <tr>\n",
       "      <th>2017</th>\n",
       "      <td>9820.0</td>\n",
       "      <td>101888.0</td>\n",
       "      <td>NaN</td>\n",
       "      <td>3446.0</td>\n",
       "    </tr>\n",
       "    <tr>\n",
       "      <th>2018</th>\n",
       "      <td>9406.0</td>\n",
       "      <td>109202.0</td>\n",
       "      <td>NaN</td>\n",
       "      <td>3663.0</td>\n",
       "    </tr>\n",
       "    <tr>\n",
       "      <th>2019</th>\n",
       "      <td>11505.0</td>\n",
       "      <td>133513.0</td>\n",
       "      <td>1.0</td>\n",
       "      <td>4211.0</td>\n",
       "    </tr>\n",
       "    <tr>\n",
       "      <th>2020</th>\n",
       "      <td>17171.0</td>\n",
       "      <td>179525.0</td>\n",
       "      <td>NaN</td>\n",
       "      <td>7106.0</td>\n",
       "    </tr>\n",
       "    <tr>\n",
       "      <th>2021</th>\n",
       "      <td>15435.0</td>\n",
       "      <td>166683.0</td>\n",
       "      <td>3.0</td>\n",
       "      <td>7041.0</td>\n",
       "    </tr>\n",
       "    <tr>\n",
       "      <th>2022</th>\n",
       "      <td>13.0</td>\n",
       "      <td>41.0</td>\n",
       "      <td>NaN</td>\n",
       "      <td>1.0</td>\n",
       "    </tr>\n",
       "  </tbody>\n",
       "</table>\n",
       "</div>"
      ],
      "text/plain": [
       "Age_group      Adults  Children  Everyone   Teens\n",
       "Release_Year                                     \n",
       "2008             25.0     568.0       2.0    22.0\n",
       "2009            469.0    3397.0       4.0   183.0\n",
       "2010            966.0    8816.0       NaN   300.0\n",
       "2011           1512.0   16038.0       NaN   521.0\n",
       "2012           2023.0   23236.0       NaN   725.0\n",
       "2013           2676.0   32823.0       NaN   923.0\n",
       "2014           3413.0   45666.0       NaN  1452.0\n",
       "2015           5644.0   63792.0       NaN  2367.0\n",
       "2016           9491.0   95781.0       NaN  3736.0\n",
       "2017           9820.0  101888.0       NaN  3446.0\n",
       "2018           9406.0  109202.0       NaN  3663.0\n",
       "2019          11505.0  133513.0       1.0  4211.0\n",
       "2020          17171.0  179525.0       NaN  7106.0\n",
       "2021          15435.0  166683.0       3.0  7041.0\n",
       "2022             13.0      41.0       NaN     1.0"
      ]
     },
     "execution_count": 73,
     "metadata": {},
     "output_type": "execute_result"
    }
   ],
   "source": [
    "changes_yoy = df.groupby(['Release_Year', 'Age_group'])['Primary_Genre'].size().reset_index(name='count')\n",
    "changes_yoy = changes_yoy.pivot(index='Release_Year', columns='Age_group', values='count')\n",
    "changes_yoy"
   ]
  },
  {
   "cell_type": "code",
   "execution_count": 74,
   "id": "ada7d49e",
   "metadata": {
    "execution": {
     "iopub.execute_input": "2023-08-18T05:29:27.786004Z",
     "iopub.status.busy": "2023-08-18T05:29:27.785367Z",
     "iopub.status.idle": "2023-08-18T05:29:28.252336Z",
     "shell.execute_reply": "2023-08-18T05:29:28.251186Z"
    },
    "papermill": {
     "duration": 0.517454,
     "end_time": "2023-08-18T05:29:28.254541",
     "exception": false,
     "start_time": "2023-08-18T05:29:27.737087",
     "status": "completed"
    },
    "tags": []
   },
   "outputs": [
    {
     "data": {
      "image/png": "[encoded data removed]",
      "text/plain": [
       "<Figure size 1600x600 with 1 Axes>"
      ]
     },
     "metadata": {},
     "output_type": "display_data"
    }
   ],
   "source": [
    "# Generate the bar plot\n",
    "changes_yoy.plot(kind='bar', figsize=(16, 6))\n",
    "plt.title('Number of Movies Released by Age Group and Year')\n",
    "plt.xlabel('Year')\n",
    "plt.ylabel('Number of Movies')\n",
    "plt.show()"
   ]
  },
  {
   "cell_type": "markdown",
   "id": "70090a4b",
   "metadata": {
    "papermill": {
     "duration": 0.046978,
     "end_time": "2023-08-18T05:29:28.348877",
     "exception": false,
     "start_time": "2023-08-18T05:29:28.301899",
     "status": "completed"
    },
    "tags": []
   },
   "source": [
    "**Figure 9:** Shows Year-over-year engagement of different age groups on the App Store\n",
    "\n",
    "Answer 10: We notice that children category is the most popular, even though some non-kids apps are also rated for children. This is because the Children category has the most apps and the most users."
   ]
  },
  {
   "cell_type": "markdown",
   "id": "deacccc8",
   "metadata": {
    "papermill": {
     "duration": 0.047712,
     "end_time": "2023-08-18T05:29:28.443822",
     "exception": false,
     "start_time": "2023-08-18T05:29:28.396110",
     "status": "completed"
    },
    "tags": []
   },
   "source": [
    "____________________________________"
   ]
  },
  {
   "cell_type": "markdown",
   "id": "bc6aef45",
   "metadata": {
    "papermill": {
     "duration": 0.047441,
     "end_time": "2023-08-18T05:29:28.538797",
     "exception": false,
     "start_time": "2023-08-18T05:29:28.491356",
     "status": "completed"
    },
    "tags": []
   },
   "source": [
    "Question 11: How does the user rating per year based on the price?"
   ]
  },
  {
   "cell_type": "code",
   "execution_count": 75,
   "id": "bbbb556a",
   "metadata": {
    "execution": {
     "iopub.execute_input": "2023-08-18T05:29:28.636463Z",
     "iopub.status.busy": "2023-08-18T05:29:28.635487Z",
     "iopub.status.idle": "2023-08-18T05:29:28.822562Z",
     "shell.execute_reply": "2023-08-18T05:29:28.821342Z"
    },
    "papermill": {
     "duration": 0.238872,
     "end_time": "2023-08-18T05:29:28.825091",
     "exception": false,
     "start_time": "2023-08-18T05:29:28.586219",
     "status": "completed"
    },
    "tags": []
   },
   "outputs": [
    {
     "data": {
      "text/html": [
       "<div>\n",
       "<style scoped>\n",
       "    .dataframe tbody tr th:only-of-type {\n",
       "        vertical-align: middle;\n",
       "    }\n",
       "\n",
       "    .dataframe tbody tr th {\n",
       "        vertical-align: top;\n",
       "    }\n",
       "\n",
       "    .dataframe thead th {\n",
       "        text-align: right;\n",
       "    }\n",
       "</style>\n",
       "<table border=\"1\" class=\"dataframe\">\n",
       "  <thead>\n",
       "    <tr style=\"text-align: right;\">\n",
       "      <th></th>\n",
       "      <th>Average_User_Rating</th>\n",
       "      <th>Release_Year</th>\n",
       "      <th>Price</th>\n",
       "    </tr>\n",
       "  </thead>\n",
       "  <tbody>\n",
       "    <tr>\n",
       "      <th>0</th>\n",
       "      <td>0</td>\n",
       "      <td>2008</td>\n",
       "      <td>500.420000</td>\n",
       "    </tr>\n",
       "    <tr>\n",
       "      <th>1</th>\n",
       "      <td>0</td>\n",
       "      <td>2009</td>\n",
       "      <td>586.790000</td>\n",
       "    </tr>\n",
       "    <tr>\n",
       "      <th>2</th>\n",
       "      <td>0</td>\n",
       "      <td>2010</td>\n",
       "      <td>5187.400000</td>\n",
       "    </tr>\n",
       "    <tr>\n",
       "      <th>3</th>\n",
       "      <td>0</td>\n",
       "      <td>2011</td>\n",
       "      <td>17982.060000</td>\n",
       "    </tr>\n",
       "    <tr>\n",
       "      <th>4</th>\n",
       "      <td>0</td>\n",
       "      <td>2012</td>\n",
       "      <td>18442.210000</td>\n",
       "    </tr>\n",
       "    <tr>\n",
       "      <th>...</th>\n",
       "      <td>...</td>\n",
       "      <td>...</td>\n",
       "      <td>...</td>\n",
       "    </tr>\n",
       "    <tr>\n",
       "      <th>80</th>\n",
       "      <td>5</td>\n",
       "      <td>2017</td>\n",
       "      <td>8287.550000</td>\n",
       "    </tr>\n",
       "    <tr>\n",
       "      <th>81</th>\n",
       "      <td>5</td>\n",
       "      <td>2018</td>\n",
       "      <td>8728.970000</td>\n",
       "    </tr>\n",
       "    <tr>\n",
       "      <th>82</th>\n",
       "      <td>5</td>\n",
       "      <td>2019</td>\n",
       "      <td>9785.638409</td>\n",
       "    </tr>\n",
       "    <tr>\n",
       "      <th>83</th>\n",
       "      <td>5</td>\n",
       "      <td>2020</td>\n",
       "      <td>9220.196507</td>\n",
       "    </tr>\n",
       "    <tr>\n",
       "      <th>84</th>\n",
       "      <td>5</td>\n",
       "      <td>2021</td>\n",
       "      <td>6181.836663</td>\n",
       "    </tr>\n",
       "  </tbody>\n",
       "</table>\n",
       "<p>85 rows × 3 columns</p>\n",
       "</div>"
      ],
      "text/plain": [
       "    Average_User_Rating Release_Year         Price\n",
       "0                     0         2008    500.420000\n",
       "1                     0         2009    586.790000\n",
       "2                     0         2010   5187.400000\n",
       "3                     0         2011  17982.060000\n",
       "4                     0         2012  18442.210000\n",
       "..                  ...          ...           ...\n",
       "80                    5         2017   8287.550000\n",
       "81                    5         2018   8728.970000\n",
       "82                    5         2019   9785.638409\n",
       "83                    5         2020   9220.196507\n",
       "84                    5         2021   6181.836663\n",
       "\n",
       "[85 rows x 3 columns]"
      ]
     },
     "execution_count": 75,
     "metadata": {},
     "output_type": "execute_result"
    }
   ],
   "source": [
    "rating_per_price = df.groupby(['Average_User_Rating', 'Release_Year'])[['Price']].sum().reset_index()\n",
    "rating_per_price\n",
    "\n",
    "#rating_per_price.groupby(['Year_Release', 'Average_User_Rating'])['Price'].sum().unstack().plot(kind='bar', stacked=True)"
   ]
  },
  {
   "cell_type": "code",
   "execution_count": 76,
   "id": "59719c3a",
   "metadata": {
    "execution": {
     "iopub.execute_input": "2023-08-18T05:29:28.921628Z",
     "iopub.status.busy": "2023-08-18T05:29:28.921238Z",
     "iopub.status.idle": "2023-08-18T05:29:29.919505Z",
     "shell.execute_reply": "2023-08-18T05:29:29.918289Z"
    },
    "papermill": {
     "duration": 1.050443,
     "end_time": "2023-08-18T05:29:29.922863",
     "exception": false,
     "start_time": "2023-08-18T05:29:28.872420",
     "status": "completed"
    },
    "scrolled": true,
    "tags": []
   },
   "outputs": [
    {
     "data": {
      "text/plain": [
       "Text(0, 0.5, 'Price')"
      ]
     },
     "execution_count": 76,
     "metadata": {},
     "output_type": "execute_result"
    },
    {
     "data": {
      "image/png": "[encoded data removed]",
      "text/plain": [
       "<Figure size 1800x500 with 1 Axes>"
      ]
     },
     "metadata": {},
     "output_type": "display_data"
    }
   ],
   "source": [
    "plt.figure(figsize=(18,5))\n",
    "sns.barplot(data = rating_per_price, x = 'Release_Year', y = 'Price', hue = 'Average_User_Rating')\n",
    "plt.title('Every year rating per price',fontdict={'fontsize': 18})\n",
    "plt.xlabel('Release Year', fontdict={'fontsize': 18})\n",
    "plt.ylabel('Price', fontdict={'fontsize': 18})"
   ]
  },
  {
   "cell_type": "markdown",
   "id": "16a0ffd6",
   "metadata": {
    "papermill": {
     "duration": 0.051275,
     "end_time": "2023-08-18T05:29:30.023388",
     "exception": false,
     "start_time": "2023-08-18T05:29:29.972113",
     "status": "completed"
    },
    "tags": []
   },
   "source": [
    "**Figure_10:** Plot shows that As the rating increases, the app's price also goes up.\n",
    "\n",
    "Answer 11:  User rating per year based on the price is: The higher ratings result in higher app prices."
   ]
  },
  {
   "cell_type": "markdown",
   "id": "5534c760",
   "metadata": {
    "papermill": {
     "duration": 0.054304,
     "end_time": "2023-08-18T05:29:30.128132",
     "exception": false,
     "start_time": "2023-08-18T05:29:30.073828",
     "status": "completed"
    },
    "tags": []
   },
   "source": [
    "___________________________"
   ]
  },
  {
   "cell_type": "markdown",
   "id": "f9022530",
   "metadata": {
    "papermill": {
     "duration": 0.048467,
     "end_time": "2023-08-18T05:29:30.224805",
     "exception": false,
     "start_time": "2023-08-18T05:29:30.176338",
     "status": "completed"
    },
    "tags": []
   },
   "source": [
    "Question 12: Age_group vs PriceRange"
   ]
  },
  {
   "cell_type": "code",
   "execution_count": 77,
   "id": "fb2da492",
   "metadata": {
    "execution": {
     "iopub.execute_input": "2023-08-18T05:29:30.323910Z",
     "iopub.status.busy": "2023-08-18T05:29:30.323520Z",
     "iopub.status.idle": "2023-08-18T05:29:30.578978Z",
     "shell.execute_reply": "2023-08-18T05:29:30.577793Z"
    },
    "papermill": {
     "duration": 0.30811,
     "end_time": "2023-08-18T05:29:30.581492",
     "exception": false,
     "start_time": "2023-08-18T05:29:30.273382",
     "status": "completed"
    },
    "tags": []
   },
   "outputs": [
    {
     "data": {
      "text/html": [
       "<div>\n",
       "<style scoped>\n",
       "    .dataframe tbody tr th:only-of-type {\n",
       "        vertical-align: middle;\n",
       "    }\n",
       "\n",
       "    .dataframe tbody tr th {\n",
       "        vertical-align: top;\n",
       "    }\n",
       "\n",
       "    .dataframe thead th {\n",
       "        text-align: right;\n",
       "    }\n",
       "</style>\n",
       "<table border=\"1\" class=\"dataframe\">\n",
       "  <thead>\n",
       "    <tr style=\"text-align: right;\">\n",
       "      <th>Age_group</th>\n",
       "      <th>Adults</th>\n",
       "      <th>Children</th>\n",
       "      <th>Everyone</th>\n",
       "      <th>Teens</th>\n",
       "    </tr>\n",
       "    <tr>\n",
       "      <th>PriceRange</th>\n",
       "      <th></th>\n",
       "      <th></th>\n",
       "      <th></th>\n",
       "      <th></th>\n",
       "    </tr>\n",
       "  </thead>\n",
       "  <tbody>\n",
       "    <tr>\n",
       "      <th>0_1</th>\n",
       "      <td>1601.0</td>\n",
       "      <td>29720.0</td>\n",
       "      <td>4.0</td>\n",
       "      <td>1641.0</td>\n",
       "    </tr>\n",
       "    <tr>\n",
       "      <th>100_200</th>\n",
       "      <td>12.0</td>\n",
       "      <td>211.0</td>\n",
       "      <td>NaN</td>\n",
       "      <td>NaN</td>\n",
       "    </tr>\n",
       "    <tr>\n",
       "      <th>1_50</th>\n",
       "      <td>4414.0</td>\n",
       "      <td>57391.0</td>\n",
       "      <td>1.0</td>\n",
       "      <td>2308.0</td>\n",
       "    </tr>\n",
       "    <tr>\n",
       "      <th>200_300</th>\n",
       "      <td>5.0</td>\n",
       "      <td>67.0</td>\n",
       "      <td>NaN</td>\n",
       "      <td>NaN</td>\n",
       "    </tr>\n",
       "    <tr>\n",
       "      <th>300_400</th>\n",
       "      <td>1.0</td>\n",
       "      <td>36.0</td>\n",
       "      <td>NaN</td>\n",
       "      <td>NaN</td>\n",
       "    </tr>\n",
       "    <tr>\n",
       "      <th>400_500</th>\n",
       "      <td>NaN</td>\n",
       "      <td>13.0</td>\n",
       "      <td>NaN</td>\n",
       "      <td>1.0</td>\n",
       "    </tr>\n",
       "    <tr>\n",
       "      <th>500_1000</th>\n",
       "      <td>2.0</td>\n",
       "      <td>31.0</td>\n",
       "      <td>NaN</td>\n",
       "      <td>NaN</td>\n",
       "    </tr>\n",
       "    <tr>\n",
       "      <th>50_100</th>\n",
       "      <td>57.0</td>\n",
       "      <td>638.0</td>\n",
       "      <td>NaN</td>\n",
       "      <td>NaN</td>\n",
       "    </tr>\n",
       "    <tr>\n",
       "      <th>Free</th>\n",
       "      <td>83477.0</td>\n",
       "      <td>892862.0</td>\n",
       "      <td>5.0</td>\n",
       "      <td>31747.0</td>\n",
       "    </tr>\n",
       "  </tbody>\n",
       "</table>\n",
       "</div>"
      ],
      "text/plain": [
       "Age_group    Adults  Children  Everyone    Teens\n",
       "PriceRange                                      \n",
       "0_1          1601.0   29720.0       4.0   1641.0\n",
       "100_200        12.0     211.0       NaN      NaN\n",
       "1_50         4414.0   57391.0       1.0   2308.0\n",
       "200_300         5.0      67.0       NaN      NaN\n",
       "300_400         1.0      36.0       NaN      NaN\n",
       "400_500         NaN      13.0       NaN      1.0\n",
       "500_1000        2.0      31.0       NaN      NaN\n",
       "50_100         57.0     638.0       NaN      NaN\n",
       "Free        83477.0  892862.0       5.0  31747.0"
      ]
     },
     "execution_count": 77,
     "metadata": {},
     "output_type": "execute_result"
    }
   ],
   "source": [
    "#Lets See users price ranges in different age groups.\n",
    "age_price = df.groupby(['PriceRange', 'Age_group']).size().reset_index(name='count')\n",
    "age_price = age_price.pivot(index='PriceRange', columns='Age_group', values='count')\n",
    "age_price"
   ]
  },
  {
   "cell_type": "code",
   "execution_count": 78,
   "id": "55e295c8",
   "metadata": {
    "execution": {
     "iopub.execute_input": "2023-08-18T05:29:30.685523Z",
     "iopub.status.busy": "2023-08-18T05:29:30.684755Z",
     "iopub.status.idle": "2023-08-18T05:29:31.000731Z",
     "shell.execute_reply": "2023-08-18T05:29:30.999312Z"
    },
    "papermill": {
     "duration": 0.371996,
     "end_time": "2023-08-18T05:29:31.003326",
     "exception": false,
     "start_time": "2023-08-18T05:29:30.631330",
     "status": "completed"
    },
    "scrolled": true,
    "tags": []
   },
   "outputs": [
    {
     "data": {
      "image/png": "[encoded data removed]",
      "text/plain": [
       "<Figure size 640x480 with 1 Axes>"
      ]
     },
     "metadata": {},
     "output_type": "display_data"
    }
   ],
   "source": [
    "# Plotting the PriceRange\n",
    "age_price.plot(kind='bar')\n",
    "# Adding labels and title\n",
    "plt.xlabel('Price Range')\n",
    "plt.ylabel('Count')\n",
    "plt.title('Price Ranges in Different Age Groups')\n",
    "# Displaying the plot\n",
    "plt.show()"
   ]
  },
  {
   "cell_type": "markdown",
   "id": "f762341e",
   "metadata": {
    "papermill": {
     "duration": 0.049502,
     "end_time": "2023-08-18T05:29:31.102716",
     "exception": false,
     "start_time": "2023-08-18T05:29:31.053214",
     "status": "completed"
    },
    "tags": []
   },
   "source": [
    "**Figure_11:** Plot Shows, The highest number of apps are free, and the Children category has highest number of apps in AppleApps.\n",
    "\n",
    "Answer 12:The pivot table shows that the most popular price range for all age groups is free. The children category is the most popular, even though some non-kids apps are also rated for children. This is because the Children category has the most apps and the most users."
   ]
  },
  {
   "cell_type": "markdown",
   "id": "6c3b8958",
   "metadata": {
    "papermill": {
     "duration": 0.049387,
     "end_time": "2023-08-18T05:29:31.201355",
     "exception": false,
     "start_time": "2023-08-18T05:29:31.151968",
     "status": "completed"
    },
    "tags": []
   },
   "source": [
    "________________________________"
   ]
  },
  {
   "cell_type": "markdown",
   "id": "2ae52fed",
   "metadata": {
    "papermill": {
     "duration": 0.048804,
     "end_time": "2023-08-18T05:29:31.299027",
     "exception": false,
     "start_time": "2023-08-18T05:29:31.250223",
     "status": "completed"
    },
    "tags": []
   },
   "source": [
    "Question 13: How are the numeric attributes correlated with each other?"
   ]
  },
  {
   "cell_type": "code",
   "execution_count": 79,
   "id": "a159410d",
   "metadata": {
    "execution": {
     "iopub.execute_input": "2023-08-18T05:29:31.398960Z",
     "iopub.status.busy": "2023-08-18T05:29:31.398550Z",
     "iopub.status.idle": "2023-08-18T05:29:32.306192Z",
     "shell.execute_reply": "2023-08-18T05:29:32.305105Z"
    },
    "papermill": {
     "duration": 0.960331,
     "end_time": "2023-08-18T05:29:32.308380",
     "exception": false,
     "start_time": "2023-08-18T05:29:31.348049",
     "status": "completed"
    },
    "tags": []
   },
   "outputs": [
    {
     "data": {
      "text/plain": [
       "<Axes: >"
      ]
     },
     "execution_count": 79,
     "metadata": {},
     "output_type": "execute_result"
    },
    {
     "data": {
      "image/png": "[encoded data removed]",
      "text/plain": [
       "<Figure size 640x480 with 2 Axes>"
      ]
     },
     "metadata": {},
     "output_type": "display_data"
    }
   ],
   "source": [
    "#Lets See relations of numeric attributes on each other\n",
    "corr = df.corr(numeric_only = True, )\n",
    "sns.heatmap(corr,cbar= True, cmap='coolwarm', annot=True)"
   ]
  },
  {
   "cell_type": "markdown",
   "id": "c5a7e7e3",
   "metadata": {
    "papermill": {
     "duration": 0.051468,
     "end_time": "2023-08-18T05:29:32.411452",
     "exception": false,
     "start_time": "2023-08-18T05:29:32.359984",
     "status": "completed"
    },
    "tags": []
   },
   "source": [
    "**Figure_12:** Showing relationship between numerical features in the dataset.\n",
    "\n",
    "Answer 13:  The only attributes that seem to have a strong relation on each other are the average user rating and the current version score of an app."
   ]
  },
  {
   "cell_type": "markdown",
   "id": "c76cfd70",
   "metadata": {
    "papermill": {
     "duration": 0.051264,
     "end_time": "2023-08-18T05:29:32.513498",
     "exception": false,
     "start_time": "2023-08-18T05:29:32.462234",
     "status": "completed"
    },
    "tags": []
   },
   "source": [
    "___________________________________________________________________________________________________________________________"
   ]
  },
  {
   "cell_type": "markdown",
   "id": "4f081670",
   "metadata": {
    "papermill": {
     "duration": 0.05085,
     "end_time": "2023-08-18T05:29:32.615223",
     "exception": false,
     "start_time": "2023-08-18T05:29:32.564373",
     "status": "completed"
    },
    "tags": []
   },
   "source": [
    "# 12: Summary"
   ]
  },
  {
   "cell_type": "markdown",
   "id": "b4694641",
   "metadata": {
    "papermill": {
     "duration": 0.054589,
     "end_time": "2023-08-18T05:29:32.722305",
     "exception": false,
     "start_time": "2023-08-18T05:29:32.667716",
     "status": "completed"
    },
    "tags": []
   },
   "source": [
    "We conducted an EDA(Exploratory Data Analysis) on the Apple App Store dataset and found many interesting insights. The dataset was found to be relatively clean and consistent throughout the analysis. We inquired some questions to the dataset and provided detailed answers and findings as follows\":\n",
    "\n",
    "Q1. What are the top 10 Apps having highest reviews on AppleApp?\n",
    "<br>A1. YouTube App is most popular app have highest number of Reviews on AppleApps.\n",
    "\n",
    "Q2. Extract the number of apps released in each year\n",
    "<br>A2. The highest number of apps was released in 2020\n",
    "\n",
    "Q3. Names of Top 10 Education apps based on Reviews?\n",
    "<br>A3. The top Education app is Canvas Student, which stands out as one of the most popular applications on the Apple Apps.\n",
    "\n",
    "Q4. Names of Top 10 rated Book apps based on Age_groups?\n",
    "<br>A4.The book apps that are highly rated according to the Average_User_Rating are mostly popular in the children's category.\n",
    "\n",
    "Q5. Which developer has the most apps in the AppleApp Store?\n",
    "<br>A5. ChowNow developers has highest number of app development on app store.\n",
    "\n",
    "Q6. What are the top 10 Categories that are installed from the Apple Store?\n",
    "<br>A6. Gaming Apps Categories are the most downloaded apps from the AppleApp store\n",
    "\n",
    "Q7. Which primary genre has the highest price on AppleApps?\n",
    "<br>A7. The primary genre Graphics & Design has the highest price on AppleApps.\n",
    "\n",
    "Q8. What are the top 10 IOS Versions Vs Count of app?\n",
    "<br>A8. The vast majority of apps are designed to run on the latest version of iOS. This suggests that developers are focused on creating apps that are compatible with the latest devices and operating systems.\n",
    "\n",
    "Q9.  What are the categories with the highest number of paid and free apps?\n",
    "<br>A9. The Games categories have the highest number of free apps and Education categories have the highest number of paid apps\n",
    "\n",
    "Q10. How do the annual changes (Year on Year) comparison of apps per Age_group?\n",
    "<br>A10. We notice that children category is the most popular, even though some non-kids apps are also rated for children. This is because the Children category has the most apps and the most users.\n",
    "\n",
    "Q11. How does the user rating per year based on the price?\n",
    "<br>A11. User rating per year based on the price is: The higher ratings result in higher app prices.\n",
    "\n",
    "Q12.Age_group vs PriceRange\n",
    "<br>A12. The pivot table shows that the most popular price range for all age groups is free. The children category is the most popular, even though some non-kids apps are also rated for children. This is because the Children category has the most apps and the most users.\n",
    "\n",
    "Q13. How are the numeric attributes correlated with each other?\n",
    "<br>A13. The only attributes that seem to have a strong relation on each other are the average user rating and the current version score of an app."
   ]
  },
  {
   "cell_type": "markdown",
   "id": "c5f2f520",
   "metadata": {
    "papermill": {
     "duration": 0.05086,
     "end_time": "2023-08-18T05:29:32.824446",
     "exception": false,
     "start_time": "2023-08-18T05:29:32.773586",
     "status": "completed"
    },
    "tags": []
   },
   "source": [
    "_________________________________________"
   ]
  },
  {
   "cell_type": "markdown",
   "id": "08b4c696",
   "metadata": {
    "papermill": {
     "duration": 0.050548,
     "end_time": "2023-08-18T05:29:32.927257",
     "exception": false,
     "start_time": "2023-08-18T05:29:32.876709",
     "status": "completed"
    },
    "tags": []
   },
   "source": [
    "# Conclusion"
   ]
  },
  {
   "cell_type": "markdown",
   "id": "9db4a6f2",
   "metadata": {
    "papermill": {
     "duration": 0.051614,
     "end_time": "2023-08-18T05:29:33.029562",
     "exception": false,
     "start_time": "2023-08-18T05:29:32.977948",
     "status": "completed"
    },
    "tags": []
   },
   "source": [
    "The primary goal of this project is to analyze the AppleApp Store dataset and identify useful information. This will help developers and others stakeholders to understand customer behavior and preferences. By doing this, they can create better apps that meet the needs of their customers and generate more business.\n",
    "\n",
    "During this EDA exercise, we have achieved milestones:\n",
    "\n",
    "* We have cleaned the dataset from null values.\n",
    "* No duplications have been found. however there are some apps with the same name, each app is unique because it has a different version, AppId, and release date.\n",
    "\n",
    "Our findings include:\n",
    "\n",
    "* YouTube App is most popular app have highest number of Reviews\n",
    "* Gaming Apps Categories are the most downloaded apps.\n",
    "* ChowNow developers has highest number of app development on app store.\n",
    "* The Children category has the most apps and the most users."
   ]
  },
  {
   "cell_type": "markdown",
   "id": "b04799a9",
   "metadata": {
    "papermill": {
     "duration": 0.050549,
     "end_time": "2023-08-18T05:29:33.130910",
     "exception": false,
     "start_time": "2023-08-18T05:29:33.080361",
     "status": "completed"
    },
    "tags": []
   },
   "source": [
    "# Contact Details"
   ]
  },
  {
   "cell_type": "markdown",
   "id": "754036b6",
   "metadata": {
    "papermill": {
     "duration": 0.050265,
     "end_time": "2023-08-18T05:29:33.231756",
     "exception": false,
     "start_time": "2023-08-18T05:29:33.181491",
     "status": "completed"
    },
    "tags": []
   },
   "source": [
    "Click on link below to contact/follow/correct me:\n",
    "\n",
    "[Email](harooni0016@gmail.com)\n",
    "<br>[Github](https://github.com/harooni016)\n",
    "<br>[Linkden](https://www.linkedin.com/in/haroon-sajid)\n",
    "<br>[X_Twitter](https://twitter.com/)"
   ]
  },
  {
   "cell_type": "code",
   "execution_count": null,
   "id": "a9f95a60",
   "metadata": {},
   "outputs": [],
   "source": []
  }
 ],
 "metadata": {
  "kernelspec": {
   "display_name": "Python 3 (ipykernel)",
   "language": "python",
   "name": "python3"
  },
  "language_info": {
   "codemirror_mode": {
    "name": "ipython",
    "version": 3
   },
   "file_extension": ".py",
   "mimetype": "text/x-python",
   "name": "python",
   "nbconvert_exporter": "python",
   "pygments_lexer": "ipython3",
   "version": "3.10.9"
  },
  "papermill": {
   "default_parameters": {},
   "duration": 148.74262,
   "end_time": "2023-08-18T05:29:34.908425",
   "environment_variables": {},
   "exception": null,
   "input_path": "__notebook__.ipynb",
   "output_path": "__notebook__.ipynb",
   "parameters": {},
   "start_time": "2023-08-18T05:27:06.165805",
   "version": "2.4.0"
  }
 },
 "nbformat": 4,
 "nbformat_minor": 5
}
